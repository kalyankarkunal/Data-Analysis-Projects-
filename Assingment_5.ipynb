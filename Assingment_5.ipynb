{
  "nbformat": 4,
  "nbformat_minor": 0,
  "metadata": {
    "colab": {
      "provenance": [],
      "collapsed_sections": [],
      "authorship_tag": "ABX9TyNPgCGv6Dg9Qma35Hho/DX7",
      "include_colab_link": true
    },
    "kernelspec": {
      "name": "python3",
      "display_name": "Python 3"
    },
    "language_info": {
      "name": "python"
    }
  },
  "cells": [
    {
      "cell_type": "markdown",
      "metadata": {
        "id": "view-in-github",
        "colab_type": "text"
      },
      "source": [
        "<a href=\"https://colab.research.google.com/github/kalyankarkunal/Technook-ASSINGMENT/blob/main/Assingment_5.ipynb\" target=\"_parent\"><img src=\"https://colab.research.google.com/assets/colab-badge.svg\" alt=\"Open In Colab\"/></a>"
      ]
    },
    {
      "cell_type": "code",
      "execution_count": 1,
      "metadata": {
        "id": "gK9GwUem9CEM"
      },
      "outputs": [],
      "source": [
        "# Assigment 5\n",
        "# create 5 different modules example"
      ]
    },
    {
      "cell_type": "code",
      "source": [
        "import modulepy\n",
        "from importlib import reload\n",
        "reload(modulepy)\n",
        "modulepy.greeting(\"ram\")\n"
      ],
      "metadata": {
        "colab": {
          "base_uri": "https://localhost:8080/"
        },
        "id": "vx24FNyb9Pfk",
        "outputId": "3728ec83-8db9-498d-8449-7e886cd035d2"
      },
      "execution_count": 28,
      "outputs": [
        {
          "output_type": "stream",
          "name": "stdout",
          "text": [
            "Hello, ram\n"
          ]
        }
      ]
    },
    {
      "cell_type": "code",
      "source": [
        "import modulepy\n",
        "from importlib import reload\n",
        "reload(modulepy)\n",
        "modulepy.add1(55,85)\n"
      ],
      "metadata": {
        "colab": {
          "base_uri": "https://localhost:8080/"
        },
        "id": "7_3GVu6X98_5",
        "outputId": "5f785301-86a8-4e11-ac5f-89d312ecfb9a"
      },
      "execution_count": 23,
      "outputs": [
        {
          "output_type": "stream",
          "name": "stdout",
          "text": [
            "the addition of two values 140\n"
          ]
        }
      ]
    },
    {
      "cell_type": "code",
      "source": [
        "import modulepy\n",
        "# from importlib import reload\n",
        "# reload(modulepy)\n",
        "modulepy.sub1(55,85)"
      ],
      "metadata": {
        "colab": {
          "base_uri": "https://localhost:8080/"
        },
        "outputId": "1ae17134-5703-41c2-b520-d02641dd0597",
        "id": "I2Iv7IewCGyA"
      },
      "execution_count": 25,
      "outputs": [
        {
          "output_type": "stream",
          "name": "stdout",
          "text": [
            "the addition of two values -30\n"
          ]
        }
      ]
    },
    {
      "cell_type": "code",
      "source": [
        "import modulepy\n",
        "from importlib import reload\n",
        "reload(modulepy)\n",
        "# modulepy.add1('num1','num2')\n",
        "# modulepy.sub1(55,85)\n",
        "# modulepy.mul1(55,85)\n",
        "# modulepy.mod1(55,85)\n",
        "# modulepy.div1(55,85)\n",
        "modulepy.company(\"infosys\",\"karnataka\",52032) \n"
      ],
      "metadata": {
        "colab": {
          "base_uri": "https://localhost:8080/"
        },
        "outputId": "92f71ce0-1432-4fc3-ab26-91e4c70b06af",
        "id": "s3drvYpXCPJv"
      },
      "execution_count": 56,
      "outputs": [
        {
          "output_type": "stream",
          "name": "stdout",
          "text": [
            "most profitable company is infosys \n",
            " and it located in karnataka \n",
            " pincode is 52032\n"
          ]
        }
      ]
    },
    {
      "cell_type": "code",
      "source": [
        "import modulepy\n",
        "from importlib import reload\n",
        "reload(modulepy)\n",
        "# modulepy.add1('num1','num2')\n",
        "# modulepy.sub1(55,85)\n",
        "# modulepy.mul1(55,85)\n",
        "# modulepy.mod1(55,85)\n",
        "# modulepy.div1(55,85)\n",
        "modulepy.company('name','address','pincode') \n",
        "modulepy.company1(name=\"wipro\",address=\"india\",pincode=400050) \n",
        "modulepy.company2(\"samsung\",\"korea\",5265265)"
      ],
      "metadata": {
        "colab": {
          "base_uri": "https://localhost:8080/"
        },
        "outputId": "b28ebaff-3d99-43c1-902a-259fc06a2e0d",
        "id": "YAK3NjrYaTZZ"
      },
      "execution_count": 69,
      "outputs": [
        {
          "output_type": "stream",
          "name": "stdout",
          "text": [
            "enter name of comapny:52\n",
            "enter add of comapny:56\n",
            "enter pincode of comapny:+65\n",
            "most profitable company is 52 \n",
            " and it located in 56 \n",
            " pincode is +65\n",
            "most profitable company is wipro \n",
            " and it located in india \n",
            " pincode is 400050\n",
            "most profitable company is: samsung \n",
            " and it located in: korea \n",
            " pincode is: 5265265\n"
          ]
        }
      ]
    },
    {
      "cell_type": "code",
      "source": [],
      "metadata": {
        "id": "8tyxZMyqE1n5"
      },
      "execution_count": null,
      "outputs": []
    }
  ]
}