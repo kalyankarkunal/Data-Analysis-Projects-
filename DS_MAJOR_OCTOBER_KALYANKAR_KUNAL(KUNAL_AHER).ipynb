{
  "cells": [
    {
      "cell_type": "markdown",
      "metadata": {
        "id": "view-in-github",
        "colab_type": "text"
      },
      "source": [
        "<a href=\"https://colab.research.google.com/github/kalyankarkunal/Technook-ASSINGMENT/blob/main/DS_MAJOR_OCTOBER_KALYANKAR_KUNAL(KUNAL_AHER).ipynb\" target=\"_parent\"><img src=\"https://colab.research.google.com/assets/colab-badge.svg\" alt=\"Open In Colab\"/></a>"
      ]
    },
    {
      "cell_type": "markdown",
      "source": [
        "Question:Major Project\n",
        "\n",
        "Take any Dataset of your choice ,perform EDA(Exploratory Data Analysis) and apply a\n",
        "suitable Classifier,Regressor or Clusterer and calculate the accuracy of the model.\n",
        "\n",
        "dataset=crop production,\n",
        "sutaible algorithm is linear regression \n"
      ],
      "metadata": {
        "id": "o9ZufBl1RSkI"
      },
      "id": "o9ZufBl1RSkI"
    },
    {
      "cell_type": "code",
      "execution_count": 1,
      "id": "67edf509-52cf-4651-ae28-df12298cd269",
      "metadata": {
        "colab": {
          "base_uri": "https://localhost:8080/",
          "height": 423
        },
        "id": "67edf509-52cf-4651-ae28-df12298cd269",
        "outputId": "9696d7db-cd31-473e-a0b2-f1fa80de4b4f"
      },
      "outputs": [
        {
          "output_type": "execute_result",
          "data": {
            "text/plain": [
              "                         State_Name District_Name  Crop_Year       Season  \\\n",
              "0       Andaman and Nicobar Islands      NICOBARS       2000  Kharif        \n",
              "1       Andaman and Nicobar Islands      NICOBARS       2000  Kharif        \n",
              "2       Andaman and Nicobar Islands      NICOBARS       2000  Kharif        \n",
              "3       Andaman and Nicobar Islands      NICOBARS       2000  Whole Year    \n",
              "4       Andaman and Nicobar Islands      NICOBARS       2000  Whole Year    \n",
              "...                             ...           ...        ...          ...   \n",
              "246086                  West Bengal       PURULIA       2014  Summer        \n",
              "246087                  West Bengal       PURULIA       2014  Summer        \n",
              "246088                  West Bengal       PURULIA       2014  Whole Year    \n",
              "246089                  West Bengal       PURULIA       2014  Winter        \n",
              "246090                  West Bengal       PURULIA       2014  Winter        \n",
              "\n",
              "                       Crop      Area  Production  \n",
              "0                  Arecanut    1254.0      2000.0  \n",
              "1       Other Kharif pulses       2.0         1.0  \n",
              "2                      Rice     102.0       321.0  \n",
              "3                    Banana     176.0       641.0  \n",
              "4                 Cashewnut     720.0       165.0  \n",
              "...                     ...       ...         ...  \n",
              "246086                 Rice     306.0       801.0  \n",
              "246087              Sesamum     627.0       463.0  \n",
              "246088            Sugarcane     324.0     16250.0  \n",
              "246089                 Rice  279151.0    597899.0  \n",
              "246090              Sesamum     175.0        88.0  \n",
              "\n",
              "[246091 rows x 7 columns]"
            ],
            "text/html": [
              "\n",
              "  <div id=\"df-66353809-5c5d-4a6d-b426-6e22bfef8107\">\n",
              "    <div class=\"colab-df-container\">\n",
              "      <div>\n",
              "<style scoped>\n",
              "    .dataframe tbody tr th:only-of-type {\n",
              "        vertical-align: middle;\n",
              "    }\n",
              "\n",
              "    .dataframe tbody tr th {\n",
              "        vertical-align: top;\n",
              "    }\n",
              "\n",
              "    .dataframe thead th {\n",
              "        text-align: right;\n",
              "    }\n",
              "</style>\n",
              "<table border=\"1\" class=\"dataframe\">\n",
              "  <thead>\n",
              "    <tr style=\"text-align: right;\">\n",
              "      <th></th>\n",
              "      <th>State_Name</th>\n",
              "      <th>District_Name</th>\n",
              "      <th>Crop_Year</th>\n",
              "      <th>Season</th>\n",
              "      <th>Crop</th>\n",
              "      <th>Area</th>\n",
              "      <th>Production</th>\n",
              "    </tr>\n",
              "  </thead>\n",
              "  <tbody>\n",
              "    <tr>\n",
              "      <th>0</th>\n",
              "      <td>Andaman and Nicobar Islands</td>\n",
              "      <td>NICOBARS</td>\n",
              "      <td>2000</td>\n",
              "      <td>Kharif</td>\n",
              "      <td>Arecanut</td>\n",
              "      <td>1254.0</td>\n",
              "      <td>2000.0</td>\n",
              "    </tr>\n",
              "    <tr>\n",
              "      <th>1</th>\n",
              "      <td>Andaman and Nicobar Islands</td>\n",
              "      <td>NICOBARS</td>\n",
              "      <td>2000</td>\n",
              "      <td>Kharif</td>\n",
              "      <td>Other Kharif pulses</td>\n",
              "      <td>2.0</td>\n",
              "      <td>1.0</td>\n",
              "    </tr>\n",
              "    <tr>\n",
              "      <th>2</th>\n",
              "      <td>Andaman and Nicobar Islands</td>\n",
              "      <td>NICOBARS</td>\n",
              "      <td>2000</td>\n",
              "      <td>Kharif</td>\n",
              "      <td>Rice</td>\n",
              "      <td>102.0</td>\n",
              "      <td>321.0</td>\n",
              "    </tr>\n",
              "    <tr>\n",
              "      <th>3</th>\n",
              "      <td>Andaman and Nicobar Islands</td>\n",
              "      <td>NICOBARS</td>\n",
              "      <td>2000</td>\n",
              "      <td>Whole Year</td>\n",
              "      <td>Banana</td>\n",
              "      <td>176.0</td>\n",
              "      <td>641.0</td>\n",
              "    </tr>\n",
              "    <tr>\n",
              "      <th>4</th>\n",
              "      <td>Andaman and Nicobar Islands</td>\n",
              "      <td>NICOBARS</td>\n",
              "      <td>2000</td>\n",
              "      <td>Whole Year</td>\n",
              "      <td>Cashewnut</td>\n",
              "      <td>720.0</td>\n",
              "      <td>165.0</td>\n",
              "    </tr>\n",
              "    <tr>\n",
              "      <th>...</th>\n",
              "      <td>...</td>\n",
              "      <td>...</td>\n",
              "      <td>...</td>\n",
              "      <td>...</td>\n",
              "      <td>...</td>\n",
              "      <td>...</td>\n",
              "      <td>...</td>\n",
              "    </tr>\n",
              "    <tr>\n",
              "      <th>246086</th>\n",
              "      <td>West Bengal</td>\n",
              "      <td>PURULIA</td>\n",
              "      <td>2014</td>\n",
              "      <td>Summer</td>\n",
              "      <td>Rice</td>\n",
              "      <td>306.0</td>\n",
              "      <td>801.0</td>\n",
              "    </tr>\n",
              "    <tr>\n",
              "      <th>246087</th>\n",
              "      <td>West Bengal</td>\n",
              "      <td>PURULIA</td>\n",
              "      <td>2014</td>\n",
              "      <td>Summer</td>\n",
              "      <td>Sesamum</td>\n",
              "      <td>627.0</td>\n",
              "      <td>463.0</td>\n",
              "    </tr>\n",
              "    <tr>\n",
              "      <th>246088</th>\n",
              "      <td>West Bengal</td>\n",
              "      <td>PURULIA</td>\n",
              "      <td>2014</td>\n",
              "      <td>Whole Year</td>\n",
              "      <td>Sugarcane</td>\n",
              "      <td>324.0</td>\n",
              "      <td>16250.0</td>\n",
              "    </tr>\n",
              "    <tr>\n",
              "      <th>246089</th>\n",
              "      <td>West Bengal</td>\n",
              "      <td>PURULIA</td>\n",
              "      <td>2014</td>\n",
              "      <td>Winter</td>\n",
              "      <td>Rice</td>\n",
              "      <td>279151.0</td>\n",
              "      <td>597899.0</td>\n",
              "    </tr>\n",
              "    <tr>\n",
              "      <th>246090</th>\n",
              "      <td>West Bengal</td>\n",
              "      <td>PURULIA</td>\n",
              "      <td>2014</td>\n",
              "      <td>Winter</td>\n",
              "      <td>Sesamum</td>\n",
              "      <td>175.0</td>\n",
              "      <td>88.0</td>\n",
              "    </tr>\n",
              "  </tbody>\n",
              "</table>\n",
              "<p>246091 rows × 7 columns</p>\n",
              "</div>\n",
              "      <button class=\"colab-df-convert\" onclick=\"convertToInteractive('df-66353809-5c5d-4a6d-b426-6e22bfef8107')\"\n",
              "              title=\"Convert this dataframe to an interactive table.\"\n",
              "              style=\"display:none;\">\n",
              "        \n",
              "  <svg xmlns=\"http://www.w3.org/2000/svg\" height=\"24px\"viewBox=\"0 0 24 24\"\n",
              "       width=\"24px\">\n",
              "    <path d=\"M0 0h24v24H0V0z\" fill=\"none\"/>\n",
              "    <path d=\"M18.56 5.44l.94 2.06.94-2.06 2.06-.94-2.06-.94-.94-2.06-.94 2.06-2.06.94zm-11 1L8.5 8.5l.94-2.06 2.06-.94-2.06-.94L8.5 2.5l-.94 2.06-2.06.94zm10 10l.94 2.06.94-2.06 2.06-.94-2.06-.94-.94-2.06-.94 2.06-2.06.94z\"/><path d=\"M17.41 7.96l-1.37-1.37c-.4-.4-.92-.59-1.43-.59-.52 0-1.04.2-1.43.59L10.3 9.45l-7.72 7.72c-.78.78-.78 2.05 0 2.83L4 21.41c.39.39.9.59 1.41.59.51 0 1.02-.2 1.41-.59l7.78-7.78 2.81-2.81c.8-.78.8-2.07 0-2.86zM5.41 20L4 18.59l7.72-7.72 1.47 1.35L5.41 20z\"/>\n",
              "  </svg>\n",
              "      </button>\n",
              "      \n",
              "  <style>\n",
              "    .colab-df-container {\n",
              "      display:flex;\n",
              "      flex-wrap:wrap;\n",
              "      gap: 12px;\n",
              "    }\n",
              "\n",
              "    .colab-df-convert {\n",
              "      background-color: #E8F0FE;\n",
              "      border: none;\n",
              "      border-radius: 50%;\n",
              "      cursor: pointer;\n",
              "      display: none;\n",
              "      fill: #1967D2;\n",
              "      height: 32px;\n",
              "      padding: 0 0 0 0;\n",
              "      width: 32px;\n",
              "    }\n",
              "\n",
              "    .colab-df-convert:hover {\n",
              "      background-color: #E2EBFA;\n",
              "      box-shadow: 0px 1px 2px rgba(60, 64, 67, 0.3), 0px 1px 3px 1px rgba(60, 64, 67, 0.15);\n",
              "      fill: #174EA6;\n",
              "    }\n",
              "\n",
              "    [theme=dark] .colab-df-convert {\n",
              "      background-color: #3B4455;\n",
              "      fill: #D2E3FC;\n",
              "    }\n",
              "\n",
              "    [theme=dark] .colab-df-convert:hover {\n",
              "      background-color: #434B5C;\n",
              "      box-shadow: 0px 1px 3px 1px rgba(0, 0, 0, 0.15);\n",
              "      filter: drop-shadow(0px 1px 2px rgba(0, 0, 0, 0.3));\n",
              "      fill: #FFFFFF;\n",
              "    }\n",
              "  </style>\n",
              "\n",
              "      <script>\n",
              "        const buttonEl =\n",
              "          document.querySelector('#df-66353809-5c5d-4a6d-b426-6e22bfef8107 button.colab-df-convert');\n",
              "        buttonEl.style.display =\n",
              "          google.colab.kernel.accessAllowed ? 'block' : 'none';\n",
              "\n",
              "        async function convertToInteractive(key) {\n",
              "          const element = document.querySelector('#df-66353809-5c5d-4a6d-b426-6e22bfef8107');\n",
              "          const dataTable =\n",
              "            await google.colab.kernel.invokeFunction('convertToInteractive',\n",
              "                                                     [key], {});\n",
              "          if (!dataTable) return;\n",
              "\n",
              "          const docLinkHtml = 'Like what you see? Visit the ' +\n",
              "            '<a target=\"_blank\" href=https://colab.research.google.com/notebooks/data_table.ipynb>data table notebook</a>'\n",
              "            + ' to learn more about interactive tables.';\n",
              "          element.innerHTML = '';\n",
              "          dataTable['output_type'] = 'display_data';\n",
              "          await google.colab.output.renderOutput(dataTable, element);\n",
              "          const docLink = document.createElement('div');\n",
              "          docLink.innerHTML = docLinkHtml;\n",
              "          element.appendChild(docLink);\n",
              "        }\n",
              "      </script>\n",
              "    </div>\n",
              "  </div>\n",
              "  "
            ]
          },
          "metadata": {},
          "execution_count": 1
        }
      ],
      "source": [
        "import os\n",
        "import sys\n",
        "import numpy as np\n",
        "import matplotlib.pyplot as plt\n",
        "import pandas as pd\n",
        "\n",
        "df = pd.read_csv(\"/content/crop_production.csv\")\n",
        "df"
      ]
    },
    {
      "cell_type": "code",
      "execution_count": 2,
      "id": "814b28fa-54b6-4e3f-9f7a-6d31c4e39779",
      "metadata": {
        "colab": {
          "base_uri": "https://localhost:8080/"
        },
        "id": "814b28fa-54b6-4e3f-9f7a-6d31c4e39779",
        "outputId": "3c3e3738-1ac3-41ed-9169-4df862279c85"
      },
      "outputs": [
        {
          "output_type": "stream",
          "name": "stdout",
          "text": [
            "<class 'pandas.core.frame.DataFrame'>\n",
            "RangeIndex: 246091 entries, 0 to 246090\n",
            "Data columns (total 7 columns):\n",
            " #   Column         Non-Null Count   Dtype  \n",
            "---  ------         --------------   -----  \n",
            " 0   State_Name     246091 non-null  object \n",
            " 1   District_Name  246091 non-null  object \n",
            " 2   Crop_Year      246091 non-null  int64  \n",
            " 3   Season         246091 non-null  object \n",
            " 4   Crop           246091 non-null  object \n",
            " 5   Area           246091 non-null  float64\n",
            " 6   Production     242361 non-null  float64\n",
            "dtypes: float64(2), int64(1), object(4)\n",
            "memory usage: 13.1+ MB\n"
          ]
        }
      ],
      "source": [
        "df.info()"
      ]
    },
    {
      "cell_type": "code",
      "execution_count": 3,
      "id": "3cdcda2b-f93b-4464-ac6e-f73095177f87",
      "metadata": {
        "colab": {
          "base_uri": "https://localhost:8080/",
          "height": 206
        },
        "id": "3cdcda2b-f93b-4464-ac6e-f73095177f87",
        "outputId": "374d889a-ff4b-44ae-8066-c44de9698a58"
      },
      "outputs": [
        {
          "output_type": "execute_result",
          "data": {
            "text/plain": [
              "                    State_Name District_Name  Crop_Year       Season  \\\n",
              "0  Andaman and Nicobar Islands      NICOBARS       2000  Kharif        \n",
              "1  Andaman and Nicobar Islands      NICOBARS       2000  Kharif        \n",
              "2  Andaman and Nicobar Islands      NICOBARS       2000  Kharif        \n",
              "3  Andaman and Nicobar Islands      NICOBARS       2000  Whole Year    \n",
              "4  Andaman and Nicobar Islands      NICOBARS       2000  Whole Year    \n",
              "\n",
              "                  Crop    Area  Production  \n",
              "0             Arecanut  1254.0      2000.0  \n",
              "1  Other Kharif pulses     2.0         1.0  \n",
              "2                 Rice   102.0       321.0  \n",
              "3               Banana   176.0       641.0  \n",
              "4            Cashewnut   720.0       165.0  "
            ],
            "text/html": [
              "\n",
              "  <div id=\"df-497d2e38-d468-49a5-af45-3c1b0a37649c\">\n",
              "    <div class=\"colab-df-container\">\n",
              "      <div>\n",
              "<style scoped>\n",
              "    .dataframe tbody tr th:only-of-type {\n",
              "        vertical-align: middle;\n",
              "    }\n",
              "\n",
              "    .dataframe tbody tr th {\n",
              "        vertical-align: top;\n",
              "    }\n",
              "\n",
              "    .dataframe thead th {\n",
              "        text-align: right;\n",
              "    }\n",
              "</style>\n",
              "<table border=\"1\" class=\"dataframe\">\n",
              "  <thead>\n",
              "    <tr style=\"text-align: right;\">\n",
              "      <th></th>\n",
              "      <th>State_Name</th>\n",
              "      <th>District_Name</th>\n",
              "      <th>Crop_Year</th>\n",
              "      <th>Season</th>\n",
              "      <th>Crop</th>\n",
              "      <th>Area</th>\n",
              "      <th>Production</th>\n",
              "    </tr>\n",
              "  </thead>\n",
              "  <tbody>\n",
              "    <tr>\n",
              "      <th>0</th>\n",
              "      <td>Andaman and Nicobar Islands</td>\n",
              "      <td>NICOBARS</td>\n",
              "      <td>2000</td>\n",
              "      <td>Kharif</td>\n",
              "      <td>Arecanut</td>\n",
              "      <td>1254.0</td>\n",
              "      <td>2000.0</td>\n",
              "    </tr>\n",
              "    <tr>\n",
              "      <th>1</th>\n",
              "      <td>Andaman and Nicobar Islands</td>\n",
              "      <td>NICOBARS</td>\n",
              "      <td>2000</td>\n",
              "      <td>Kharif</td>\n",
              "      <td>Other Kharif pulses</td>\n",
              "      <td>2.0</td>\n",
              "      <td>1.0</td>\n",
              "    </tr>\n",
              "    <tr>\n",
              "      <th>2</th>\n",
              "      <td>Andaman and Nicobar Islands</td>\n",
              "      <td>NICOBARS</td>\n",
              "      <td>2000</td>\n",
              "      <td>Kharif</td>\n",
              "      <td>Rice</td>\n",
              "      <td>102.0</td>\n",
              "      <td>321.0</td>\n",
              "    </tr>\n",
              "    <tr>\n",
              "      <th>3</th>\n",
              "      <td>Andaman and Nicobar Islands</td>\n",
              "      <td>NICOBARS</td>\n",
              "      <td>2000</td>\n",
              "      <td>Whole Year</td>\n",
              "      <td>Banana</td>\n",
              "      <td>176.0</td>\n",
              "      <td>641.0</td>\n",
              "    </tr>\n",
              "    <tr>\n",
              "      <th>4</th>\n",
              "      <td>Andaman and Nicobar Islands</td>\n",
              "      <td>NICOBARS</td>\n",
              "      <td>2000</td>\n",
              "      <td>Whole Year</td>\n",
              "      <td>Cashewnut</td>\n",
              "      <td>720.0</td>\n",
              "      <td>165.0</td>\n",
              "    </tr>\n",
              "  </tbody>\n",
              "</table>\n",
              "</div>\n",
              "      <button class=\"colab-df-convert\" onclick=\"convertToInteractive('df-497d2e38-d468-49a5-af45-3c1b0a37649c')\"\n",
              "              title=\"Convert this dataframe to an interactive table.\"\n",
              "              style=\"display:none;\">\n",
              "        \n",
              "  <svg xmlns=\"http://www.w3.org/2000/svg\" height=\"24px\"viewBox=\"0 0 24 24\"\n",
              "       width=\"24px\">\n",
              "    <path d=\"M0 0h24v24H0V0z\" fill=\"none\"/>\n",
              "    <path d=\"M18.56 5.44l.94 2.06.94-2.06 2.06-.94-2.06-.94-.94-2.06-.94 2.06-2.06.94zm-11 1L8.5 8.5l.94-2.06 2.06-.94-2.06-.94L8.5 2.5l-.94 2.06-2.06.94zm10 10l.94 2.06.94-2.06 2.06-.94-2.06-.94-.94-2.06-.94 2.06-2.06.94z\"/><path d=\"M17.41 7.96l-1.37-1.37c-.4-.4-.92-.59-1.43-.59-.52 0-1.04.2-1.43.59L10.3 9.45l-7.72 7.72c-.78.78-.78 2.05 0 2.83L4 21.41c.39.39.9.59 1.41.59.51 0 1.02-.2 1.41-.59l7.78-7.78 2.81-2.81c.8-.78.8-2.07 0-2.86zM5.41 20L4 18.59l7.72-7.72 1.47 1.35L5.41 20z\"/>\n",
              "  </svg>\n",
              "      </button>\n",
              "      \n",
              "  <style>\n",
              "    .colab-df-container {\n",
              "      display:flex;\n",
              "      flex-wrap:wrap;\n",
              "      gap: 12px;\n",
              "    }\n",
              "\n",
              "    .colab-df-convert {\n",
              "      background-color: #E8F0FE;\n",
              "      border: none;\n",
              "      border-radius: 50%;\n",
              "      cursor: pointer;\n",
              "      display: none;\n",
              "      fill: #1967D2;\n",
              "      height: 32px;\n",
              "      padding: 0 0 0 0;\n",
              "      width: 32px;\n",
              "    }\n",
              "\n",
              "    .colab-df-convert:hover {\n",
              "      background-color: #E2EBFA;\n",
              "      box-shadow: 0px 1px 2px rgba(60, 64, 67, 0.3), 0px 1px 3px 1px rgba(60, 64, 67, 0.15);\n",
              "      fill: #174EA6;\n",
              "    }\n",
              "\n",
              "    [theme=dark] .colab-df-convert {\n",
              "      background-color: #3B4455;\n",
              "      fill: #D2E3FC;\n",
              "    }\n",
              "\n",
              "    [theme=dark] .colab-df-convert:hover {\n",
              "      background-color: #434B5C;\n",
              "      box-shadow: 0px 1px 3px 1px rgba(0, 0, 0, 0.15);\n",
              "      filter: drop-shadow(0px 1px 2px rgba(0, 0, 0, 0.3));\n",
              "      fill: #FFFFFF;\n",
              "    }\n",
              "  </style>\n",
              "\n",
              "      <script>\n",
              "        const buttonEl =\n",
              "          document.querySelector('#df-497d2e38-d468-49a5-af45-3c1b0a37649c button.colab-df-convert');\n",
              "        buttonEl.style.display =\n",
              "          google.colab.kernel.accessAllowed ? 'block' : 'none';\n",
              "\n",
              "        async function convertToInteractive(key) {\n",
              "          const element = document.querySelector('#df-497d2e38-d468-49a5-af45-3c1b0a37649c');\n",
              "          const dataTable =\n",
              "            await google.colab.kernel.invokeFunction('convertToInteractive',\n",
              "                                                     [key], {});\n",
              "          if (!dataTable) return;\n",
              "\n",
              "          const docLinkHtml = 'Like what you see? Visit the ' +\n",
              "            '<a target=\"_blank\" href=https://colab.research.google.com/notebooks/data_table.ipynb>data table notebook</a>'\n",
              "            + ' to learn more about interactive tables.';\n",
              "          element.innerHTML = '';\n",
              "          dataTable['output_type'] = 'display_data';\n",
              "          await google.colab.output.renderOutput(dataTable, element);\n",
              "          const docLink = document.createElement('div');\n",
              "          docLink.innerHTML = docLinkHtml;\n",
              "          element.appendChild(docLink);\n",
              "        }\n",
              "      </script>\n",
              "    </div>\n",
              "  </div>\n",
              "  "
            ]
          },
          "metadata": {},
          "execution_count": 3
        }
      ],
      "source": [
        "df.head()"
      ]
    },
    {
      "cell_type": "code",
      "execution_count": 4,
      "id": "b77f1252-b3a9-45ff-b428-7ae9002b4564",
      "metadata": {
        "colab": {
          "base_uri": "https://localhost:8080/",
          "height": 206
        },
        "id": "b77f1252-b3a9-45ff-b428-7ae9002b4564",
        "outputId": "f35f3c80-8ce3-42ac-f567-637969e3d09e"
      },
      "outputs": [
        {
          "output_type": "execute_result",
          "data": {
            "text/plain": [
              "         State_Name District_Name  Crop_Year       Season       Crop  \\\n",
              "246086  West Bengal       PURULIA       2014  Summer            Rice   \n",
              "246087  West Bengal       PURULIA       2014  Summer         Sesamum   \n",
              "246088  West Bengal       PURULIA       2014  Whole Year   Sugarcane   \n",
              "246089  West Bengal       PURULIA       2014  Winter            Rice   \n",
              "246090  West Bengal       PURULIA       2014  Winter         Sesamum   \n",
              "\n",
              "            Area  Production  \n",
              "246086     306.0       801.0  \n",
              "246087     627.0       463.0  \n",
              "246088     324.0     16250.0  \n",
              "246089  279151.0    597899.0  \n",
              "246090     175.0        88.0  "
            ],
            "text/html": [
              "\n",
              "  <div id=\"df-e11a7fbe-5817-4dd8-9bf3-b7676e0ac5a4\">\n",
              "    <div class=\"colab-df-container\">\n",
              "      <div>\n",
              "<style scoped>\n",
              "    .dataframe tbody tr th:only-of-type {\n",
              "        vertical-align: middle;\n",
              "    }\n",
              "\n",
              "    .dataframe tbody tr th {\n",
              "        vertical-align: top;\n",
              "    }\n",
              "\n",
              "    .dataframe thead th {\n",
              "        text-align: right;\n",
              "    }\n",
              "</style>\n",
              "<table border=\"1\" class=\"dataframe\">\n",
              "  <thead>\n",
              "    <tr style=\"text-align: right;\">\n",
              "      <th></th>\n",
              "      <th>State_Name</th>\n",
              "      <th>District_Name</th>\n",
              "      <th>Crop_Year</th>\n",
              "      <th>Season</th>\n",
              "      <th>Crop</th>\n",
              "      <th>Area</th>\n",
              "      <th>Production</th>\n",
              "    </tr>\n",
              "  </thead>\n",
              "  <tbody>\n",
              "    <tr>\n",
              "      <th>246086</th>\n",
              "      <td>West Bengal</td>\n",
              "      <td>PURULIA</td>\n",
              "      <td>2014</td>\n",
              "      <td>Summer</td>\n",
              "      <td>Rice</td>\n",
              "      <td>306.0</td>\n",
              "      <td>801.0</td>\n",
              "    </tr>\n",
              "    <tr>\n",
              "      <th>246087</th>\n",
              "      <td>West Bengal</td>\n",
              "      <td>PURULIA</td>\n",
              "      <td>2014</td>\n",
              "      <td>Summer</td>\n",
              "      <td>Sesamum</td>\n",
              "      <td>627.0</td>\n",
              "      <td>463.0</td>\n",
              "    </tr>\n",
              "    <tr>\n",
              "      <th>246088</th>\n",
              "      <td>West Bengal</td>\n",
              "      <td>PURULIA</td>\n",
              "      <td>2014</td>\n",
              "      <td>Whole Year</td>\n",
              "      <td>Sugarcane</td>\n",
              "      <td>324.0</td>\n",
              "      <td>16250.0</td>\n",
              "    </tr>\n",
              "    <tr>\n",
              "      <th>246089</th>\n",
              "      <td>West Bengal</td>\n",
              "      <td>PURULIA</td>\n",
              "      <td>2014</td>\n",
              "      <td>Winter</td>\n",
              "      <td>Rice</td>\n",
              "      <td>279151.0</td>\n",
              "      <td>597899.0</td>\n",
              "    </tr>\n",
              "    <tr>\n",
              "      <th>246090</th>\n",
              "      <td>West Bengal</td>\n",
              "      <td>PURULIA</td>\n",
              "      <td>2014</td>\n",
              "      <td>Winter</td>\n",
              "      <td>Sesamum</td>\n",
              "      <td>175.0</td>\n",
              "      <td>88.0</td>\n",
              "    </tr>\n",
              "  </tbody>\n",
              "</table>\n",
              "</div>\n",
              "      <button class=\"colab-df-convert\" onclick=\"convertToInteractive('df-e11a7fbe-5817-4dd8-9bf3-b7676e0ac5a4')\"\n",
              "              title=\"Convert this dataframe to an interactive table.\"\n",
              "              style=\"display:none;\">\n",
              "        \n",
              "  <svg xmlns=\"http://www.w3.org/2000/svg\" height=\"24px\"viewBox=\"0 0 24 24\"\n",
              "       width=\"24px\">\n",
              "    <path d=\"M0 0h24v24H0V0z\" fill=\"none\"/>\n",
              "    <path d=\"M18.56 5.44l.94 2.06.94-2.06 2.06-.94-2.06-.94-.94-2.06-.94 2.06-2.06.94zm-11 1L8.5 8.5l.94-2.06 2.06-.94-2.06-.94L8.5 2.5l-.94 2.06-2.06.94zm10 10l.94 2.06.94-2.06 2.06-.94-2.06-.94-.94-2.06-.94 2.06-2.06.94z\"/><path d=\"M17.41 7.96l-1.37-1.37c-.4-.4-.92-.59-1.43-.59-.52 0-1.04.2-1.43.59L10.3 9.45l-7.72 7.72c-.78.78-.78 2.05 0 2.83L4 21.41c.39.39.9.59 1.41.59.51 0 1.02-.2 1.41-.59l7.78-7.78 2.81-2.81c.8-.78.8-2.07 0-2.86zM5.41 20L4 18.59l7.72-7.72 1.47 1.35L5.41 20z\"/>\n",
              "  </svg>\n",
              "      </button>\n",
              "      \n",
              "  <style>\n",
              "    .colab-df-container {\n",
              "      display:flex;\n",
              "      flex-wrap:wrap;\n",
              "      gap: 12px;\n",
              "    }\n",
              "\n",
              "    .colab-df-convert {\n",
              "      background-color: #E8F0FE;\n",
              "      border: none;\n",
              "      border-radius: 50%;\n",
              "      cursor: pointer;\n",
              "      display: none;\n",
              "      fill: #1967D2;\n",
              "      height: 32px;\n",
              "      padding: 0 0 0 0;\n",
              "      width: 32px;\n",
              "    }\n",
              "\n",
              "    .colab-df-convert:hover {\n",
              "      background-color: #E2EBFA;\n",
              "      box-shadow: 0px 1px 2px rgba(60, 64, 67, 0.3), 0px 1px 3px 1px rgba(60, 64, 67, 0.15);\n",
              "      fill: #174EA6;\n",
              "    }\n",
              "\n",
              "    [theme=dark] .colab-df-convert {\n",
              "      background-color: #3B4455;\n",
              "      fill: #D2E3FC;\n",
              "    }\n",
              "\n",
              "    [theme=dark] .colab-df-convert:hover {\n",
              "      background-color: #434B5C;\n",
              "      box-shadow: 0px 1px 3px 1px rgba(0, 0, 0, 0.15);\n",
              "      filter: drop-shadow(0px 1px 2px rgba(0, 0, 0, 0.3));\n",
              "      fill: #FFFFFF;\n",
              "    }\n",
              "  </style>\n",
              "\n",
              "      <script>\n",
              "        const buttonEl =\n",
              "          document.querySelector('#df-e11a7fbe-5817-4dd8-9bf3-b7676e0ac5a4 button.colab-df-convert');\n",
              "        buttonEl.style.display =\n",
              "          google.colab.kernel.accessAllowed ? 'block' : 'none';\n",
              "\n",
              "        async function convertToInteractive(key) {\n",
              "          const element = document.querySelector('#df-e11a7fbe-5817-4dd8-9bf3-b7676e0ac5a4');\n",
              "          const dataTable =\n",
              "            await google.colab.kernel.invokeFunction('convertToInteractive',\n",
              "                                                     [key], {});\n",
              "          if (!dataTable) return;\n",
              "\n",
              "          const docLinkHtml = 'Like what you see? Visit the ' +\n",
              "            '<a target=\"_blank\" href=https://colab.research.google.com/notebooks/data_table.ipynb>data table notebook</a>'\n",
              "            + ' to learn more about interactive tables.';\n",
              "          element.innerHTML = '';\n",
              "          dataTable['output_type'] = 'display_data';\n",
              "          await google.colab.output.renderOutput(dataTable, element);\n",
              "          const docLink = document.createElement('div');\n",
              "          docLink.innerHTML = docLinkHtml;\n",
              "          element.appendChild(docLink);\n",
              "        }\n",
              "      </script>\n",
              "    </div>\n",
              "  </div>\n",
              "  "
            ]
          },
          "metadata": {},
          "execution_count": 4
        }
      ],
      "source": [
        "df.tail()"
      ]
    },
    {
      "cell_type": "code",
      "execution_count": 5,
      "id": "b6c5043f-c21c-4cf8-8ffc-8021b7de8a82",
      "metadata": {
        "colab": {
          "base_uri": "https://localhost:8080/"
        },
        "id": "b6c5043f-c21c-4cf8-8ffc-8021b7de8a82",
        "outputId": "7a44b3a5-03f5-4d0f-e3ab-d4cfb74b9b0e"
      },
      "outputs": [
        {
          "output_type": "execute_result",
          "data": {
            "text/plain": [
              "State_Name          0\n",
              "District_Name       0\n",
              "Crop_Year           0\n",
              "Season              0\n",
              "Crop                0\n",
              "Area                0\n",
              "Production       3730\n",
              "dtype: int64"
            ]
          },
          "metadata": {},
          "execution_count": 5
        }
      ],
      "source": [
        "df.isnull().sum()"
      ]
    },
    {
      "cell_type": "code",
      "execution_count": 6,
      "id": "ae14fde6-46bc-46f9-890c-ed110c6d9aa6",
      "metadata": {
        "id": "ae14fde6-46bc-46f9-890c-ed110c6d9aa6"
      },
      "outputs": [],
      "source": [
        "df.dropna(inplace=True)"
      ]
    },
    {
      "cell_type": "code",
      "execution_count": 7,
      "id": "69ea3f08-b65e-4983-8e29-7d301c5778e1",
      "metadata": {
        "colab": {
          "base_uri": "https://localhost:8080/"
        },
        "id": "69ea3f08-b65e-4983-8e29-7d301c5778e1",
        "outputId": "01733dae-eca1-420a-882b-747cfe770b13"
      },
      "outputs": [
        {
          "output_type": "execute_result",
          "data": {
            "text/plain": [
              "State_Name       0\n",
              "District_Name    0\n",
              "Crop_Year        0\n",
              "Season           0\n",
              "Crop             0\n",
              "Area             0\n",
              "Production       0\n",
              "dtype: int64"
            ]
          },
          "metadata": {},
          "execution_count": 7
        }
      ],
      "source": [
        "df.isnull().sum()"
      ]
    },
    {
      "cell_type": "code",
      "execution_count": 8,
      "id": "0024c8f8-0f6b-483b-8bac-66a9184e87e3",
      "metadata": {
        "colab": {
          "base_uri": "https://localhost:8080/"
        },
        "id": "0024c8f8-0f6b-483b-8bac-66a9184e87e3",
        "outputId": "a9ec4550-6d6b-453f-fe44-66337cfb6925"
      },
      "outputs": [
        {
          "output_type": "stream",
          "name": "stdout",
          "text": [
            "<class 'pandas.core.frame.DataFrame'>\n",
            "Int64Index: 242361 entries, 0 to 246090\n",
            "Data columns (total 7 columns):\n",
            " #   Column         Non-Null Count   Dtype  \n",
            "---  ------         --------------   -----  \n",
            " 0   State_Name     242361 non-null  object \n",
            " 1   District_Name  242361 non-null  object \n",
            " 2   Crop_Year      242361 non-null  int64  \n",
            " 3   Season         242361 non-null  object \n",
            " 4   Crop           242361 non-null  object \n",
            " 5   Area           242361 non-null  float64\n",
            " 6   Production     242361 non-null  float64\n",
            "dtypes: float64(2), int64(1), object(4)\n",
            "memory usage: 14.8+ MB\n"
          ]
        }
      ],
      "source": [
        "df.info()"
      ]
    },
    {
      "cell_type": "code",
      "execution_count": 9,
      "id": "d9003dd7-9da7-4213-9574-6c86c024a7b4",
      "metadata": {
        "colab": {
          "base_uri": "https://localhost:8080/"
        },
        "id": "d9003dd7-9da7-4213-9574-6c86c024a7b4",
        "outputId": "f3631f52-374e-4cf8-ba54-4a56e54d4433"
      },
      "outputs": [
        {
          "output_type": "execute_result",
          "data": {
            "text/plain": [
              "array([2000, 2001, 2002, 2003, 2004, 2005, 2006, 2010, 1997, 1998, 1999,\n",
              "       2007, 2008, 2009, 2011, 2012, 2013, 2014, 2015])"
            ]
          },
          "metadata": {},
          "execution_count": 9
        }
      ],
      "source": [
        "df['Crop_Year'].unique()"
      ]
    },
    {
      "cell_type": "code",
      "execution_count": 10,
      "id": "87e1b11b-b829-4c02-ab7d-bb6882d4443e",
      "metadata": {
        "colab": {
          "base_uri": "https://localhost:8080/"
        },
        "id": "87e1b11b-b829-4c02-ab7d-bb6882d4443e",
        "outputId": "3b5b1919-c6b1-41b2-b4c7-f228113e6f6a"
      },
      "outputs": [
        {
          "output_type": "execute_result",
          "data": {
            "text/plain": [
              "33"
            ]
          },
          "metadata": {},
          "execution_count": 10
        }
      ],
      "source": [
        "len(df['State_Name'].unique())"
      ]
    },
    {
      "cell_type": "code",
      "execution_count": 11,
      "id": "3f52279f-f1b4-46f0-bfd6-bb1d6ff6a879",
      "metadata": {
        "colab": {
          "base_uri": "https://localhost:8080/"
        },
        "id": "3f52279f-f1b4-46f0-bfd6-bb1d6ff6a879",
        "outputId": "b3761483-3c8b-4858-d0b2-9252d838b159"
      },
      "outputs": [
        {
          "output_type": "execute_result",
          "data": {
            "text/plain": [
              "array(['Andaman and Nicobar Islands', 'Andhra Pradesh',\n",
              "       'Arunachal Pradesh', 'Assam', 'Bihar', 'Chandigarh',\n",
              "       'Chhattisgarh', 'Dadra and Nagar Haveli', 'Goa', 'Gujarat',\n",
              "       'Haryana', 'Himachal Pradesh', 'Jammu and Kashmir ', 'Jharkhand',\n",
              "       'Karnataka', 'Kerala', 'Madhya Pradesh', 'Maharashtra', 'Manipur',\n",
              "       'Meghalaya', 'Mizoram', 'Nagaland', 'Odisha', 'Puducherry',\n",
              "       'Punjab', 'Rajasthan', 'Sikkim', 'Tamil Nadu', 'Telangana ',\n",
              "       'Tripura', 'Uttar Pradesh', 'Uttarakhand', 'West Bengal'],\n",
              "      dtype=object)"
            ]
          },
          "metadata": {},
          "execution_count": 11
        }
      ],
      "source": [
        "df['State_Name'].unique()"
      ]
    },
    {
      "cell_type": "code",
      "execution_count": 12,
      "id": "64ab5e4f-9dcd-458d-8c7e-bafa3a38394a",
      "metadata": {
        "colab": {
          "base_uri": "https://localhost:8080/"
        },
        "id": "64ab5e4f-9dcd-458d-8c7e-bafa3a38394a",
        "outputId": "415e54ce-468e-487c-a6d6-85ff6986cfff"
      },
      "outputs": [
        {
          "output_type": "execute_result",
          "data": {
            "text/plain": [
              "646"
            ]
          },
          "metadata": {},
          "execution_count": 12
        }
      ],
      "source": [
        "df['District_Name'].nunique()"
      ]
    },
    {
      "cell_type": "code",
      "execution_count": 12,
      "id": "1a5dfc09-c8ec-4b16-bd33-59d1b5f16465",
      "metadata": {
        "id": "1a5dfc09-c8ec-4b16-bd33-59d1b5f16465"
      },
      "outputs": [],
      "source": []
    },
    {
      "cell_type": "code",
      "execution_count": 13,
      "id": "25ecc085-191d-447e-8936-5440eaba5f27",
      "metadata": {
        "colab": {
          "base_uri": "https://localhost:8080/"
        },
        "id": "25ecc085-191d-447e-8936-5440eaba5f27",
        "outputId": "a8ccb1cf-c4b3-410f-efae-adb37ea4c9fa"
      },
      "outputs": [
        {
          "output_type": "execute_result",
          "data": {
            "text/plain": [
              "1250800000.0"
            ]
          },
          "metadata": {},
          "execution_count": 13
        }
      ],
      "source": [
        "pro_df=df[\"Production\"].max()\n",
        "\n",
        "pro_df\n",
        "\n",
        "\n",
        "        "
      ]
    },
    {
      "cell_type": "code",
      "execution_count": 14,
      "id": "90457460-04fd-4a43-9469-f9e3a286dcc6",
      "metadata": {
        "colab": {
          "base_uri": "https://localhost:8080/",
          "height": 81
        },
        "id": "90457460-04fd-4a43-9469-f9e3a286dcc6",
        "outputId": "368090bb-ed9e-4abc-c8a1-8dab83568bf5"
      },
      "outputs": [
        {
          "output_type": "execute_result",
          "data": {
            "text/plain": [
              "        State_Name District_Name  Crop_Year       Season      Crop     Area  \\\n",
              "178273  Tamil Nadu    COIMBATORE       2011  Whole Year   Coconut   82704.0   \n",
              "\n",
              "          Production  \n",
              "178273  1.250800e+09  "
            ],
            "text/html": [
              "\n",
              "  <div id=\"df-8a78e677-06ff-44d3-8db8-7b60c7a59f3f\">\n",
              "    <div class=\"colab-df-container\">\n",
              "      <div>\n",
              "<style scoped>\n",
              "    .dataframe tbody tr th:only-of-type {\n",
              "        vertical-align: middle;\n",
              "    }\n",
              "\n",
              "    .dataframe tbody tr th {\n",
              "        vertical-align: top;\n",
              "    }\n",
              "\n",
              "    .dataframe thead th {\n",
              "        text-align: right;\n",
              "    }\n",
              "</style>\n",
              "<table border=\"1\" class=\"dataframe\">\n",
              "  <thead>\n",
              "    <tr style=\"text-align: right;\">\n",
              "      <th></th>\n",
              "      <th>State_Name</th>\n",
              "      <th>District_Name</th>\n",
              "      <th>Crop_Year</th>\n",
              "      <th>Season</th>\n",
              "      <th>Crop</th>\n",
              "      <th>Area</th>\n",
              "      <th>Production</th>\n",
              "    </tr>\n",
              "  </thead>\n",
              "  <tbody>\n",
              "    <tr>\n",
              "      <th>178273</th>\n",
              "      <td>Tamil Nadu</td>\n",
              "      <td>COIMBATORE</td>\n",
              "      <td>2011</td>\n",
              "      <td>Whole Year</td>\n",
              "      <td>Coconut</td>\n",
              "      <td>82704.0</td>\n",
              "      <td>1.250800e+09</td>\n",
              "    </tr>\n",
              "  </tbody>\n",
              "</table>\n",
              "</div>\n",
              "      <button class=\"colab-df-convert\" onclick=\"convertToInteractive('df-8a78e677-06ff-44d3-8db8-7b60c7a59f3f')\"\n",
              "              title=\"Convert this dataframe to an interactive table.\"\n",
              "              style=\"display:none;\">\n",
              "        \n",
              "  <svg xmlns=\"http://www.w3.org/2000/svg\" height=\"24px\"viewBox=\"0 0 24 24\"\n",
              "       width=\"24px\">\n",
              "    <path d=\"M0 0h24v24H0V0z\" fill=\"none\"/>\n",
              "    <path d=\"M18.56 5.44l.94 2.06.94-2.06 2.06-.94-2.06-.94-.94-2.06-.94 2.06-2.06.94zm-11 1L8.5 8.5l.94-2.06 2.06-.94-2.06-.94L8.5 2.5l-.94 2.06-2.06.94zm10 10l.94 2.06.94-2.06 2.06-.94-2.06-.94-.94-2.06-.94 2.06-2.06.94z\"/><path d=\"M17.41 7.96l-1.37-1.37c-.4-.4-.92-.59-1.43-.59-.52 0-1.04.2-1.43.59L10.3 9.45l-7.72 7.72c-.78.78-.78 2.05 0 2.83L4 21.41c.39.39.9.59 1.41.59.51 0 1.02-.2 1.41-.59l7.78-7.78 2.81-2.81c.8-.78.8-2.07 0-2.86zM5.41 20L4 18.59l7.72-7.72 1.47 1.35L5.41 20z\"/>\n",
              "  </svg>\n",
              "      </button>\n",
              "      \n",
              "  <style>\n",
              "    .colab-df-container {\n",
              "      display:flex;\n",
              "      flex-wrap:wrap;\n",
              "      gap: 12px;\n",
              "    }\n",
              "\n",
              "    .colab-df-convert {\n",
              "      background-color: #E8F0FE;\n",
              "      border: none;\n",
              "      border-radius: 50%;\n",
              "      cursor: pointer;\n",
              "      display: none;\n",
              "      fill: #1967D2;\n",
              "      height: 32px;\n",
              "      padding: 0 0 0 0;\n",
              "      width: 32px;\n",
              "    }\n",
              "\n",
              "    .colab-df-convert:hover {\n",
              "      background-color: #E2EBFA;\n",
              "      box-shadow: 0px 1px 2px rgba(60, 64, 67, 0.3), 0px 1px 3px 1px rgba(60, 64, 67, 0.15);\n",
              "      fill: #174EA6;\n",
              "    }\n",
              "\n",
              "    [theme=dark] .colab-df-convert {\n",
              "      background-color: #3B4455;\n",
              "      fill: #D2E3FC;\n",
              "    }\n",
              "\n",
              "    [theme=dark] .colab-df-convert:hover {\n",
              "      background-color: #434B5C;\n",
              "      box-shadow: 0px 1px 3px 1px rgba(0, 0, 0, 0.15);\n",
              "      filter: drop-shadow(0px 1px 2px rgba(0, 0, 0, 0.3));\n",
              "      fill: #FFFFFF;\n",
              "    }\n",
              "  </style>\n",
              "\n",
              "      <script>\n",
              "        const buttonEl =\n",
              "          document.querySelector('#df-8a78e677-06ff-44d3-8db8-7b60c7a59f3f button.colab-df-convert');\n",
              "        buttonEl.style.display =\n",
              "          google.colab.kernel.accessAllowed ? 'block' : 'none';\n",
              "\n",
              "        async function convertToInteractive(key) {\n",
              "          const element = document.querySelector('#df-8a78e677-06ff-44d3-8db8-7b60c7a59f3f');\n",
              "          const dataTable =\n",
              "            await google.colab.kernel.invokeFunction('convertToInteractive',\n",
              "                                                     [key], {});\n",
              "          if (!dataTable) return;\n",
              "\n",
              "          const docLinkHtml = 'Like what you see? Visit the ' +\n",
              "            '<a target=\"_blank\" href=https://colab.research.google.com/notebooks/data_table.ipynb>data table notebook</a>'\n",
              "            + ' to learn more about interactive tables.';\n",
              "          element.innerHTML = '';\n",
              "          dataTable['output_type'] = 'display_data';\n",
              "          await google.colab.output.renderOutput(dataTable, element);\n",
              "          const docLink = document.createElement('div');\n",
              "          docLink.innerHTML = docLinkHtml;\n",
              "          element.appendChild(docLink);\n",
              "        }\n",
              "      </script>\n",
              "    </div>\n",
              "  </div>\n",
              "  "
            ]
          },
          "metadata": {},
          "execution_count": 14
        }
      ],
      "source": [
        "df[df[\"Production\"]==1250800000.0]"
      ]
    },
    {
      "cell_type": "code",
      "execution_count": 15,
      "id": "48d53325-3070-41f8-bf05-2c8ade70e899",
      "metadata": {
        "colab": {
          "base_uri": "https://localhost:8080/"
        },
        "id": "48d53325-3070-41f8-bf05-2c8ade70e899",
        "outputId": "0ec935b2-628c-4011-8b0c-ac627317fa25"
      },
      "outputs": [
        {
          "output_type": "execute_result",
          "data": {
            "text/plain": [
              "729.0"
            ]
          },
          "metadata": {},
          "execution_count": 15
        }
      ],
      "source": [
        "df[\"Production\"].median ()"
      ]
    },
    {
      "cell_type": "code",
      "execution_count": 16,
      "id": "02f83636-2327-45bd-afed-e14398c9b6ec",
      "metadata": {
        "colab": {
          "base_uri": "https://localhost:8080/",
          "height": 1000
        },
        "id": "02f83636-2327-45bd-afed-e14398c9b6ec",
        "outputId": "ec5fcac9-79a0-4254-9bf5-fa85228cf321"
      },
      "outputs": [
        {
          "output_type": "execute_result",
          "data": {
            "text/plain": [
              "                State_Name    District_Name  Crop_Year       Season  \\\n",
              "7373        Andhra Pradesh       SRIKAKULAM       2006  Rabi          \n",
              "10684    Arunachal Pradesh     KURUNG KUMEY       2010  Kharif        \n",
              "15605                Assam          DHEMAJI       2003  Whole Year    \n",
              "25098                Assam        SIVASAGAR       2002  Whole Year    \n",
              "27729                Bihar            ARWAL       2008  Whole Year    \n",
              "28144                Bihar       AURANGABAD       2007  Autumn        \n",
              "28866                Bihar        BEGUSARAI       2000  Kharif        \n",
              "29532                Bihar        BHAGALPUR       2002  Rabi          \n",
              "34077                Bihar          KATIHAR       2007  Kharif        \n",
              "40011                Bihar  PURBI CHAMPARAN       2003  Rabi          \n",
              "44601                Bihar            SIWAN       2008  Rabi          \n",
              "44984                Bihar           SUPAUL       2003  Rabi          \n",
              "45418                Bihar         VAISHALI       2000  Kharif        \n",
              "75160   Jammu and Kashmir           RAJAURI       2002  Rabi          \n",
              "78246            Karnataka  BANGALORE RURAL       2012  Kharif        \n",
              "91869            Karnataka           KOPPAL       2003  Kharif        \n",
              "96675            Karnataka           TUMKUR       2014  Kharif        \n",
              "100382              Kerala        KOZHIKODE       2013  Whole Year    \n",
              "107806      Madhya Pradesh            DATIA       2012  Kharif        \n",
              "109484      Madhya Pradesh             GUNA       2004  Kharif        \n",
              "114229      Madhya Pradesh           MANDLA       2001  Kharif        \n",
              "115440      Madhya Pradesh           MORENA       2012  Kharif        \n",
              "122321      Madhya Pradesh         SHIVPURI       2002  Rabi          \n",
              "168565           Rajasthan            CHURU       2001  Rabi          \n",
              "169745           Rajasthan        DUNGARPUR       2005  Kharif        \n",
              "188315          Tamil Nadu      TIRUNELVELI       2004  Kharif        \n",
              "189948          Tamil Nadu          VELLORE       2004  Kharif        \n",
              "190794          Tamil Nadu     VIRUDHUNAGAR       1999  Whole Year    \n",
              "203693       Uttar Pradesh            BANDA       2007  Kharif        \n",
              "205638       Uttar Pradesh           BIJNOR       2007  Summer        \n",
              "209350       Uttar Pradesh         FAIZABAD       2007  Summer        \n",
              "209607       Uttar Pradesh      FARRUKHABAD       1999  Kharif        \n",
              "217200       Uttar Pradesh     KANPUR NAGAR       2001  Rabi          \n",
              "232946         Uttarakhand        CHAMPAWAT       2011  Whole Year    \n",
              "242176         West Bengal       JALPAIGURI       1999  Rabi          \n",
              "244629         West Bengal      MURSHIDABAD       2007  Rabi          \n",
              "\n",
              "                         Crop    Area  Production  \n",
              "7373                  Sesamum  4471.0       729.0  \n",
              "10684           Small millets   540.0       729.0  \n",
              "15605                Arecanut   861.0       729.0  \n",
              "25098                  Orange    81.0       729.0  \n",
              "27729                   Onion   106.0       729.0  \n",
              "28144                   Maize   500.0       729.0  \n",
              "28866                    Urad  1171.0       729.0  \n",
              "29532       Rapeseed &Mustard  2271.0       729.0  \n",
              "34077                    Ragi  1085.0       729.0  \n",
              "40011       Rapeseed &Mustard  1135.0       729.0  \n",
              "44601   Peas & beans (Pulses)   758.0       729.0  \n",
              "44984                  Masoor  1939.0       729.0  \n",
              "45418                    Jute    87.0       729.0  \n",
              "75160       Rapeseed &Mustard  1697.0       729.0  \n",
              "78246               Arhar/Tur  1197.0       729.0  \n",
              "91869       Moong(Green Gram)  5256.0       729.0  \n",
              "96675       Moong(Green Gram)  8624.0       729.0  \n",
              "100382               Turmeric   301.0       729.0  \n",
              "107806               Soyabean   800.0       729.0  \n",
              "109484                   Rice   836.0       729.0  \n",
              "114229    Other Kharif pulses  2997.0       729.0  \n",
              "115440                   Rice   235.0       729.0  \n",
              "122321     Other  Rabi pulses  2550.0       729.0  \n",
              "168565                 Barley  1125.0       729.0  \n",
              "169745           Cotton(lint)   391.0       729.0  \n",
              "188315    Other Kharif pulses  3824.0       729.0  \n",
              "189948      Moong(Green Gram)  2210.0       729.0  \n",
              "190794              Coriander  3963.0       729.0  \n",
              "203693                   Urad  3472.0       729.0  \n",
              "205638                  Onion    54.0       729.0  \n",
              "209350      Moong(Green Gram)  1438.0       729.0  \n",
              "209607              Groundnut   626.0       729.0  \n",
              "217200      Moong(Green Gram)  1337.0       729.0  \n",
              "232946                 Garlic   221.0       729.0  \n",
              "242176                Khesari   613.0       729.0  \n",
              "244629                   Urad   710.0       729.0  "
            ],
            "text/html": [
              "\n",
              "  <div id=\"df-81e5ee4b-cd0a-4c33-b3a3-50b3a3e46ae7\">\n",
              "    <div class=\"colab-df-container\">\n",
              "      <div>\n",
              "<style scoped>\n",
              "    .dataframe tbody tr th:only-of-type {\n",
              "        vertical-align: middle;\n",
              "    }\n",
              "\n",
              "    .dataframe tbody tr th {\n",
              "        vertical-align: top;\n",
              "    }\n",
              "\n",
              "    .dataframe thead th {\n",
              "        text-align: right;\n",
              "    }\n",
              "</style>\n",
              "<table border=\"1\" class=\"dataframe\">\n",
              "  <thead>\n",
              "    <tr style=\"text-align: right;\">\n",
              "      <th></th>\n",
              "      <th>State_Name</th>\n",
              "      <th>District_Name</th>\n",
              "      <th>Crop_Year</th>\n",
              "      <th>Season</th>\n",
              "      <th>Crop</th>\n",
              "      <th>Area</th>\n",
              "      <th>Production</th>\n",
              "    </tr>\n",
              "  </thead>\n",
              "  <tbody>\n",
              "    <tr>\n",
              "      <th>7373</th>\n",
              "      <td>Andhra Pradesh</td>\n",
              "      <td>SRIKAKULAM</td>\n",
              "      <td>2006</td>\n",
              "      <td>Rabi</td>\n",
              "      <td>Sesamum</td>\n",
              "      <td>4471.0</td>\n",
              "      <td>729.0</td>\n",
              "    </tr>\n",
              "    <tr>\n",
              "      <th>10684</th>\n",
              "      <td>Arunachal Pradesh</td>\n",
              "      <td>KURUNG KUMEY</td>\n",
              "      <td>2010</td>\n",
              "      <td>Kharif</td>\n",
              "      <td>Small millets</td>\n",
              "      <td>540.0</td>\n",
              "      <td>729.0</td>\n",
              "    </tr>\n",
              "    <tr>\n",
              "      <th>15605</th>\n",
              "      <td>Assam</td>\n",
              "      <td>DHEMAJI</td>\n",
              "      <td>2003</td>\n",
              "      <td>Whole Year</td>\n",
              "      <td>Arecanut</td>\n",
              "      <td>861.0</td>\n",
              "      <td>729.0</td>\n",
              "    </tr>\n",
              "    <tr>\n",
              "      <th>25098</th>\n",
              "      <td>Assam</td>\n",
              "      <td>SIVASAGAR</td>\n",
              "      <td>2002</td>\n",
              "      <td>Whole Year</td>\n",
              "      <td>Orange</td>\n",
              "      <td>81.0</td>\n",
              "      <td>729.0</td>\n",
              "    </tr>\n",
              "    <tr>\n",
              "      <th>27729</th>\n",
              "      <td>Bihar</td>\n",
              "      <td>ARWAL</td>\n",
              "      <td>2008</td>\n",
              "      <td>Whole Year</td>\n",
              "      <td>Onion</td>\n",
              "      <td>106.0</td>\n",
              "      <td>729.0</td>\n",
              "    </tr>\n",
              "    <tr>\n",
              "      <th>28144</th>\n",
              "      <td>Bihar</td>\n",
              "      <td>AURANGABAD</td>\n",
              "      <td>2007</td>\n",
              "      <td>Autumn</td>\n",
              "      <td>Maize</td>\n",
              "      <td>500.0</td>\n",
              "      <td>729.0</td>\n",
              "    </tr>\n",
              "    <tr>\n",
              "      <th>28866</th>\n",
              "      <td>Bihar</td>\n",
              "      <td>BEGUSARAI</td>\n",
              "      <td>2000</td>\n",
              "      <td>Kharif</td>\n",
              "      <td>Urad</td>\n",
              "      <td>1171.0</td>\n",
              "      <td>729.0</td>\n",
              "    </tr>\n",
              "    <tr>\n",
              "      <th>29532</th>\n",
              "      <td>Bihar</td>\n",
              "      <td>BHAGALPUR</td>\n",
              "      <td>2002</td>\n",
              "      <td>Rabi</td>\n",
              "      <td>Rapeseed &amp;Mustard</td>\n",
              "      <td>2271.0</td>\n",
              "      <td>729.0</td>\n",
              "    </tr>\n",
              "    <tr>\n",
              "      <th>34077</th>\n",
              "      <td>Bihar</td>\n",
              "      <td>KATIHAR</td>\n",
              "      <td>2007</td>\n",
              "      <td>Kharif</td>\n",
              "      <td>Ragi</td>\n",
              "      <td>1085.0</td>\n",
              "      <td>729.0</td>\n",
              "    </tr>\n",
              "    <tr>\n",
              "      <th>40011</th>\n",
              "      <td>Bihar</td>\n",
              "      <td>PURBI CHAMPARAN</td>\n",
              "      <td>2003</td>\n",
              "      <td>Rabi</td>\n",
              "      <td>Rapeseed &amp;Mustard</td>\n",
              "      <td>1135.0</td>\n",
              "      <td>729.0</td>\n",
              "    </tr>\n",
              "    <tr>\n",
              "      <th>44601</th>\n",
              "      <td>Bihar</td>\n",
              "      <td>SIWAN</td>\n",
              "      <td>2008</td>\n",
              "      <td>Rabi</td>\n",
              "      <td>Peas &amp; beans (Pulses)</td>\n",
              "      <td>758.0</td>\n",
              "      <td>729.0</td>\n",
              "    </tr>\n",
              "    <tr>\n",
              "      <th>44984</th>\n",
              "      <td>Bihar</td>\n",
              "      <td>SUPAUL</td>\n",
              "      <td>2003</td>\n",
              "      <td>Rabi</td>\n",
              "      <td>Masoor</td>\n",
              "      <td>1939.0</td>\n",
              "      <td>729.0</td>\n",
              "    </tr>\n",
              "    <tr>\n",
              "      <th>45418</th>\n",
              "      <td>Bihar</td>\n",
              "      <td>VAISHALI</td>\n",
              "      <td>2000</td>\n",
              "      <td>Kharif</td>\n",
              "      <td>Jute</td>\n",
              "      <td>87.0</td>\n",
              "      <td>729.0</td>\n",
              "    </tr>\n",
              "    <tr>\n",
              "      <th>75160</th>\n",
              "      <td>Jammu and Kashmir</td>\n",
              "      <td>RAJAURI</td>\n",
              "      <td>2002</td>\n",
              "      <td>Rabi</td>\n",
              "      <td>Rapeseed &amp;Mustard</td>\n",
              "      <td>1697.0</td>\n",
              "      <td>729.0</td>\n",
              "    </tr>\n",
              "    <tr>\n",
              "      <th>78246</th>\n",
              "      <td>Karnataka</td>\n",
              "      <td>BANGALORE RURAL</td>\n",
              "      <td>2012</td>\n",
              "      <td>Kharif</td>\n",
              "      <td>Arhar/Tur</td>\n",
              "      <td>1197.0</td>\n",
              "      <td>729.0</td>\n",
              "    </tr>\n",
              "    <tr>\n",
              "      <th>91869</th>\n",
              "      <td>Karnataka</td>\n",
              "      <td>KOPPAL</td>\n",
              "      <td>2003</td>\n",
              "      <td>Kharif</td>\n",
              "      <td>Moong(Green Gram)</td>\n",
              "      <td>5256.0</td>\n",
              "      <td>729.0</td>\n",
              "    </tr>\n",
              "    <tr>\n",
              "      <th>96675</th>\n",
              "      <td>Karnataka</td>\n",
              "      <td>TUMKUR</td>\n",
              "      <td>2014</td>\n",
              "      <td>Kharif</td>\n",
              "      <td>Moong(Green Gram)</td>\n",
              "      <td>8624.0</td>\n",
              "      <td>729.0</td>\n",
              "    </tr>\n",
              "    <tr>\n",
              "      <th>100382</th>\n",
              "      <td>Kerala</td>\n",
              "      <td>KOZHIKODE</td>\n",
              "      <td>2013</td>\n",
              "      <td>Whole Year</td>\n",
              "      <td>Turmeric</td>\n",
              "      <td>301.0</td>\n",
              "      <td>729.0</td>\n",
              "    </tr>\n",
              "    <tr>\n",
              "      <th>107806</th>\n",
              "      <td>Madhya Pradesh</td>\n",
              "      <td>DATIA</td>\n",
              "      <td>2012</td>\n",
              "      <td>Kharif</td>\n",
              "      <td>Soyabean</td>\n",
              "      <td>800.0</td>\n",
              "      <td>729.0</td>\n",
              "    </tr>\n",
              "    <tr>\n",
              "      <th>109484</th>\n",
              "      <td>Madhya Pradesh</td>\n",
              "      <td>GUNA</td>\n",
              "      <td>2004</td>\n",
              "      <td>Kharif</td>\n",
              "      <td>Rice</td>\n",
              "      <td>836.0</td>\n",
              "      <td>729.0</td>\n",
              "    </tr>\n",
              "    <tr>\n",
              "      <th>114229</th>\n",
              "      <td>Madhya Pradesh</td>\n",
              "      <td>MANDLA</td>\n",
              "      <td>2001</td>\n",
              "      <td>Kharif</td>\n",
              "      <td>Other Kharif pulses</td>\n",
              "      <td>2997.0</td>\n",
              "      <td>729.0</td>\n",
              "    </tr>\n",
              "    <tr>\n",
              "      <th>115440</th>\n",
              "      <td>Madhya Pradesh</td>\n",
              "      <td>MORENA</td>\n",
              "      <td>2012</td>\n",
              "      <td>Kharif</td>\n",
              "      <td>Rice</td>\n",
              "      <td>235.0</td>\n",
              "      <td>729.0</td>\n",
              "    </tr>\n",
              "    <tr>\n",
              "      <th>122321</th>\n",
              "      <td>Madhya Pradesh</td>\n",
              "      <td>SHIVPURI</td>\n",
              "      <td>2002</td>\n",
              "      <td>Rabi</td>\n",
              "      <td>Other  Rabi pulses</td>\n",
              "      <td>2550.0</td>\n",
              "      <td>729.0</td>\n",
              "    </tr>\n",
              "    <tr>\n",
              "      <th>168565</th>\n",
              "      <td>Rajasthan</td>\n",
              "      <td>CHURU</td>\n",
              "      <td>2001</td>\n",
              "      <td>Rabi</td>\n",
              "      <td>Barley</td>\n",
              "      <td>1125.0</td>\n",
              "      <td>729.0</td>\n",
              "    </tr>\n",
              "    <tr>\n",
              "      <th>169745</th>\n",
              "      <td>Rajasthan</td>\n",
              "      <td>DUNGARPUR</td>\n",
              "      <td>2005</td>\n",
              "      <td>Kharif</td>\n",
              "      <td>Cotton(lint)</td>\n",
              "      <td>391.0</td>\n",
              "      <td>729.0</td>\n",
              "    </tr>\n",
              "    <tr>\n",
              "      <th>188315</th>\n",
              "      <td>Tamil Nadu</td>\n",
              "      <td>TIRUNELVELI</td>\n",
              "      <td>2004</td>\n",
              "      <td>Kharif</td>\n",
              "      <td>Other Kharif pulses</td>\n",
              "      <td>3824.0</td>\n",
              "      <td>729.0</td>\n",
              "    </tr>\n",
              "    <tr>\n",
              "      <th>189948</th>\n",
              "      <td>Tamil Nadu</td>\n",
              "      <td>VELLORE</td>\n",
              "      <td>2004</td>\n",
              "      <td>Kharif</td>\n",
              "      <td>Moong(Green Gram)</td>\n",
              "      <td>2210.0</td>\n",
              "      <td>729.0</td>\n",
              "    </tr>\n",
              "    <tr>\n",
              "      <th>190794</th>\n",
              "      <td>Tamil Nadu</td>\n",
              "      <td>VIRUDHUNAGAR</td>\n",
              "      <td>1999</td>\n",
              "      <td>Whole Year</td>\n",
              "      <td>Coriander</td>\n",
              "      <td>3963.0</td>\n",
              "      <td>729.0</td>\n",
              "    </tr>\n",
              "    <tr>\n",
              "      <th>203693</th>\n",
              "      <td>Uttar Pradesh</td>\n",
              "      <td>BANDA</td>\n",
              "      <td>2007</td>\n",
              "      <td>Kharif</td>\n",
              "      <td>Urad</td>\n",
              "      <td>3472.0</td>\n",
              "      <td>729.0</td>\n",
              "    </tr>\n",
              "    <tr>\n",
              "      <th>205638</th>\n",
              "      <td>Uttar Pradesh</td>\n",
              "      <td>BIJNOR</td>\n",
              "      <td>2007</td>\n",
              "      <td>Summer</td>\n",
              "      <td>Onion</td>\n",
              "      <td>54.0</td>\n",
              "      <td>729.0</td>\n",
              "    </tr>\n",
              "    <tr>\n",
              "      <th>209350</th>\n",
              "      <td>Uttar Pradesh</td>\n",
              "      <td>FAIZABAD</td>\n",
              "      <td>2007</td>\n",
              "      <td>Summer</td>\n",
              "      <td>Moong(Green Gram)</td>\n",
              "      <td>1438.0</td>\n",
              "      <td>729.0</td>\n",
              "    </tr>\n",
              "    <tr>\n",
              "      <th>209607</th>\n",
              "      <td>Uttar Pradesh</td>\n",
              "      <td>FARRUKHABAD</td>\n",
              "      <td>1999</td>\n",
              "      <td>Kharif</td>\n",
              "      <td>Groundnut</td>\n",
              "      <td>626.0</td>\n",
              "      <td>729.0</td>\n",
              "    </tr>\n",
              "    <tr>\n",
              "      <th>217200</th>\n",
              "      <td>Uttar Pradesh</td>\n",
              "      <td>KANPUR NAGAR</td>\n",
              "      <td>2001</td>\n",
              "      <td>Rabi</td>\n",
              "      <td>Moong(Green Gram)</td>\n",
              "      <td>1337.0</td>\n",
              "      <td>729.0</td>\n",
              "    </tr>\n",
              "    <tr>\n",
              "      <th>232946</th>\n",
              "      <td>Uttarakhand</td>\n",
              "      <td>CHAMPAWAT</td>\n",
              "      <td>2011</td>\n",
              "      <td>Whole Year</td>\n",
              "      <td>Garlic</td>\n",
              "      <td>221.0</td>\n",
              "      <td>729.0</td>\n",
              "    </tr>\n",
              "    <tr>\n",
              "      <th>242176</th>\n",
              "      <td>West Bengal</td>\n",
              "      <td>JALPAIGURI</td>\n",
              "      <td>1999</td>\n",
              "      <td>Rabi</td>\n",
              "      <td>Khesari</td>\n",
              "      <td>613.0</td>\n",
              "      <td>729.0</td>\n",
              "    </tr>\n",
              "    <tr>\n",
              "      <th>244629</th>\n",
              "      <td>West Bengal</td>\n",
              "      <td>MURSHIDABAD</td>\n",
              "      <td>2007</td>\n",
              "      <td>Rabi</td>\n",
              "      <td>Urad</td>\n",
              "      <td>710.0</td>\n",
              "      <td>729.0</td>\n",
              "    </tr>\n",
              "  </tbody>\n",
              "</table>\n",
              "</div>\n",
              "      <button class=\"colab-df-convert\" onclick=\"convertToInteractive('df-81e5ee4b-cd0a-4c33-b3a3-50b3a3e46ae7')\"\n",
              "              title=\"Convert this dataframe to an interactive table.\"\n",
              "              style=\"display:none;\">\n",
              "        \n",
              "  <svg xmlns=\"http://www.w3.org/2000/svg\" height=\"24px\"viewBox=\"0 0 24 24\"\n",
              "       width=\"24px\">\n",
              "    <path d=\"M0 0h24v24H0V0z\" fill=\"none\"/>\n",
              "    <path d=\"M18.56 5.44l.94 2.06.94-2.06 2.06-.94-2.06-.94-.94-2.06-.94 2.06-2.06.94zm-11 1L8.5 8.5l.94-2.06 2.06-.94-2.06-.94L8.5 2.5l-.94 2.06-2.06.94zm10 10l.94 2.06.94-2.06 2.06-.94-2.06-.94-.94-2.06-.94 2.06-2.06.94z\"/><path d=\"M17.41 7.96l-1.37-1.37c-.4-.4-.92-.59-1.43-.59-.52 0-1.04.2-1.43.59L10.3 9.45l-7.72 7.72c-.78.78-.78 2.05 0 2.83L4 21.41c.39.39.9.59 1.41.59.51 0 1.02-.2 1.41-.59l7.78-7.78 2.81-2.81c.8-.78.8-2.07 0-2.86zM5.41 20L4 18.59l7.72-7.72 1.47 1.35L5.41 20z\"/>\n",
              "  </svg>\n",
              "      </button>\n",
              "      \n",
              "  <style>\n",
              "    .colab-df-container {\n",
              "      display:flex;\n",
              "      flex-wrap:wrap;\n",
              "      gap: 12px;\n",
              "    }\n",
              "\n",
              "    .colab-df-convert {\n",
              "      background-color: #E8F0FE;\n",
              "      border: none;\n",
              "      border-radius: 50%;\n",
              "      cursor: pointer;\n",
              "      display: none;\n",
              "      fill: #1967D2;\n",
              "      height: 32px;\n",
              "      padding: 0 0 0 0;\n",
              "      width: 32px;\n",
              "    }\n",
              "\n",
              "    .colab-df-convert:hover {\n",
              "      background-color: #E2EBFA;\n",
              "      box-shadow: 0px 1px 2px rgba(60, 64, 67, 0.3), 0px 1px 3px 1px rgba(60, 64, 67, 0.15);\n",
              "      fill: #174EA6;\n",
              "    }\n",
              "\n",
              "    [theme=dark] .colab-df-convert {\n",
              "      background-color: #3B4455;\n",
              "      fill: #D2E3FC;\n",
              "    }\n",
              "\n",
              "    [theme=dark] .colab-df-convert:hover {\n",
              "      background-color: #434B5C;\n",
              "      box-shadow: 0px 1px 3px 1px rgba(0, 0, 0, 0.15);\n",
              "      filter: drop-shadow(0px 1px 2px rgba(0, 0, 0, 0.3));\n",
              "      fill: #FFFFFF;\n",
              "    }\n",
              "  </style>\n",
              "\n",
              "      <script>\n",
              "        const buttonEl =\n",
              "          document.querySelector('#df-81e5ee4b-cd0a-4c33-b3a3-50b3a3e46ae7 button.colab-df-convert');\n",
              "        buttonEl.style.display =\n",
              "          google.colab.kernel.accessAllowed ? 'block' : 'none';\n",
              "\n",
              "        async function convertToInteractive(key) {\n",
              "          const element = document.querySelector('#df-81e5ee4b-cd0a-4c33-b3a3-50b3a3e46ae7');\n",
              "          const dataTable =\n",
              "            await google.colab.kernel.invokeFunction('convertToInteractive',\n",
              "                                                     [key], {});\n",
              "          if (!dataTable) return;\n",
              "\n",
              "          const docLinkHtml = 'Like what you see? Visit the ' +\n",
              "            '<a target=\"_blank\" href=https://colab.research.google.com/notebooks/data_table.ipynb>data table notebook</a>'\n",
              "            + ' to learn more about interactive tables.';\n",
              "          element.innerHTML = '';\n",
              "          dataTable['output_type'] = 'display_data';\n",
              "          await google.colab.output.renderOutput(dataTable, element);\n",
              "          const docLink = document.createElement('div');\n",
              "          docLink.innerHTML = docLinkHtml;\n",
              "          element.appendChild(docLink);\n",
              "        }\n",
              "      </script>\n",
              "    </div>\n",
              "  </div>\n",
              "  "
            ]
          },
          "metadata": {},
          "execution_count": 16
        }
      ],
      "source": [
        "df[df[\"Production\"]==729.0]"
      ]
    },
    {
      "cell_type": "code",
      "execution_count": 17,
      "id": "c3ebddc1-176f-4eab-bba1-c455f88508d4",
      "metadata": {
        "colab": {
          "base_uri": "https://localhost:8080/"
        },
        "id": "c3ebddc1-176f-4eab-bba1-c455f88508d4",
        "outputId": "3c1cabec-7f75-4052-c6a6-d9a082ac0123"
      },
      "outputs": [
        {
          "output_type": "stream",
          "name": "stdout",
          "text": [
            "There are 124 different types of crops\n",
            "------------------------------------\n",
            "They different types of crops are :- ['Arecanut' 'Other Kharif pulses' 'Rice' 'Banana' 'Cashewnut' 'Coconut '\n",
            " 'Dry ginger' 'Sugarcane' 'Sweet potato' 'Tapioca' 'Black pepper'\n",
            " 'Dry chillies' 'other oilseeds' 'Turmeric' 'Maize' 'Moong(Green Gram)'\n",
            " 'Urad' 'Arhar/Tur' 'Groundnut' 'Sunflower' 'Bajra' 'Castor seed'\n",
            " 'Cotton(lint)' 'Horse-gram' 'Jowar' 'Korra' 'Ragi' 'Tobacco' 'Gram'\n",
            " 'Wheat' 'Masoor' 'Sesamum' 'Linseed' 'Safflower' 'Onion'\n",
            " 'other misc. pulses' 'Samai' 'Small millets' 'Coriander' 'Potato'\n",
            " 'Other  Rabi pulses' 'Soyabean' 'Beans & Mutter(Vegetable)' 'Bhindi'\n",
            " 'Brinjal' 'Citrus Fruit' 'Cucumber' 'Grapes' 'Mango' 'Orange'\n",
            " 'other fibres' 'Other Fresh Fruits' 'Other Vegetables' 'Papaya'\n",
            " 'Pome Fruit' 'Tomato' 'Mesta' 'Cowpea(Lobia)' 'Lemon' 'Pome Granet'\n",
            " 'Sapota' 'Cabbage' 'Rapeseed &Mustard' 'Peas  (vegetable)' 'Niger seed'\n",
            " 'Bottle Gourd' 'Varagu' 'Garlic' 'Ginger' 'Oilseeds total' 'Pulses total'\n",
            " 'Jute' 'Peas & beans (Pulses)' 'Blackgram' 'Paddy' 'Pineapple' 'Barley'\n",
            " 'Sannhamp' 'Khesari' 'Guar seed' 'Moth' 'Other Cereals & Millets'\n",
            " 'Cond-spcs other' 'Turnip' 'Carrot' 'Redish' 'Arcanut (Processed)'\n",
            " 'Atcanut (Raw)' 'Cashewnut Processed' 'Cashewnut Raw' 'Cardamom' 'Rubber'\n",
            " 'Bitter Gourd' 'Drum Stick' 'Jack Fruit' 'Snak Guard' 'Tea' 'Coffee'\n",
            " 'Cauliflower' 'Other Citrus Fruit' 'Water Melon' 'Total foodgrain'\n",
            " 'Kapas' 'Colocosia' 'Lentil' 'Bean' 'Jobster' 'Perilla' 'Rajmash Kholar'\n",
            " 'Ricebean (nagadal)' 'Ash Gourd' 'Beet Root' 'Lab-Lab' 'Ribed Guard'\n",
            " 'Yam' 'Pump Kin' 'Apple' 'Peach' 'Pear' 'Plums' 'Litchi' 'Ber'\n",
            " 'Other Dry Fruit' 'Jute & mesta']\n"
          ]
        }
      ],
      "source": [
        "Total_of_unique_crops = df['Crop'].nunique()\n",
        "types_of_crops = df['Crop'].unique()\n",
        "def crops(Total_of_unique_crops,types_of_crops):\n",
        "        print('There are {} different types of crops'.format(Total_of_unique_crops))\n",
        "        print('------------------------------------')\n",
        "        print('They different types of crops are :-',types_of_crops)\n",
        "crops(Total_of_unique_crops,types_of_crops)"
      ]
    },
    {
      "cell_type": "code",
      "execution_count": 18,
      "id": "7541ffba-2f0c-4adb-be48-cc26a52ce7d5",
      "metadata": {
        "colab": {
          "base_uri": "https://localhost:8080/"
        },
        "id": "7541ffba-2f0c-4adb-be48-cc26a52ce7d5",
        "outputId": "49cc1417-8dba-4114-c668-37c82bc2b997"
      },
      "outputs": [
        {
          "output_type": "execute_result",
          "data": {
            "text/plain": [
              "Kharif         94283\n",
              "Rabi           66160\n",
              "Whole Year     56127\n",
              "Summer         14811\n",
              "Winter          6050\n",
              "Autumn          4930\n",
              "Name: Season, dtype: int64"
            ]
          },
          "metadata": {},
          "execution_count": 18
        }
      ],
      "source": [
        "df[\"Season\"].value_counts ()"
      ]
    },
    {
      "cell_type": "code",
      "execution_count": 19,
      "id": "ca65305a-151a-4d9a-b3e9-9003d8a58f37",
      "metadata": {
        "colab": {
          "base_uri": "https://localhost:8080/",
          "height": 349
        },
        "id": "ca65305a-151a-4d9a-b3e9-9003d8a58f37",
        "outputId": "7a2ad477-9859-435b-97a7-d00e4e331ea7"
      },
      "outputs": [
        {
          "output_type": "execute_result",
          "data": {
            "text/plain": [
              "<BarContainer object of 242361 artists>"
            ]
          },
          "metadata": {},
          "execution_count": 19
        },
        {
          "output_type": "display_data",
          "data": {
            "text/plain": [
              "<Figure size 504x360 with 1 Axes>"
            ],
            "image/png": "[encoded data removed]"
          },
          "metadata": {
            "needs_background": "light"
          }
        }
      ],
      "source": [
        "plt.figure(figsize=(7,5))\n",
        "plt.bar(df[\"Season\"],df[\"Production\"]) "
      ]
    },
    {
      "cell_type": "code",
      "execution_count": 20,
      "id": "8d1b18b8-67c7-4b10-9261-8441830307a5",
      "metadata": {
        "id": "8d1b18b8-67c7-4b10-9261-8441830307a5"
      },
      "outputs": [],
      "source": [
        "# lets get the production asper State_Name "
      ]
    },
    {
      "cell_type": "code",
      "execution_count": 21,
      "id": "12d6b351-ef5a-4aa0-867e-fa0cf3bff0a3",
      "metadata": {
        "colab": {
          "base_uri": "https://localhost:8080/"
        },
        "id": "12d6b351-ef5a-4aa0-867e-fa0cf3bff0a3",
        "outputId": "300acea7-deaa-419e-ca9c-b061366506d2"
      },
      "outputs": [
        {
          "output_type": "execute_result",
          "data": {
            "text/plain": [
              "State_Name\n",
              "Kerala                         9.788005e+10\n",
              "Andhra Pradesh                 1.732459e+10\n",
              "Tamil Nadu                     1.207644e+10\n",
              "Uttar Pradesh                  3.234493e+09\n",
              "Assam                          2.111752e+09\n",
              "West Bengal                    1.397904e+09\n",
              "Maharashtra                    1.263641e+09\n",
              "Karnataka                      8.634298e+08\n",
              "Andaman and Nicobar Islands    7.182232e+08\n",
              "Punjab                         5.863850e+08\n",
              "Gujarat                        5.242913e+08\n",
              "Goa                            5.057558e+08\n",
              "Madhya Pradesh                 4.488407e+08\n",
              "Puducherry                     3.847245e+08\n",
              "Haryana                        3.812739e+08\n",
              "Bihar                          3.664836e+08\n",
              "Telangana                      3.351479e+08\n",
              "Rajasthan                      2.813203e+08\n",
              "Odisha                         1.609041e+08\n",
              "Uttarakhand                    1.321774e+08\n",
              "Chhattisgarh                   1.009519e+08\n",
              "Himachal Pradesh               1.780517e+07\n",
              "Jammu and Kashmir              1.329102e+07\n",
              "Nagaland                       1.276595e+07\n",
              "Tripura                        1.252292e+07\n",
              "Meghalaya                      1.211250e+07\n",
              "Jharkhand                      1.077774e+07\n",
              "Arunachal Pradesh              6.823913e+06\n",
              "Manipur                        5.230917e+06\n",
              "Sikkim                         2.435735e+06\n",
              "Dadra and Nagar Haveli         1.847871e+06\n",
              "Mizoram                        1.661540e+06\n",
              "Chandigarh                     6.395650e+04\n",
              "Name: Production, dtype: float64"
            ]
          },
          "metadata": {},
          "execution_count": 21
        }
      ],
      "source": [
        "production_state=df.groupby(\"State_Name\")[\"Production\"].sum().sort_values(ascending=False)\n",
        "production_state\n",
        "\n"
      ]
    },
    {
      "cell_type": "code",
      "execution_count": 22,
      "id": "783fce9b-9187-4f65-94ef-b3a9516e3324",
      "metadata": {
        "id": "783fce9b-9187-4f65-94ef-b3a9516e3324"
      },
      "outputs": [],
      "source": [
        "# plt.bar(df[\"State_Name\"],df[\"Production\"])"
      ]
    },
    {
      "cell_type": "code",
      "execution_count": 23,
      "id": "8851718c-500c-4195-acc0-1617c69dd4ed",
      "metadata": {
        "colab": {
          "base_uri": "https://localhost:8080/"
        },
        "id": "8851718c-500c-4195-acc0-1617c69dd4ed",
        "outputId": "0e03ecf4-b2ab-4e79-bb70-6fa26f760562"
      },
      "outputs": [
        {
          "output_type": "execute_result",
          "data": {
            "text/plain": [
              "State_Name\n",
              "Kerala            9.788005e+10\n",
              "Andhra Pradesh    1.732459e+10\n",
              "Tamil Nadu        1.207644e+10\n",
              "Uttar Pradesh     3.234493e+09\n",
              "Assam             2.111752e+09\n",
              "Name: Production, dtype: float64"
            ]
          },
          "metadata": {},
          "execution_count": 23
        }
      ],
      "source": [
        "df.groupby(\"State_Name\").sum()[\"Production\"].nlargest()\n"
      ]
    },
    {
      "cell_type": "code",
      "source": [
        "df.groupby(\"State_Name\").sum()[\"Production\"].nsmallest()"
      ],
      "metadata": {
        "colab": {
          "base_uri": "https://localhost:8080/"
        },
        "id": "izLg7yy3FLAr",
        "outputId": "d13d63c5-e139-4bed-8720-b3df2ba3afb4"
      },
      "id": "izLg7yy3FLAr",
      "execution_count": 24,
      "outputs": [
        {
          "output_type": "execute_result",
          "data": {
            "text/plain": [
              "State_Name\n",
              "Chandigarh                  63956.50\n",
              "Mizoram                   1661539.83\n",
              "Dadra and Nagar Haveli    1847871.00\n",
              "Sikkim                    2435735.00\n",
              "Manipur                   5230917.00\n",
              "Name: Production, dtype: float64"
            ]
          },
          "metadata": {},
          "execution_count": 24
        }
      ]
    },
    {
      "cell_type": "code",
      "source": [
        "df.groupby(\"State_Name\").sum()[\"Production\"].round()"
      ],
      "metadata": {
        "colab": {
          "base_uri": "https://localhost:8080/"
        },
        "id": "M30lMVmzFZfc",
        "outputId": "d186f6c6-4a12-4212-bb1c-b6e4c9090e4a"
      },
      "id": "M30lMVmzFZfc",
      "execution_count": 25,
      "outputs": [
        {
          "output_type": "execute_result",
          "data": {
            "text/plain": [
              "State_Name\n",
              "Andaman and Nicobar Islands    7.182232e+08\n",
              "Andhra Pradesh                 1.732459e+10\n",
              "Arunachal Pradesh              6.823913e+06\n",
              "Assam                          2.111752e+09\n",
              "Bihar                          3.664836e+08\n",
              "Chandigarh                     6.395600e+04\n",
              "Chhattisgarh                   1.009519e+08\n",
              "Dadra and Nagar Haveli         1.847871e+06\n",
              "Goa                            5.057558e+08\n",
              "Gujarat                        5.242913e+08\n",
              "Haryana                        3.812739e+08\n",
              "Himachal Pradesh               1.780517e+07\n",
              "Jammu and Kashmir              1.329102e+07\n",
              "Jharkhand                      1.077774e+07\n",
              "Karnataka                      8.634298e+08\n",
              "Kerala                         9.788005e+10\n",
              "Madhya Pradesh                 4.488407e+08\n",
              "Maharashtra                    1.263641e+09\n",
              "Manipur                        5.230917e+06\n",
              "Meghalaya                      1.211250e+07\n",
              "Mizoram                        1.661540e+06\n",
              "Nagaland                       1.276595e+07\n",
              "Odisha                         1.609041e+08\n",
              "Puducherry                     3.847245e+08\n",
              "Punjab                         5.863850e+08\n",
              "Rajasthan                      2.813203e+08\n",
              "Sikkim                         2.435735e+06\n",
              "Tamil Nadu                     1.207644e+10\n",
              "Telangana                      3.351479e+08\n",
              "Tripura                        1.252292e+07\n",
              "Uttar Pradesh                  3.234493e+09\n",
              "Uttarakhand                    1.321774e+08\n",
              "West Bengal                    1.397904e+09\n",
              "Name: Production, dtype: float64"
            ]
          },
          "metadata": {},
          "execution_count": 25
        }
      ]
    },
    {
      "cell_type": "code",
      "source": [],
      "metadata": {
        "id": "mQuDq5WKFkSn"
      },
      "id": "mQuDq5WKFkSn",
      "execution_count": 198,
      "outputs": []
    },
    {
      "cell_type": "code",
      "source": [
        "production_dist=df.groupby('District_Name')[\"Production\"].sum().sort_values()\n",
        "p_dist=production_dist[0:5]\n",
        "p_dist"
      ],
      "metadata": {
        "colab": {
          "base_uri": "https://localhost:8080/"
        },
        "id": "sHiEZg8LJ4GR",
        "outputId": "50cbb478-5466-4eaa-c2d9-cf8eb1b14327"
      },
      "id": "sHiEZg8LJ4GR",
      "execution_count": 27,
      "outputs": [
        {
          "output_type": "execute_result",
          "data": {
            "text/plain": [
              "District_Name\n",
              "MUMBAI          2.0\n",
              "NAMSAI        794.0\n",
              "HYDERABAD    3835.0\n",
              "KHUNTI       5024.0\n",
              "RAMGARH      5472.0\n",
              "Name: Production, dtype: float64"
            ]
          },
          "metadata": {},
          "execution_count": 27
        }
      ]
    },
    {
      "cell_type": "code",
      "source": [
        "def prod_dist():\n",
        "  p_dist=production_dist[0:5]\n",
        "  plt.figure(figsize=(10,7))\n",
        "  plt.bar(df['District_Name'],df['Production'],color=\"red\")[0:5]\n",
        "  plt.xlabel(\"District_Name\")\n",
        "  plt.ylabel(\"Production\")\n",
        "  plt.show()\n",
        "  print(p_dist)\n",
        "prod_dist()  "
      ],
      "metadata": {
        "id": "L_okxbDdHXMT",
        "colab": {
          "base_uri": "https://localhost:8080/",
          "height": 582
        },
        "outputId": "d9574537-c48f-472c-a77e-565e3f4457ca"
      },
      "id": "L_okxbDdHXMT",
      "execution_count": 198,
      "outputs": [
        {
          "output_type": "display_data",
          "data": {
            "text/plain": [
              "<Figure size 720x504 with 1 Axes>"
            ],
            "image/png": "[encoded data removed]"
          },
          "metadata": {
            "needs_background": "light"
          }
        },
        {
          "output_type": "stream",
          "name": "stdout",
          "text": [
            "District_Name\n",
            "MUMBAI          2.0\n",
            "NAMSAI        794.0\n",
            "HYDERABAD    3835.0\n",
            "KHUNTI       5024.0\n",
            "RAMGARH      5472.0\n",
            "Name: Production, dtype: float64\n"
          ]
        }
      ]
    },
    {
      "cell_type": "code",
      "source": [
        "plt.figure(figsize=(10,7))\n",
        "plt.bar(df['Crop_Year'],df['Production'],color=\"red\")\n",
        "plt.xlabel(\"Crop_Year\")\n",
        "plt.ylabel(\"Production\")\n",
        "plt.show()"
      ],
      "metadata": {
        "id": "58IM5yZlL8zk",
        "colab": {
          "base_uri": "https://localhost:8080/",
          "height": 454
        },
        "outputId": "36885550-5d2f-43ed-abaf-a5b3285bbcae"
      },
      "id": "58IM5yZlL8zk",
      "execution_count": 197,
      "outputs": [
        {
          "output_type": "display_data",
          "data": {
            "text/plain": [
              "<Figure size 720x504 with 1 Axes>"
            ],
            "image/png": "[encoded data removed]"
          },
          "metadata": {
            "needs_background": "light"
          }
        }
      ]
    },
    {
      "cell_type": "code",
      "source": [
        "df.head()"
      ],
      "metadata": {
        "colab": {
          "base_uri": "https://localhost:8080/",
          "height": 206
        },
        "id": "im5K2mghRQr3",
        "outputId": "6983f61f-8a13-4165-c6eb-4cf002b8b404"
      },
      "id": "im5K2mghRQr3",
      "execution_count": 30,
      "outputs": [
        {
          "output_type": "execute_result",
          "data": {
            "text/plain": [
              "                    State_Name District_Name  Crop_Year       Season  \\\n",
              "0  Andaman and Nicobar Islands      NICOBARS       2000  Kharif        \n",
              "1  Andaman and Nicobar Islands      NICOBARS       2000  Kharif        \n",
              "2  Andaman and Nicobar Islands      NICOBARS       2000  Kharif        \n",
              "3  Andaman and Nicobar Islands      NICOBARS       2000  Whole Year    \n",
              "4  Andaman and Nicobar Islands      NICOBARS       2000  Whole Year    \n",
              "\n",
              "                  Crop    Area  Production  \n",
              "0             Arecanut  1254.0      2000.0  \n",
              "1  Other Kharif pulses     2.0         1.0  \n",
              "2                 Rice   102.0       321.0  \n",
              "3               Banana   176.0       641.0  \n",
              "4            Cashewnut   720.0       165.0  "
            ],
            "text/html": [
              "\n",
              "  <div id=\"df-2920d0fb-7a44-4e3b-998e-f6acaec9b519\">\n",
              "    <div class=\"colab-df-container\">\n",
              "      <div>\n",
              "<style scoped>\n",
              "    .dataframe tbody tr th:only-of-type {\n",
              "        vertical-align: middle;\n",
              "    }\n",
              "\n",
              "    .dataframe tbody tr th {\n",
              "        vertical-align: top;\n",
              "    }\n",
              "\n",
              "    .dataframe thead th {\n",
              "        text-align: right;\n",
              "    }\n",
              "</style>\n",
              "<table border=\"1\" class=\"dataframe\">\n",
              "  <thead>\n",
              "    <tr style=\"text-align: right;\">\n",
              "      <th></th>\n",
              "      <th>State_Name</th>\n",
              "      <th>District_Name</th>\n",
              "      <th>Crop_Year</th>\n",
              "      <th>Season</th>\n",
              "      <th>Crop</th>\n",
              "      <th>Area</th>\n",
              "      <th>Production</th>\n",
              "    </tr>\n",
              "  </thead>\n",
              "  <tbody>\n",
              "    <tr>\n",
              "      <th>0</th>\n",
              "      <td>Andaman and Nicobar Islands</td>\n",
              "      <td>NICOBARS</td>\n",
              "      <td>2000</td>\n",
              "      <td>Kharif</td>\n",
              "      <td>Arecanut</td>\n",
              "      <td>1254.0</td>\n",
              "      <td>2000.0</td>\n",
              "    </tr>\n",
              "    <tr>\n",
              "      <th>1</th>\n",
              "      <td>Andaman and Nicobar Islands</td>\n",
              "      <td>NICOBARS</td>\n",
              "      <td>2000</td>\n",
              "      <td>Kharif</td>\n",
              "      <td>Other Kharif pulses</td>\n",
              "      <td>2.0</td>\n",
              "      <td>1.0</td>\n",
              "    </tr>\n",
              "    <tr>\n",
              "      <th>2</th>\n",
              "      <td>Andaman and Nicobar Islands</td>\n",
              "      <td>NICOBARS</td>\n",
              "      <td>2000</td>\n",
              "      <td>Kharif</td>\n",
              "      <td>Rice</td>\n",
              "      <td>102.0</td>\n",
              "      <td>321.0</td>\n",
              "    </tr>\n",
              "    <tr>\n",
              "      <th>3</th>\n",
              "      <td>Andaman and Nicobar Islands</td>\n",
              "      <td>NICOBARS</td>\n",
              "      <td>2000</td>\n",
              "      <td>Whole Year</td>\n",
              "      <td>Banana</td>\n",
              "      <td>176.0</td>\n",
              "      <td>641.0</td>\n",
              "    </tr>\n",
              "    <tr>\n",
              "      <th>4</th>\n",
              "      <td>Andaman and Nicobar Islands</td>\n",
              "      <td>NICOBARS</td>\n",
              "      <td>2000</td>\n",
              "      <td>Whole Year</td>\n",
              "      <td>Cashewnut</td>\n",
              "      <td>720.0</td>\n",
              "      <td>165.0</td>\n",
              "    </tr>\n",
              "  </tbody>\n",
              "</table>\n",
              "</div>\n",
              "      <button class=\"colab-df-convert\" onclick=\"convertToInteractive('df-2920d0fb-7a44-4e3b-998e-f6acaec9b519')\"\n",
              "              title=\"Convert this dataframe to an interactive table.\"\n",
              "              style=\"display:none;\">\n",
              "        \n",
              "  <svg xmlns=\"http://www.w3.org/2000/svg\" height=\"24px\"viewBox=\"0 0 24 24\"\n",
              "       width=\"24px\">\n",
              "    <path d=\"M0 0h24v24H0V0z\" fill=\"none\"/>\n",
              "    <path d=\"M18.56 5.44l.94 2.06.94-2.06 2.06-.94-2.06-.94-.94-2.06-.94 2.06-2.06.94zm-11 1L8.5 8.5l.94-2.06 2.06-.94-2.06-.94L8.5 2.5l-.94 2.06-2.06.94zm10 10l.94 2.06.94-2.06 2.06-.94-2.06-.94-.94-2.06-.94 2.06-2.06.94z\"/><path d=\"M17.41 7.96l-1.37-1.37c-.4-.4-.92-.59-1.43-.59-.52 0-1.04.2-1.43.59L10.3 9.45l-7.72 7.72c-.78.78-.78 2.05 0 2.83L4 21.41c.39.39.9.59 1.41.59.51 0 1.02-.2 1.41-.59l7.78-7.78 2.81-2.81c.8-.78.8-2.07 0-2.86zM5.41 20L4 18.59l7.72-7.72 1.47 1.35L5.41 20z\"/>\n",
              "  </svg>\n",
              "      </button>\n",
              "      \n",
              "  <style>\n",
              "    .colab-df-container {\n",
              "      display:flex;\n",
              "      flex-wrap:wrap;\n",
              "      gap: 12px;\n",
              "    }\n",
              "\n",
              "    .colab-df-convert {\n",
              "      background-color: #E8F0FE;\n",
              "      border: none;\n",
              "      border-radius: 50%;\n",
              "      cursor: pointer;\n",
              "      display: none;\n",
              "      fill: #1967D2;\n",
              "      height: 32px;\n",
              "      padding: 0 0 0 0;\n",
              "      width: 32px;\n",
              "    }\n",
              "\n",
              "    .colab-df-convert:hover {\n",
              "      background-color: #E2EBFA;\n",
              "      box-shadow: 0px 1px 2px rgba(60, 64, 67, 0.3), 0px 1px 3px 1px rgba(60, 64, 67, 0.15);\n",
              "      fill: #174EA6;\n",
              "    }\n",
              "\n",
              "    [theme=dark] .colab-df-convert {\n",
              "      background-color: #3B4455;\n",
              "      fill: #D2E3FC;\n",
              "    }\n",
              "\n",
              "    [theme=dark] .colab-df-convert:hover {\n",
              "      background-color: #434B5C;\n",
              "      box-shadow: 0px 1px 3px 1px rgba(0, 0, 0, 0.15);\n",
              "      filter: drop-shadow(0px 1px 2px rgba(0, 0, 0, 0.3));\n",
              "      fill: #FFFFFF;\n",
              "    }\n",
              "  </style>\n",
              "\n",
              "      <script>\n",
              "        const buttonEl =\n",
              "          document.querySelector('#df-2920d0fb-7a44-4e3b-998e-f6acaec9b519 button.colab-df-convert');\n",
              "        buttonEl.style.display =\n",
              "          google.colab.kernel.accessAllowed ? 'block' : 'none';\n",
              "\n",
              "        async function convertToInteractive(key) {\n",
              "          const element = document.querySelector('#df-2920d0fb-7a44-4e3b-998e-f6acaec9b519');\n",
              "          const dataTable =\n",
              "            await google.colab.kernel.invokeFunction('convertToInteractive',\n",
              "                                                     [key], {});\n",
              "          if (!dataTable) return;\n",
              "\n",
              "          const docLinkHtml = 'Like what you see? Visit the ' +\n",
              "            '<a target=\"_blank\" href=https://colab.research.google.com/notebooks/data_table.ipynb>data table notebook</a>'\n",
              "            + ' to learn more about interactive tables.';\n",
              "          element.innerHTML = '';\n",
              "          dataTable['output_type'] = 'display_data';\n",
              "          await google.colab.output.renderOutput(dataTable, element);\n",
              "          const docLink = document.createElement('div');\n",
              "          docLink.innerHTML = docLinkHtml;\n",
              "          element.appendChild(docLink);\n",
              "        }\n",
              "      </script>\n",
              "    </div>\n",
              "  </div>\n",
              "  "
            ]
          },
          "metadata": {},
          "execution_count": 30
        }
      ]
    },
    {
      "cell_type": "code",
      "source": [
        "df.groupby('Season').sum()['Production']"
      ],
      "metadata": {
        "colab": {
          "base_uri": "https://localhost:8080/"
        },
        "id": "WYnJYbqqTD-q",
        "outputId": "0a1ee075-37e5-4b89-9a19-e2962329698f"
      },
      "id": "WYnJYbqqTD-q",
      "execution_count": 31,
      "outputs": [
        {
          "output_type": "execute_result",
          "data": {
            "text/plain": [
              "Season\n",
              "Autumn         6.441377e+07\n",
              "Kharif         4.029970e+09\n",
              "Rabi           2.051688e+09\n",
              "Summer         1.706579e+08\n",
              "Whole Year     1.344248e+11\n",
              "Winter         4.345498e+08\n",
              "Name: Production, dtype: float64"
            ]
          },
          "metadata": {},
          "execution_count": 31
        }
      ]
    },
    {
      "cell_type": "code",
      "source": [
        "def Percentage_production():\n",
        "  df[\"Percentage_production\"]=df[\"Production\"]/df[\"Production\"].sum()*100\n",
        "  print(df[\"Percentage_production\"])\n",
        " \n",
        "Percentage_production()  "
      ],
      "metadata": {
        "colab": {
          "base_uri": "https://localhost:8080/"
        },
        "id": "wQ4vciQTYZRI",
        "outputId": "9a0cdf04-2d07-45ed-e304-7eda185ab6ae"
      },
      "id": "wQ4vciQTYZRI",
      "execution_count": 32,
      "outputs": [
        {
          "output_type": "stream",
          "name": "stdout",
          "text": [
            "0         1.416670e-06\n",
            "1         7.083351e-10\n",
            "2         2.273756e-07\n",
            "3         4.540428e-07\n",
            "4         1.168753e-07\n",
            "              ...     \n",
            "246086    5.673764e-07\n",
            "246087    3.279592e-07\n",
            "246088    1.151045e-05\n",
            "246089    4.235129e-04\n",
            "246090    6.233349e-08\n",
            "Name: Percentage_production, Length: 242361, dtype: float64\n"
          ]
        }
      ]
    },
    {
      "cell_type": "code",
      "source": [
        "df.head()"
      ],
      "metadata": {
        "colab": {
          "base_uri": "https://localhost:8080/",
          "height": 206
        },
        "id": "MIyzmHBrYvt4",
        "outputId": "b23a12bd-3fbd-47fd-ee1d-51d12c6e21e3"
      },
      "id": "MIyzmHBrYvt4",
      "execution_count": 33,
      "outputs": [
        {
          "output_type": "execute_result",
          "data": {
            "text/plain": [
              "                    State_Name District_Name  Crop_Year       Season  \\\n",
              "0  Andaman and Nicobar Islands      NICOBARS       2000  Kharif        \n",
              "1  Andaman and Nicobar Islands      NICOBARS       2000  Kharif        \n",
              "2  Andaman and Nicobar Islands      NICOBARS       2000  Kharif        \n",
              "3  Andaman and Nicobar Islands      NICOBARS       2000  Whole Year    \n",
              "4  Andaman and Nicobar Islands      NICOBARS       2000  Whole Year    \n",
              "\n",
              "                  Crop    Area  Production  Percentage_production  \n",
              "0             Arecanut  1254.0      2000.0           1.416670e-06  \n",
              "1  Other Kharif pulses     2.0         1.0           7.083351e-10  \n",
              "2                 Rice   102.0       321.0           2.273756e-07  \n",
              "3               Banana   176.0       641.0           4.540428e-07  \n",
              "4            Cashewnut   720.0       165.0           1.168753e-07  "
            ],
            "text/html": [
              "\n",
              "  <div id=\"df-d0827794-0066-46ee-b897-00d87369cf14\">\n",
              "    <div class=\"colab-df-container\">\n",
              "      <div>\n",
              "<style scoped>\n",
              "    .dataframe tbody tr th:only-of-type {\n",
              "        vertical-align: middle;\n",
              "    }\n",
              "\n",
              "    .dataframe tbody tr th {\n",
              "        vertical-align: top;\n",
              "    }\n",
              "\n",
              "    .dataframe thead th {\n",
              "        text-align: right;\n",
              "    }\n",
              "</style>\n",
              "<table border=\"1\" class=\"dataframe\">\n",
              "  <thead>\n",
              "    <tr style=\"text-align: right;\">\n",
              "      <th></th>\n",
              "      <th>State_Name</th>\n",
              "      <th>District_Name</th>\n",
              "      <th>Crop_Year</th>\n",
              "      <th>Season</th>\n",
              "      <th>Crop</th>\n",
              "      <th>Area</th>\n",
              "      <th>Production</th>\n",
              "      <th>Percentage_production</th>\n",
              "    </tr>\n",
              "  </thead>\n",
              "  <tbody>\n",
              "    <tr>\n",
              "      <th>0</th>\n",
              "      <td>Andaman and Nicobar Islands</td>\n",
              "      <td>NICOBARS</td>\n",
              "      <td>2000</td>\n",
              "      <td>Kharif</td>\n",
              "      <td>Arecanut</td>\n",
              "      <td>1254.0</td>\n",
              "      <td>2000.0</td>\n",
              "      <td>1.416670e-06</td>\n",
              "    </tr>\n",
              "    <tr>\n",
              "      <th>1</th>\n",
              "      <td>Andaman and Nicobar Islands</td>\n",
              "      <td>NICOBARS</td>\n",
              "      <td>2000</td>\n",
              "      <td>Kharif</td>\n",
              "      <td>Other Kharif pulses</td>\n",
              "      <td>2.0</td>\n",
              "      <td>1.0</td>\n",
              "      <td>7.083351e-10</td>\n",
              "    </tr>\n",
              "    <tr>\n",
              "      <th>2</th>\n",
              "      <td>Andaman and Nicobar Islands</td>\n",
              "      <td>NICOBARS</td>\n",
              "      <td>2000</td>\n",
              "      <td>Kharif</td>\n",
              "      <td>Rice</td>\n",
              "      <td>102.0</td>\n",
              "      <td>321.0</td>\n",
              "      <td>2.273756e-07</td>\n",
              "    </tr>\n",
              "    <tr>\n",
              "      <th>3</th>\n",
              "      <td>Andaman and Nicobar Islands</td>\n",
              "      <td>NICOBARS</td>\n",
              "      <td>2000</td>\n",
              "      <td>Whole Year</td>\n",
              "      <td>Banana</td>\n",
              "      <td>176.0</td>\n",
              "      <td>641.0</td>\n",
              "      <td>4.540428e-07</td>\n",
              "    </tr>\n",
              "    <tr>\n",
              "      <th>4</th>\n",
              "      <td>Andaman and Nicobar Islands</td>\n",
              "      <td>NICOBARS</td>\n",
              "      <td>2000</td>\n",
              "      <td>Whole Year</td>\n",
              "      <td>Cashewnut</td>\n",
              "      <td>720.0</td>\n",
              "      <td>165.0</td>\n",
              "      <td>1.168753e-07</td>\n",
              "    </tr>\n",
              "  </tbody>\n",
              "</table>\n",
              "</div>\n",
              "      <button class=\"colab-df-convert\" onclick=\"convertToInteractive('df-d0827794-0066-46ee-b897-00d87369cf14')\"\n",
              "              title=\"Convert this dataframe to an interactive table.\"\n",
              "              style=\"display:none;\">\n",
              "        \n",
              "  <svg xmlns=\"http://www.w3.org/2000/svg\" height=\"24px\"viewBox=\"0 0 24 24\"\n",
              "       width=\"24px\">\n",
              "    <path d=\"M0 0h24v24H0V0z\" fill=\"none\"/>\n",
              "    <path d=\"M18.56 5.44l.94 2.06.94-2.06 2.06-.94-2.06-.94-.94-2.06-.94 2.06-2.06.94zm-11 1L8.5 8.5l.94-2.06 2.06-.94-2.06-.94L8.5 2.5l-.94 2.06-2.06.94zm10 10l.94 2.06.94-2.06 2.06-.94-2.06-.94-.94-2.06-.94 2.06-2.06.94z\"/><path d=\"M17.41 7.96l-1.37-1.37c-.4-.4-.92-.59-1.43-.59-.52 0-1.04.2-1.43.59L10.3 9.45l-7.72 7.72c-.78.78-.78 2.05 0 2.83L4 21.41c.39.39.9.59 1.41.59.51 0 1.02-.2 1.41-.59l7.78-7.78 2.81-2.81c.8-.78.8-2.07 0-2.86zM5.41 20L4 18.59l7.72-7.72 1.47 1.35L5.41 20z\"/>\n",
              "  </svg>\n",
              "      </button>\n",
              "      \n",
              "  <style>\n",
              "    .colab-df-container {\n",
              "      display:flex;\n",
              "      flex-wrap:wrap;\n",
              "      gap: 12px;\n",
              "    }\n",
              "\n",
              "    .colab-df-convert {\n",
              "      background-color: #E8F0FE;\n",
              "      border: none;\n",
              "      border-radius: 50%;\n",
              "      cursor: pointer;\n",
              "      display: none;\n",
              "      fill: #1967D2;\n",
              "      height: 32px;\n",
              "      padding: 0 0 0 0;\n",
              "      width: 32px;\n",
              "    }\n",
              "\n",
              "    .colab-df-convert:hover {\n",
              "      background-color: #E2EBFA;\n",
              "      box-shadow: 0px 1px 2px rgba(60, 64, 67, 0.3), 0px 1px 3px 1px rgba(60, 64, 67, 0.15);\n",
              "      fill: #174EA6;\n",
              "    }\n",
              "\n",
              "    [theme=dark] .colab-df-convert {\n",
              "      background-color: #3B4455;\n",
              "      fill: #D2E3FC;\n",
              "    }\n",
              "\n",
              "    [theme=dark] .colab-df-convert:hover {\n",
              "      background-color: #434B5C;\n",
              "      box-shadow: 0px 1px 3px 1px rgba(0, 0, 0, 0.15);\n",
              "      filter: drop-shadow(0px 1px 2px rgba(0, 0, 0, 0.3));\n",
              "      fill: #FFFFFF;\n",
              "    }\n",
              "  </style>\n",
              "\n",
              "      <script>\n",
              "        const buttonEl =\n",
              "          document.querySelector('#df-d0827794-0066-46ee-b897-00d87369cf14 button.colab-df-convert');\n",
              "        buttonEl.style.display =\n",
              "          google.colab.kernel.accessAllowed ? 'block' : 'none';\n",
              "\n",
              "        async function convertToInteractive(key) {\n",
              "          const element = document.querySelector('#df-d0827794-0066-46ee-b897-00d87369cf14');\n",
              "          const dataTable =\n",
              "            await google.colab.kernel.invokeFunction('convertToInteractive',\n",
              "                                                     [key], {});\n",
              "          if (!dataTable) return;\n",
              "\n",
              "          const docLinkHtml = 'Like what you see? Visit the ' +\n",
              "            '<a target=\"_blank\" href=https://colab.research.google.com/notebooks/data_table.ipynb>data table notebook</a>'\n",
              "            + ' to learn more about interactive tables.';\n",
              "          element.innerHTML = '';\n",
              "          dataTable['output_type'] = 'display_data';\n",
              "          await google.colab.output.renderOutput(dataTable, element);\n",
              "          const docLink = document.createElement('div');\n",
              "          docLink.innerHTML = docLinkHtml;\n",
              "          element.appendChild(docLink);\n",
              "        }\n",
              "      </script>\n",
              "    </div>\n",
              "  </div>\n",
              "  "
            ]
          },
          "metadata": {},
          "execution_count": 33
        }
      ]
    },
    {
      "cell_type": "code",
      "source": [
        "Maha_df = df[df[\"State_Name\"]==\"Maharashtra\"]\n",
        "Maha_df"
      ],
      "metadata": {
        "colab": {
          "base_uri": "https://localhost:8080/",
          "height": 423
        },
        "id": "DzsstenUYzkM",
        "outputId": "36d8e2b8-7ab2-4264-ad4e-e8c6456528dc"
      },
      "id": "DzsstenUYzkM",
      "execution_count": 34,
      "outputs": [
        {
          "output_type": "execute_result",
          "data": {
            "text/plain": [
              "         State_Name District_Name  Crop_Year       Season       Crop  \\\n",
              "125191  Maharashtra    AHMEDNAGAR       1997  Autumn           Maize   \n",
              "125192  Maharashtra    AHMEDNAGAR       1997  Kharif       Arhar/Tur   \n",
              "125193  Maharashtra    AHMEDNAGAR       1997  Kharif           Bajra   \n",
              "125194  Maharashtra    AHMEDNAGAR       1997  Kharif            Gram   \n",
              "125195  Maharashtra    AHMEDNAGAR       1997  Kharif           Jowar   \n",
              "...             ...           ...        ...          ...        ...   \n",
              "137814  Maharashtra      YAVATMAL       2014  Rabi             Jowar   \n",
              "137815  Maharashtra      YAVATMAL       2014  Rabi             Maize   \n",
              "137816  Maharashtra      YAVATMAL       2014  Rabi             Wheat   \n",
              "137817  Maharashtra      YAVATMAL       2014  Summer       Groundnut   \n",
              "137818  Maharashtra      YAVATMAL       2014  Whole Year   Sugarcane   \n",
              "\n",
              "            Area  Production  Percentage_production  \n",
              "125191       1.0      1113.0           7.883770e-07  \n",
              "125192   17600.0      6300.0           4.462511e-06  \n",
              "125193  274100.0    152800.0           1.082336e-04  \n",
              "125194   40800.0     18600.0           1.317503e-05  \n",
              "125195     900.0      1100.0           7.791686e-07  \n",
              "...          ...         ...                    ...  \n",
              "137814    4000.0      3300.0           2.337506e-06  \n",
              "137815    1300.0       200.0           1.416670e-07  \n",
              "137816   29100.0     26800.0           1.898338e-05  \n",
              "137817    9400.0     11500.0           8.145854e-06  \n",
              "137818    8100.0    553700.0           3.922051e-04  \n",
              "\n",
              "[12496 rows x 8 columns]"
            ],
            "text/html": [
              "\n",
              "  <div id=\"df-da5f8405-1249-4015-b4b9-96b210f477ed\">\n",
              "    <div class=\"colab-df-container\">\n",
              "      <div>\n",
              "<style scoped>\n",
              "    .dataframe tbody tr th:only-of-type {\n",
              "        vertical-align: middle;\n",
              "    }\n",
              "\n",
              "    .dataframe tbody tr th {\n",
              "        vertical-align: top;\n",
              "    }\n",
              "\n",
              "    .dataframe thead th {\n",
              "        text-align: right;\n",
              "    }\n",
              "</style>\n",
              "<table border=\"1\" class=\"dataframe\">\n",
              "  <thead>\n",
              "    <tr style=\"text-align: right;\">\n",
              "      <th></th>\n",
              "      <th>State_Name</th>\n",
              "      <th>District_Name</th>\n",
              "      <th>Crop_Year</th>\n",
              "      <th>Season</th>\n",
              "      <th>Crop</th>\n",
              "      <th>Area</th>\n",
              "      <th>Production</th>\n",
              "      <th>Percentage_production</th>\n",
              "    </tr>\n",
              "  </thead>\n",
              "  <tbody>\n",
              "    <tr>\n",
              "      <th>125191</th>\n",
              "      <td>Maharashtra</td>\n",
              "      <td>AHMEDNAGAR</td>\n",
              "      <td>1997</td>\n",
              "      <td>Autumn</td>\n",
              "      <td>Maize</td>\n",
              "      <td>1.0</td>\n",
              "      <td>1113.0</td>\n",
              "      <td>7.883770e-07</td>\n",
              "    </tr>\n",
              "    <tr>\n",
              "      <th>125192</th>\n",
              "      <td>Maharashtra</td>\n",
              "      <td>AHMEDNAGAR</td>\n",
              "      <td>1997</td>\n",
              "      <td>Kharif</td>\n",
              "      <td>Arhar/Tur</td>\n",
              "      <td>17600.0</td>\n",
              "      <td>6300.0</td>\n",
              "      <td>4.462511e-06</td>\n",
              "    </tr>\n",
              "    <tr>\n",
              "      <th>125193</th>\n",
              "      <td>Maharashtra</td>\n",
              "      <td>AHMEDNAGAR</td>\n",
              "      <td>1997</td>\n",
              "      <td>Kharif</td>\n",
              "      <td>Bajra</td>\n",
              "      <td>274100.0</td>\n",
              "      <td>152800.0</td>\n",
              "      <td>1.082336e-04</td>\n",
              "    </tr>\n",
              "    <tr>\n",
              "      <th>125194</th>\n",
              "      <td>Maharashtra</td>\n",
              "      <td>AHMEDNAGAR</td>\n",
              "      <td>1997</td>\n",
              "      <td>Kharif</td>\n",
              "      <td>Gram</td>\n",
              "      <td>40800.0</td>\n",
              "      <td>18600.0</td>\n",
              "      <td>1.317503e-05</td>\n",
              "    </tr>\n",
              "    <tr>\n",
              "      <th>125195</th>\n",
              "      <td>Maharashtra</td>\n",
              "      <td>AHMEDNAGAR</td>\n",
              "      <td>1997</td>\n",
              "      <td>Kharif</td>\n",
              "      <td>Jowar</td>\n",
              "      <td>900.0</td>\n",
              "      <td>1100.0</td>\n",
              "      <td>7.791686e-07</td>\n",
              "    </tr>\n",
              "    <tr>\n",
              "      <th>...</th>\n",
              "      <td>...</td>\n",
              "      <td>...</td>\n",
              "      <td>...</td>\n",
              "      <td>...</td>\n",
              "      <td>...</td>\n",
              "      <td>...</td>\n",
              "      <td>...</td>\n",
              "      <td>...</td>\n",
              "    </tr>\n",
              "    <tr>\n",
              "      <th>137814</th>\n",
              "      <td>Maharashtra</td>\n",
              "      <td>YAVATMAL</td>\n",
              "      <td>2014</td>\n",
              "      <td>Rabi</td>\n",
              "      <td>Jowar</td>\n",
              "      <td>4000.0</td>\n",
              "      <td>3300.0</td>\n",
              "      <td>2.337506e-06</td>\n",
              "    </tr>\n",
              "    <tr>\n",
              "      <th>137815</th>\n",
              "      <td>Maharashtra</td>\n",
              "      <td>YAVATMAL</td>\n",
              "      <td>2014</td>\n",
              "      <td>Rabi</td>\n",
              "      <td>Maize</td>\n",
              "      <td>1300.0</td>\n",
              "      <td>200.0</td>\n",
              "      <td>1.416670e-07</td>\n",
              "    </tr>\n",
              "    <tr>\n",
              "      <th>137816</th>\n",
              "      <td>Maharashtra</td>\n",
              "      <td>YAVATMAL</td>\n",
              "      <td>2014</td>\n",
              "      <td>Rabi</td>\n",
              "      <td>Wheat</td>\n",
              "      <td>29100.0</td>\n",
              "      <td>26800.0</td>\n",
              "      <td>1.898338e-05</td>\n",
              "    </tr>\n",
              "    <tr>\n",
              "      <th>137817</th>\n",
              "      <td>Maharashtra</td>\n",
              "      <td>YAVATMAL</td>\n",
              "      <td>2014</td>\n",
              "      <td>Summer</td>\n",
              "      <td>Groundnut</td>\n",
              "      <td>9400.0</td>\n",
              "      <td>11500.0</td>\n",
              "      <td>8.145854e-06</td>\n",
              "    </tr>\n",
              "    <tr>\n",
              "      <th>137818</th>\n",
              "      <td>Maharashtra</td>\n",
              "      <td>YAVATMAL</td>\n",
              "      <td>2014</td>\n",
              "      <td>Whole Year</td>\n",
              "      <td>Sugarcane</td>\n",
              "      <td>8100.0</td>\n",
              "      <td>553700.0</td>\n",
              "      <td>3.922051e-04</td>\n",
              "    </tr>\n",
              "  </tbody>\n",
              "</table>\n",
              "<p>12496 rows × 8 columns</p>\n",
              "</div>\n",
              "      <button class=\"colab-df-convert\" onclick=\"convertToInteractive('df-da5f8405-1249-4015-b4b9-96b210f477ed')\"\n",
              "              title=\"Convert this dataframe to an interactive table.\"\n",
              "              style=\"display:none;\">\n",
              "        \n",
              "  <svg xmlns=\"http://www.w3.org/2000/svg\" height=\"24px\"viewBox=\"0 0 24 24\"\n",
              "       width=\"24px\">\n",
              "    <path d=\"M0 0h24v24H0V0z\" fill=\"none\"/>\n",
              "    <path d=\"M18.56 5.44l.94 2.06.94-2.06 2.06-.94-2.06-.94-.94-2.06-.94 2.06-2.06.94zm-11 1L8.5 8.5l.94-2.06 2.06-.94-2.06-.94L8.5 2.5l-.94 2.06-2.06.94zm10 10l.94 2.06.94-2.06 2.06-.94-2.06-.94-.94-2.06-.94 2.06-2.06.94z\"/><path d=\"M17.41 7.96l-1.37-1.37c-.4-.4-.92-.59-1.43-.59-.52 0-1.04.2-1.43.59L10.3 9.45l-7.72 7.72c-.78.78-.78 2.05 0 2.83L4 21.41c.39.39.9.59 1.41.59.51 0 1.02-.2 1.41-.59l7.78-7.78 2.81-2.81c.8-.78.8-2.07 0-2.86zM5.41 20L4 18.59l7.72-7.72 1.47 1.35L5.41 20z\"/>\n",
              "  </svg>\n",
              "      </button>\n",
              "      \n",
              "  <style>\n",
              "    .colab-df-container {\n",
              "      display:flex;\n",
              "      flex-wrap:wrap;\n",
              "      gap: 12px;\n",
              "    }\n",
              "\n",
              "    .colab-df-convert {\n",
              "      background-color: #E8F0FE;\n",
              "      border: none;\n",
              "      border-radius: 50%;\n",
              "      cursor: pointer;\n",
              "      display: none;\n",
              "      fill: #1967D2;\n",
              "      height: 32px;\n",
              "      padding: 0 0 0 0;\n",
              "      width: 32px;\n",
              "    }\n",
              "\n",
              "    .colab-df-convert:hover {\n",
              "      background-color: #E2EBFA;\n",
              "      box-shadow: 0px 1px 2px rgba(60, 64, 67, 0.3), 0px 1px 3px 1px rgba(60, 64, 67, 0.15);\n",
              "      fill: #174EA6;\n",
              "    }\n",
              "\n",
              "    [theme=dark] .colab-df-convert {\n",
              "      background-color: #3B4455;\n",
              "      fill: #D2E3FC;\n",
              "    }\n",
              "\n",
              "    [theme=dark] .colab-df-convert:hover {\n",
              "      background-color: #434B5C;\n",
              "      box-shadow: 0px 1px 3px 1px rgba(0, 0, 0, 0.15);\n",
              "      filter: drop-shadow(0px 1px 2px rgba(0, 0, 0, 0.3));\n",
              "      fill: #FFFFFF;\n",
              "    }\n",
              "  </style>\n",
              "\n",
              "      <script>\n",
              "        const buttonEl =\n",
              "          document.querySelector('#df-da5f8405-1249-4015-b4b9-96b210f477ed button.colab-df-convert');\n",
              "        buttonEl.style.display =\n",
              "          google.colab.kernel.accessAllowed ? 'block' : 'none';\n",
              "\n",
              "        async function convertToInteractive(key) {\n",
              "          const element = document.querySelector('#df-da5f8405-1249-4015-b4b9-96b210f477ed');\n",
              "          const dataTable =\n",
              "            await google.colab.kernel.invokeFunction('convertToInteractive',\n",
              "                                                     [key], {});\n",
              "          if (!dataTable) return;\n",
              "\n",
              "          const docLinkHtml = 'Like what you see? Visit the ' +\n",
              "            '<a target=\"_blank\" href=https://colab.research.google.com/notebooks/data_table.ipynb>data table notebook</a>'\n",
              "            + ' to learn more about interactive tables.';\n",
              "          element.innerHTML = '';\n",
              "          dataTable['output_type'] = 'display_data';\n",
              "          await google.colab.output.renderOutput(dataTable, element);\n",
              "          const docLink = document.createElement('div');\n",
              "          docLink.innerHTML = docLinkHtml;\n",
              "          element.appendChild(docLink);\n",
              "        }\n",
              "      </script>\n",
              "    </div>\n",
              "  </div>\n",
              "  "
            ]
          },
          "metadata": {},
          "execution_count": 34
        }
      ]
    },
    {
      "cell_type": "code",
      "source": [
        "Maha_df.head(10)"
      ],
      "metadata": {
        "colab": {
          "base_uri": "https://localhost:8080/",
          "height": 363
        },
        "id": "2K8KYXpyZu-R",
        "outputId": "d6cc886c-5b04-4702-a6fe-5d1edaf8fbc3"
      },
      "id": "2K8KYXpyZu-R",
      "execution_count": 35,
      "outputs": [
        {
          "output_type": "execute_result",
          "data": {
            "text/plain": [
              "         State_Name District_Name  Crop_Year       Season               Crop  \\\n",
              "125191  Maharashtra    AHMEDNAGAR       1997  Autumn                   Maize   \n",
              "125192  Maharashtra    AHMEDNAGAR       1997  Kharif               Arhar/Tur   \n",
              "125193  Maharashtra    AHMEDNAGAR       1997  Kharif                   Bajra   \n",
              "125194  Maharashtra    AHMEDNAGAR       1997  Kharif                    Gram   \n",
              "125195  Maharashtra    AHMEDNAGAR       1997  Kharif                   Jowar   \n",
              "125196  Maharashtra    AHMEDNAGAR       1997  Kharif                   Maize   \n",
              "125197  Maharashtra    AHMEDNAGAR       1997  Kharif       Moong(Green Gram)   \n",
              "125198  Maharashtra    AHMEDNAGAR       1997  Kharif            Pulses total   \n",
              "125199  Maharashtra    AHMEDNAGAR       1997  Kharif                    Ragi   \n",
              "125200  Maharashtra    AHMEDNAGAR       1997  Kharif                    Rice   \n",
              "\n",
              "            Area  Production  Percentage_production  \n",
              "125191       1.0      1113.0           7.883770e-07  \n",
              "125192   17600.0      6300.0           4.462511e-06  \n",
              "125193  274100.0    152800.0           1.082336e-04  \n",
              "125194   40800.0     18600.0           1.317503e-05  \n",
              "125195     900.0      1100.0           7.791686e-07  \n",
              "125196    4400.0      4700.0           3.329175e-06  \n",
              "125197   10200.0       900.0           6.375016e-07  \n",
              "125198     451.0       130.0           9.208356e-08  \n",
              "125199    2600.0      2100.0           1.487504e-06  \n",
              "125200    5900.0      7200.0           5.100013e-06  "
            ],
            "text/html": [
              "\n",
              "  <div id=\"df-ceb46d71-ab45-4991-852b-3dd17a37200e\">\n",
              "    <div class=\"colab-df-container\">\n",
              "      <div>\n",
              "<style scoped>\n",
              "    .dataframe tbody tr th:only-of-type {\n",
              "        vertical-align: middle;\n",
              "    }\n",
              "\n",
              "    .dataframe tbody tr th {\n",
              "        vertical-align: top;\n",
              "    }\n",
              "\n",
              "    .dataframe thead th {\n",
              "        text-align: right;\n",
              "    }\n",
              "</style>\n",
              "<table border=\"1\" class=\"dataframe\">\n",
              "  <thead>\n",
              "    <tr style=\"text-align: right;\">\n",
              "      <th></th>\n",
              "      <th>State_Name</th>\n",
              "      <th>District_Name</th>\n",
              "      <th>Crop_Year</th>\n",
              "      <th>Season</th>\n",
              "      <th>Crop</th>\n",
              "      <th>Area</th>\n",
              "      <th>Production</th>\n",
              "      <th>Percentage_production</th>\n",
              "    </tr>\n",
              "  </thead>\n",
              "  <tbody>\n",
              "    <tr>\n",
              "      <th>125191</th>\n",
              "      <td>Maharashtra</td>\n",
              "      <td>AHMEDNAGAR</td>\n",
              "      <td>1997</td>\n",
              "      <td>Autumn</td>\n",
              "      <td>Maize</td>\n",
              "      <td>1.0</td>\n",
              "      <td>1113.0</td>\n",
              "      <td>7.883770e-07</td>\n",
              "    </tr>\n",
              "    <tr>\n",
              "      <th>125192</th>\n",
              "      <td>Maharashtra</td>\n",
              "      <td>AHMEDNAGAR</td>\n",
              "      <td>1997</td>\n",
              "      <td>Kharif</td>\n",
              "      <td>Arhar/Tur</td>\n",
              "      <td>17600.0</td>\n",
              "      <td>6300.0</td>\n",
              "      <td>4.462511e-06</td>\n",
              "    </tr>\n",
              "    <tr>\n",
              "      <th>125193</th>\n",
              "      <td>Maharashtra</td>\n",
              "      <td>AHMEDNAGAR</td>\n",
              "      <td>1997</td>\n",
              "      <td>Kharif</td>\n",
              "      <td>Bajra</td>\n",
              "      <td>274100.0</td>\n",
              "      <td>152800.0</td>\n",
              "      <td>1.082336e-04</td>\n",
              "    </tr>\n",
              "    <tr>\n",
              "      <th>125194</th>\n",
              "      <td>Maharashtra</td>\n",
              "      <td>AHMEDNAGAR</td>\n",
              "      <td>1997</td>\n",
              "      <td>Kharif</td>\n",
              "      <td>Gram</td>\n",
              "      <td>40800.0</td>\n",
              "      <td>18600.0</td>\n",
              "      <td>1.317503e-05</td>\n",
              "    </tr>\n",
              "    <tr>\n",
              "      <th>125195</th>\n",
              "      <td>Maharashtra</td>\n",
              "      <td>AHMEDNAGAR</td>\n",
              "      <td>1997</td>\n",
              "      <td>Kharif</td>\n",
              "      <td>Jowar</td>\n",
              "      <td>900.0</td>\n",
              "      <td>1100.0</td>\n",
              "      <td>7.791686e-07</td>\n",
              "    </tr>\n",
              "    <tr>\n",
              "      <th>125196</th>\n",
              "      <td>Maharashtra</td>\n",
              "      <td>AHMEDNAGAR</td>\n",
              "      <td>1997</td>\n",
              "      <td>Kharif</td>\n",
              "      <td>Maize</td>\n",
              "      <td>4400.0</td>\n",
              "      <td>4700.0</td>\n",
              "      <td>3.329175e-06</td>\n",
              "    </tr>\n",
              "    <tr>\n",
              "      <th>125197</th>\n",
              "      <td>Maharashtra</td>\n",
              "      <td>AHMEDNAGAR</td>\n",
              "      <td>1997</td>\n",
              "      <td>Kharif</td>\n",
              "      <td>Moong(Green Gram)</td>\n",
              "      <td>10200.0</td>\n",
              "      <td>900.0</td>\n",
              "      <td>6.375016e-07</td>\n",
              "    </tr>\n",
              "    <tr>\n",
              "      <th>125198</th>\n",
              "      <td>Maharashtra</td>\n",
              "      <td>AHMEDNAGAR</td>\n",
              "      <td>1997</td>\n",
              "      <td>Kharif</td>\n",
              "      <td>Pulses total</td>\n",
              "      <td>451.0</td>\n",
              "      <td>130.0</td>\n",
              "      <td>9.208356e-08</td>\n",
              "    </tr>\n",
              "    <tr>\n",
              "      <th>125199</th>\n",
              "      <td>Maharashtra</td>\n",
              "      <td>AHMEDNAGAR</td>\n",
              "      <td>1997</td>\n",
              "      <td>Kharif</td>\n",
              "      <td>Ragi</td>\n",
              "      <td>2600.0</td>\n",
              "      <td>2100.0</td>\n",
              "      <td>1.487504e-06</td>\n",
              "    </tr>\n",
              "    <tr>\n",
              "      <th>125200</th>\n",
              "      <td>Maharashtra</td>\n",
              "      <td>AHMEDNAGAR</td>\n",
              "      <td>1997</td>\n",
              "      <td>Kharif</td>\n",
              "      <td>Rice</td>\n",
              "      <td>5900.0</td>\n",
              "      <td>7200.0</td>\n",
              "      <td>5.100013e-06</td>\n",
              "    </tr>\n",
              "  </tbody>\n",
              "</table>\n",
              "</div>\n",
              "      <button class=\"colab-df-convert\" onclick=\"convertToInteractive('df-ceb46d71-ab45-4991-852b-3dd17a37200e')\"\n",
              "              title=\"Convert this dataframe to an interactive table.\"\n",
              "              style=\"display:none;\">\n",
              "        \n",
              "  <svg xmlns=\"http://www.w3.org/2000/svg\" height=\"24px\"viewBox=\"0 0 24 24\"\n",
              "       width=\"24px\">\n",
              "    <path d=\"M0 0h24v24H0V0z\" fill=\"none\"/>\n",
              "    <path d=\"M18.56 5.44l.94 2.06.94-2.06 2.06-.94-2.06-.94-.94-2.06-.94 2.06-2.06.94zm-11 1L8.5 8.5l.94-2.06 2.06-.94-2.06-.94L8.5 2.5l-.94 2.06-2.06.94zm10 10l.94 2.06.94-2.06 2.06-.94-2.06-.94-.94-2.06-.94 2.06-2.06.94z\"/><path d=\"M17.41 7.96l-1.37-1.37c-.4-.4-.92-.59-1.43-.59-.52 0-1.04.2-1.43.59L10.3 9.45l-7.72 7.72c-.78.78-.78 2.05 0 2.83L4 21.41c.39.39.9.59 1.41.59.51 0 1.02-.2 1.41-.59l7.78-7.78 2.81-2.81c.8-.78.8-2.07 0-2.86zM5.41 20L4 18.59l7.72-7.72 1.47 1.35L5.41 20z\"/>\n",
              "  </svg>\n",
              "      </button>\n",
              "      \n",
              "  <style>\n",
              "    .colab-df-container {\n",
              "      display:flex;\n",
              "      flex-wrap:wrap;\n",
              "      gap: 12px;\n",
              "    }\n",
              "\n",
              "    .colab-df-convert {\n",
              "      background-color: #E8F0FE;\n",
              "      border: none;\n",
              "      border-radius: 50%;\n",
              "      cursor: pointer;\n",
              "      display: none;\n",
              "      fill: #1967D2;\n",
              "      height: 32px;\n",
              "      padding: 0 0 0 0;\n",
              "      width: 32px;\n",
              "    }\n",
              "\n",
              "    .colab-df-convert:hover {\n",
              "      background-color: #E2EBFA;\n",
              "      box-shadow: 0px 1px 2px rgba(60, 64, 67, 0.3), 0px 1px 3px 1px rgba(60, 64, 67, 0.15);\n",
              "      fill: #174EA6;\n",
              "    }\n",
              "\n",
              "    [theme=dark] .colab-df-convert {\n",
              "      background-color: #3B4455;\n",
              "      fill: #D2E3FC;\n",
              "    }\n",
              "\n",
              "    [theme=dark] .colab-df-convert:hover {\n",
              "      background-color: #434B5C;\n",
              "      box-shadow: 0px 1px 3px 1px rgba(0, 0, 0, 0.15);\n",
              "      filter: drop-shadow(0px 1px 2px rgba(0, 0, 0, 0.3));\n",
              "      fill: #FFFFFF;\n",
              "    }\n",
              "  </style>\n",
              "\n",
              "      <script>\n",
              "        const buttonEl =\n",
              "          document.querySelector('#df-ceb46d71-ab45-4991-852b-3dd17a37200e button.colab-df-convert');\n",
              "        buttonEl.style.display =\n",
              "          google.colab.kernel.accessAllowed ? 'block' : 'none';\n",
              "\n",
              "        async function convertToInteractive(key) {\n",
              "          const element = document.querySelector('#df-ceb46d71-ab45-4991-852b-3dd17a37200e');\n",
              "          const dataTable =\n",
              "            await google.colab.kernel.invokeFunction('convertToInteractive',\n",
              "                                                     [key], {});\n",
              "          if (!dataTable) return;\n",
              "\n",
              "          const docLinkHtml = 'Like what you see? Visit the ' +\n",
              "            '<a target=\"_blank\" href=https://colab.research.google.com/notebooks/data_table.ipynb>data table notebook</a>'\n",
              "            + ' to learn more about interactive tables.';\n",
              "          element.innerHTML = '';\n",
              "          dataTable['output_type'] = 'display_data';\n",
              "          await google.colab.output.renderOutput(dataTable, element);\n",
              "          const docLink = document.createElement('div');\n",
              "          docLink.innerHTML = docLinkHtml;\n",
              "          element.appendChild(docLink);\n",
              "        }\n",
              "      </script>\n",
              "    </div>\n",
              "  </div>\n",
              "  "
            ]
          },
          "metadata": {},
          "execution_count": 35
        }
      ]
    },
    {
      "cell_type": "code",
      "source": [
        "\n",
        "Maha_df.groupby('Season').sum()['Production']"
      ],
      "metadata": {
        "colab": {
          "base_uri": "https://localhost:8080/"
        },
        "id": "T2c0hW67a9zm",
        "outputId": "e24e11d7-deb2-4f2e-b76e-05188d82b677"
      },
      "id": "T2c0hW67a9zm",
      "execution_count": 36,
      "outputs": [
        {
          "output_type": "execute_result",
          "data": {
            "text/plain": [
              "Season\n",
              "Autumn             19695.0\n",
              "Kharif         536463806.7\n",
              "Rabi            70912135.5\n",
              "Summer           2957812.0\n",
              "Whole Year     653287157.0\n",
              "Name: Production, dtype: float64"
            ]
          },
          "metadata": {},
          "execution_count": 36
        }
      ]
    },
    {
      "cell_type": "code",
      "source": [
        "high_Maha_pro = Maha_df.groupby('Crop').sum()['Production'].sort_values(ascending=False)\n",
        "high_Maha_pro.nlargest(10)"
      ],
      "metadata": {
        "colab": {
          "base_uri": "https://localhost:8080/"
        },
        "id": "0KZqUow8bSyw",
        "outputId": "155deda7-8a91-4b08-e963-da2d8f930605"
      },
      "id": "0KZqUow8bSyw",
      "execution_count": 37,
      "outputs": [
        {
          "output_type": "execute_result",
          "data": {
            "text/plain": [
              "Crop\n",
              "Sugarcane       938485965.0\n",
              "Cotton(lint)     71786349.0\n",
              "Jowar            55018576.0\n",
              "Rice             43008628.0\n",
              "Soyabean         39994352.0\n",
              "Wheat            22443475.0\n",
              "Maize            20853343.0\n",
              "Bajra            16029469.0\n",
              "Arhar/Tur        12870087.0\n",
              "Gram             12630797.0\n",
              "Name: Production, dtype: float64"
            ]
          },
          "metadata": {},
          "execution_count": 37
        }
      ]
    },
    {
      "cell_type": "code",
      "source": [
        "len(Maha_df['Crop'].unique())"
      ],
      "metadata": {
        "colab": {
          "base_uri": "https://localhost:8080/"
        },
        "id": "TH3vnVBWlG6_",
        "outputId": "81c174d1-e219-4bbd-ce83-6575d66436d3"
      },
      "id": "TH3vnVBWlG6_",
      "execution_count": 38,
      "outputs": [
        {
          "output_type": "execute_result",
          "data": {
            "text/plain": [
              "34"
            ]
          },
          "metadata": {},
          "execution_count": 38
        }
      ]
    },
    {
      "cell_type": "code",
      "source": [
        "# in Maharashtra highest yeiled crop is Sugarcan and 2nd is Cotton \n",
        "d=Maha_df[\"Crop\"][0:35]\n",
        "d"
      ],
      "metadata": {
        "colab": {
          "base_uri": "https://localhost:8080/"
        },
        "id": "JBDj05uQfMZt",
        "outputId": "7f9cc652-61f5-4ccb-f715-9c2bd5d2faa4"
      },
      "id": "JBDj05uQfMZt",
      "execution_count": 39,
      "outputs": [
        {
          "output_type": "execute_result",
          "data": {
            "text/plain": [
              "125191                      Maize\n",
              "125192                  Arhar/Tur\n",
              "125193                      Bajra\n",
              "125194                       Gram\n",
              "125195                      Jowar\n",
              "125196                      Maize\n",
              "125197          Moong(Green Gram)\n",
              "125198               Pulses total\n",
              "125199                       Ragi\n",
              "125200                       Rice\n",
              "125201                  Sugarcane\n",
              "125202            Total foodgrain\n",
              "125203                       Urad\n",
              "125204                      Jowar\n",
              "125205                      Maize\n",
              "125206         Other  Rabi pulses\n",
              "125207                      Wheat\n",
              "125208                      Maize\n",
              "125209               Cotton(lint)\n",
              "125210                  Arhar/Tur\n",
              "125211                      Bajra\n",
              "125212                Castor seed\n",
              "125213               Cotton(lint)\n",
              "125214                  Groundnut\n",
              "125215                      Jowar\n",
              "125216                      Maize\n",
              "125217          Moong(Green Gram)\n",
              "125218                 Niger seed\n",
              "125219    Other Cereals & Millets\n",
              "125220        Other Kharif pulses\n",
              "125221                       Ragi\n",
              "125222                       Rice\n",
              "125223                    Sesamum\n",
              "125224                   Soyabean\n",
              "125225                  Sugarcane\n",
              "Name: Crop, dtype: object"
            ]
          },
          "metadata": {},
          "execution_count": 39
        }
      ]
    },
    {
      "cell_type": "code",
      "source": [
        "# plt.barh(d[\"Crop\"],d[\"Production\"],color=[\"grey\",\"blue\",\"red\",\"pink\"])"
      ],
      "metadata": {
        "id": "vHAFcPlzgFI2"
      },
      "id": "vHAFcPlzgFI2",
      "execution_count": 40,
      "outputs": []
    },
    {
      "cell_type": "code",
      "source": [
        "Sugar_df=df[df[\"Crop\"]==\"Sugarcane\"]\n",
        "Sugar_df "
      ],
      "metadata": {
        "colab": {
          "base_uri": "https://localhost:8080/",
          "height": 423
        },
        "id": "-_gc4oXtgtQZ",
        "outputId": "f71711d5-df56-41ab-ed65-26f36ff6c3fc"
      },
      "id": "-_gc4oXtgtQZ",
      "execution_count": 41,
      "outputs": [
        {
          "output_type": "execute_result",
          "data": {
            "text/plain": [
              "                         State_Name District_Name  Crop_Year       Season  \\\n",
              "7       Andaman and Nicobar Islands      NICOBARS       2000  Whole Year    \n",
              "16      Andaman and Nicobar Islands      NICOBARS       2001  Whole Year    \n",
              "26      Andaman and Nicobar Islands      NICOBARS       2002  Whole Year    \n",
              "60      Andaman and Nicobar Islands      NICOBARS       2006  Whole Year    \n",
              "65      Andaman and Nicobar Islands      NICOBARS       2010  Autumn        \n",
              "...                             ...           ...        ...          ...   \n",
              "245953                  West Bengal       PURULIA       2010  Whole Year    \n",
              "245984                  West Bengal       PURULIA       2011  Whole Year    \n",
              "246016                  West Bengal       PURULIA       2012  Whole Year    \n",
              "246051                  West Bengal       PURULIA       2013  Whole Year    \n",
              "246088                  West Bengal       PURULIA       2014  Whole Year    \n",
              "\n",
              "             Crop   Area  Production  Percentage_production  \n",
              "7       Sugarcane    1.0        2.00           1.416670e-09  \n",
              "16      Sugarcane    1.0        1.00           7.083351e-10  \n",
              "26      Sugarcane    5.0       40.00           2.833340e-08  \n",
              "60      Sugarcane    0.2        0.50           3.541676e-10  \n",
              "65      Sugarcane   13.4       41.75           2.957299e-08  \n",
              "...           ...    ...         ...                    ...  \n",
              "245953  Sugarcane  303.0    11541.00           8.174895e-06  \n",
              "245984  Sugarcane  303.0    20264.00           1.435370e-05  \n",
              "246016  Sugarcane  314.0    11199.00           7.932645e-06  \n",
              "246051  Sugarcane  161.0     7948.00           5.629847e-06  \n",
              "246088  Sugarcane  324.0    16250.00           1.151045e-05  \n",
              "\n",
              "[7827 rows x 8 columns]"
            ],
            "text/html": [
              "\n",
              "  <div id=\"df-d8132566-10ff-4f5c-9ecf-2f1a32ef2509\">\n",
              "    <div class=\"colab-df-container\">\n",
              "      <div>\n",
              "<style scoped>\n",
              "    .dataframe tbody tr th:only-of-type {\n",
              "        vertical-align: middle;\n",
              "    }\n",
              "\n",
              "    .dataframe tbody tr th {\n",
              "        vertical-align: top;\n",
              "    }\n",
              "\n",
              "    .dataframe thead th {\n",
              "        text-align: right;\n",
              "    }\n",
              "</style>\n",
              "<table border=\"1\" class=\"dataframe\">\n",
              "  <thead>\n",
              "    <tr style=\"text-align: right;\">\n",
              "      <th></th>\n",
              "      <th>State_Name</th>\n",
              "      <th>District_Name</th>\n",
              "      <th>Crop_Year</th>\n",
              "      <th>Season</th>\n",
              "      <th>Crop</th>\n",
              "      <th>Area</th>\n",
              "      <th>Production</th>\n",
              "      <th>Percentage_production</th>\n",
              "    </tr>\n",
              "  </thead>\n",
              "  <tbody>\n",
              "    <tr>\n",
              "      <th>7</th>\n",
              "      <td>Andaman and Nicobar Islands</td>\n",
              "      <td>NICOBARS</td>\n",
              "      <td>2000</td>\n",
              "      <td>Whole Year</td>\n",
              "      <td>Sugarcane</td>\n",
              "      <td>1.0</td>\n",
              "      <td>2.00</td>\n",
              "      <td>1.416670e-09</td>\n",
              "    </tr>\n",
              "    <tr>\n",
              "      <th>16</th>\n",
              "      <td>Andaman and Nicobar Islands</td>\n",
              "      <td>NICOBARS</td>\n",
              "      <td>2001</td>\n",
              "      <td>Whole Year</td>\n",
              "      <td>Sugarcane</td>\n",
              "      <td>1.0</td>\n",
              "      <td>1.00</td>\n",
              "      <td>7.083351e-10</td>\n",
              "    </tr>\n",
              "    <tr>\n",
              "      <th>26</th>\n",
              "      <td>Andaman and Nicobar Islands</td>\n",
              "      <td>NICOBARS</td>\n",
              "      <td>2002</td>\n",
              "      <td>Whole Year</td>\n",
              "      <td>Sugarcane</td>\n",
              "      <td>5.0</td>\n",
              "      <td>40.00</td>\n",
              "      <td>2.833340e-08</td>\n",
              "    </tr>\n",
              "    <tr>\n",
              "      <th>60</th>\n",
              "      <td>Andaman and Nicobar Islands</td>\n",
              "      <td>NICOBARS</td>\n",
              "      <td>2006</td>\n",
              "      <td>Whole Year</td>\n",
              "      <td>Sugarcane</td>\n",
              "      <td>0.2</td>\n",
              "      <td>0.50</td>\n",
              "      <td>3.541676e-10</td>\n",
              "    </tr>\n",
              "    <tr>\n",
              "      <th>65</th>\n",
              "      <td>Andaman and Nicobar Islands</td>\n",
              "      <td>NICOBARS</td>\n",
              "      <td>2010</td>\n",
              "      <td>Autumn</td>\n",
              "      <td>Sugarcane</td>\n",
              "      <td>13.4</td>\n",
              "      <td>41.75</td>\n",
              "      <td>2.957299e-08</td>\n",
              "    </tr>\n",
              "    <tr>\n",
              "      <th>...</th>\n",
              "      <td>...</td>\n",
              "      <td>...</td>\n",
              "      <td>...</td>\n",
              "      <td>...</td>\n",
              "      <td>...</td>\n",
              "      <td>...</td>\n",
              "      <td>...</td>\n",
              "      <td>...</td>\n",
              "    </tr>\n",
              "    <tr>\n",
              "      <th>245953</th>\n",
              "      <td>West Bengal</td>\n",
              "      <td>PURULIA</td>\n",
              "      <td>2010</td>\n",
              "      <td>Whole Year</td>\n",
              "      <td>Sugarcane</td>\n",
              "      <td>303.0</td>\n",
              "      <td>11541.00</td>\n",
              "      <td>8.174895e-06</td>\n",
              "    </tr>\n",
              "    <tr>\n",
              "      <th>245984</th>\n",
              "      <td>West Bengal</td>\n",
              "      <td>PURULIA</td>\n",
              "      <td>2011</td>\n",
              "      <td>Whole Year</td>\n",
              "      <td>Sugarcane</td>\n",
              "      <td>303.0</td>\n",
              "      <td>20264.00</td>\n",
              "      <td>1.435370e-05</td>\n",
              "    </tr>\n",
              "    <tr>\n",
              "      <th>246016</th>\n",
              "      <td>West Bengal</td>\n",
              "      <td>PURULIA</td>\n",
              "      <td>2012</td>\n",
              "      <td>Whole Year</td>\n",
              "      <td>Sugarcane</td>\n",
              "      <td>314.0</td>\n",
              "      <td>11199.00</td>\n",
              "      <td>7.932645e-06</td>\n",
              "    </tr>\n",
              "    <tr>\n",
              "      <th>246051</th>\n",
              "      <td>West Bengal</td>\n",
              "      <td>PURULIA</td>\n",
              "      <td>2013</td>\n",
              "      <td>Whole Year</td>\n",
              "      <td>Sugarcane</td>\n",
              "      <td>161.0</td>\n",
              "      <td>7948.00</td>\n",
              "      <td>5.629847e-06</td>\n",
              "    </tr>\n",
              "    <tr>\n",
              "      <th>246088</th>\n",
              "      <td>West Bengal</td>\n",
              "      <td>PURULIA</td>\n",
              "      <td>2014</td>\n",
              "      <td>Whole Year</td>\n",
              "      <td>Sugarcane</td>\n",
              "      <td>324.0</td>\n",
              "      <td>16250.00</td>\n",
              "      <td>1.151045e-05</td>\n",
              "    </tr>\n",
              "  </tbody>\n",
              "</table>\n",
              "<p>7827 rows × 8 columns</p>\n",
              "</div>\n",
              "      <button class=\"colab-df-convert\" onclick=\"convertToInteractive('df-d8132566-10ff-4f5c-9ecf-2f1a32ef2509')\"\n",
              "              title=\"Convert this dataframe to an interactive table.\"\n",
              "              style=\"display:none;\">\n",
              "        \n",
              "  <svg xmlns=\"http://www.w3.org/2000/svg\" height=\"24px\"viewBox=\"0 0 24 24\"\n",
              "       width=\"24px\">\n",
              "    <path d=\"M0 0h24v24H0V0z\" fill=\"none\"/>\n",
              "    <path d=\"M18.56 5.44l.94 2.06.94-2.06 2.06-.94-2.06-.94-.94-2.06-.94 2.06-2.06.94zm-11 1L8.5 8.5l.94-2.06 2.06-.94-2.06-.94L8.5 2.5l-.94 2.06-2.06.94zm10 10l.94 2.06.94-2.06 2.06-.94-2.06-.94-.94-2.06-.94 2.06-2.06.94z\"/><path d=\"M17.41 7.96l-1.37-1.37c-.4-.4-.92-.59-1.43-.59-.52 0-1.04.2-1.43.59L10.3 9.45l-7.72 7.72c-.78.78-.78 2.05 0 2.83L4 21.41c.39.39.9.59 1.41.59.51 0 1.02-.2 1.41-.59l7.78-7.78 2.81-2.81c.8-.78.8-2.07 0-2.86zM5.41 20L4 18.59l7.72-7.72 1.47 1.35L5.41 20z\"/>\n",
              "  </svg>\n",
              "      </button>\n",
              "      \n",
              "  <style>\n",
              "    .colab-df-container {\n",
              "      display:flex;\n",
              "      flex-wrap:wrap;\n",
              "      gap: 12px;\n",
              "    }\n",
              "\n",
              "    .colab-df-convert {\n",
              "      background-color: #E8F0FE;\n",
              "      border: none;\n",
              "      border-radius: 50%;\n",
              "      cursor: pointer;\n",
              "      display: none;\n",
              "      fill: #1967D2;\n",
              "      height: 32px;\n",
              "      padding: 0 0 0 0;\n",
              "      width: 32px;\n",
              "    }\n",
              "\n",
              "    .colab-df-convert:hover {\n",
              "      background-color: #E2EBFA;\n",
              "      box-shadow: 0px 1px 2px rgba(60, 64, 67, 0.3), 0px 1px 3px 1px rgba(60, 64, 67, 0.15);\n",
              "      fill: #174EA6;\n",
              "    }\n",
              "\n",
              "    [theme=dark] .colab-df-convert {\n",
              "      background-color: #3B4455;\n",
              "      fill: #D2E3FC;\n",
              "    }\n",
              "\n",
              "    [theme=dark] .colab-df-convert:hover {\n",
              "      background-color: #434B5C;\n",
              "      box-shadow: 0px 1px 3px 1px rgba(0, 0, 0, 0.15);\n",
              "      filter: drop-shadow(0px 1px 2px rgba(0, 0, 0, 0.3));\n",
              "      fill: #FFFFFF;\n",
              "    }\n",
              "  </style>\n",
              "\n",
              "      <script>\n",
              "        const buttonEl =\n",
              "          document.querySelector('#df-d8132566-10ff-4f5c-9ecf-2f1a32ef2509 button.colab-df-convert');\n",
              "        buttonEl.style.display =\n",
              "          google.colab.kernel.accessAllowed ? 'block' : 'none';\n",
              "\n",
              "        async function convertToInteractive(key) {\n",
              "          const element = document.querySelector('#df-d8132566-10ff-4f5c-9ecf-2f1a32ef2509');\n",
              "          const dataTable =\n",
              "            await google.colab.kernel.invokeFunction('convertToInteractive',\n",
              "                                                     [key], {});\n",
              "          if (!dataTable) return;\n",
              "\n",
              "          const docLinkHtml = 'Like what you see? Visit the ' +\n",
              "            '<a target=\"_blank\" href=https://colab.research.google.com/notebooks/data_table.ipynb>data table notebook</a>'\n",
              "            + ' to learn more about interactive tables.';\n",
              "          element.innerHTML = '';\n",
              "          dataTable['output_type'] = 'display_data';\n",
              "          await google.colab.output.renderOutput(dataTable, element);\n",
              "          const docLink = document.createElement('div');\n",
              "          docLink.innerHTML = docLinkHtml;\n",
              "          element.appendChild(docLink);\n",
              "        }\n",
              "      </script>\n",
              "    </div>\n",
              "  </div>\n",
              "  "
            ]
          },
          "metadata": {},
          "execution_count": 41
        }
      ]
    },
    {
      "cell_type": "code",
      "source": [],
      "metadata": {
        "id": "z4I-76quousM"
      },
      "id": "z4I-76quousM",
      "execution_count": 196,
      "outputs": []
    },
    {
      "cell_type": "code",
      "source": [
        "plt.figure(figsize=(10,8),dpi=100)\n",
        "plt.barh(Sugar_df[\"State_Name\"],Sugar_df[\"Production\"])"
      ],
      "metadata": {
        "colab": {
          "base_uri": "https://localhost:8080/",
          "height": 700
        },
        "id": "AZCzGH0GpG4u",
        "outputId": "ef82ad67-d35a-4b6a-a377-e84770db1285"
      },
      "id": "AZCzGH0GpG4u",
      "execution_count": 43,
      "outputs": [
        {
          "output_type": "execute_result",
          "data": {
            "text/plain": [
              "<BarContainer object of 7827 artists>"
            ]
          },
          "metadata": {},
          "execution_count": 43
        },
        {
          "output_type": "display_data",
          "data": {
            "text/plain": [
              "<Figure size 1000x800 with 1 Axes>"
            ],
            "image/png": "[encoded data removed]"
          },
          "metadata": {
            "needs_background": "light"
          }
        }
      ]
    },
    {
      "cell_type": "code",
      "source": [
        "plt.figure(figsize=(10,8),dpi=100)\n",
        "plt.bar(Sugar_df[\"Crop_Year\"],Sugar_df[\"Production\"])"
      ],
      "metadata": {
        "colab": {
          "base_uri": "https://localhost:8080/",
          "height": 697
        },
        "id": "KvxyvdvqqFft",
        "outputId": "c37a2a80-0a90-432a-a20e-f66d392b3df3"
      },
      "id": "KvxyvdvqqFft",
      "execution_count": 44,
      "outputs": [
        {
          "output_type": "execute_result",
          "data": {
            "text/plain": [
              "<BarContainer object of 7827 artists>"
            ]
          },
          "metadata": {},
          "execution_count": 44
        },
        {
          "output_type": "display_data",
          "data": {
            "text/plain": [
              "<Figure size 1000x800 with 1 Axes>"
            ],
            "image/png": "[encoded data removed]"
          },
          "metadata": {
            "needs_background": "light"
          }
        }
      ]
    },
    {
      "cell_type": "code",
      "source": [
        "sugar=Sugar_df.groupby('Season').sum()['Production']\n",
        "sugar.nlargest() "
      ],
      "metadata": {
        "colab": {
          "base_uri": "https://localhost:8080/"
        },
        "id": "BCeD_ux-snpJ",
        "outputId": "06405c64-49f4-4fac-852a-bb87f394e424"
      },
      "id": "BCeD_ux-snpJ",
      "execution_count": 45,
      "outputs": [
        {
          "output_type": "execute_result",
          "data": {
            "text/plain": [
              "Season\n",
              "Whole Year     3.745173e+09\n",
              "Kharif         1.774444e+09\n",
              "Winter         1.601724e+07\n",
              "Rabi           2.771600e+04\n",
              "Autumn         1.374295e+04\n",
              "Name: Production, dtype: float64"
            ]
          },
          "metadata": {},
          "execution_count": 45
        }
      ]
    },
    {
      "cell_type": "code",
      "source": [
        "sugar.nsmallest() \n"
      ],
      "metadata": {
        "colab": {
          "base_uri": "https://localhost:8080/"
        },
        "id": "jbeFwjpus61_",
        "outputId": "5cc91c81-86f3-4151-8e38-c37cade703cd"
      },
      "id": "jbeFwjpus61_",
      "execution_count": 46,
      "outputs": [
        {
          "output_type": "execute_result",
          "data": {
            "text/plain": [
              "Season\n",
              "Summer         4.900000e+03\n",
              "Autumn         1.374295e+04\n",
              "Rabi           2.771600e+04\n",
              "Winter         1.601724e+07\n",
              "Kharif         1.774444e+09\n",
              "Name: Production, dtype: float64"
            ]
          },
          "metadata": {},
          "execution_count": 46
        }
      ]
    },
    {
      "cell_type": "code",
      "source": [
        "plt.scatter(Sugar_df['Area'],Sugar_df['Production']);"
      ],
      "metadata": {
        "colab": {
          "base_uri": "https://localhost:8080/",
          "height": 276
        },
        "id": "MDDWcFuFtfnO",
        "outputId": "394ede8c-b109-4c0f-a478-41ad4a28f042"
      },
      "id": "MDDWcFuFtfnO",
      "execution_count": 47,
      "outputs": [
        {
          "output_type": "display_data",
          "data": {
            "text/plain": [
              "<Figure size 432x288 with 1 Axes>"
            ],
            "image/png": "[encoded data removed]"
          },
          "metadata": {
            "needs_background": "light"
          }
        }
      ]
    },
    {
      "cell_type": "code",
      "source": [
        "plt.figure(figsize=(10,8),dpi=100)\n",
        "plt.bar(Sugar_df['Season'],Sugar_df['Production']);"
      ],
      "metadata": {
        "colab": {
          "base_uri": "https://localhost:8080/",
          "height": 679
        },
        "id": "dqMU0f53uP73",
        "outputId": "824fd8f2-afe1-481c-eea5-bb203fa8755c"
      },
      "id": "dqMU0f53uP73",
      "execution_count": 48,
      "outputs": [
        {
          "output_type": "display_data",
          "data": {
            "text/plain": [
              "<Figure size 1000x800 with 1 Axes>"
            ],
            "image/png": "[encoded data removed]"
          },
          "metadata": {
            "needs_background": "light"
          }
        }
      ]
    },
    {
      "cell_type": "code",
      "source": [
        "#create LinearRegression model\n",
        "# Maha_df\n",
        "# col_df\n",
        "col_df=Maha_df.drop(columns = [\"Season\",\"Crop\"])\n",
        "col_df "
      ],
      "metadata": {
        "colab": {
          "base_uri": "https://localhost:8080/",
          "height": 423
        },
        "id": "AbxS0jiCvTpZ",
        "outputId": "e3dbcf75-7b08-47c3-de75-4ae4323fce1a"
      },
      "id": "AbxS0jiCvTpZ",
      "execution_count": 49,
      "outputs": [
        {
          "output_type": "execute_result",
          "data": {
            "text/plain": [
              "         State_Name District_Name  Crop_Year      Area  Production  \\\n",
              "125191  Maharashtra    AHMEDNAGAR       1997       1.0      1113.0   \n",
              "125192  Maharashtra    AHMEDNAGAR       1997   17600.0      6300.0   \n",
              "125193  Maharashtra    AHMEDNAGAR       1997  274100.0    152800.0   \n",
              "125194  Maharashtra    AHMEDNAGAR       1997   40800.0     18600.0   \n",
              "125195  Maharashtra    AHMEDNAGAR       1997     900.0      1100.0   \n",
              "...             ...           ...        ...       ...         ...   \n",
              "137814  Maharashtra      YAVATMAL       2014    4000.0      3300.0   \n",
              "137815  Maharashtra      YAVATMAL       2014    1300.0       200.0   \n",
              "137816  Maharashtra      YAVATMAL       2014   29100.0     26800.0   \n",
              "137817  Maharashtra      YAVATMAL       2014    9400.0     11500.0   \n",
              "137818  Maharashtra      YAVATMAL       2014    8100.0    553700.0   \n",
              "\n",
              "        Percentage_production  \n",
              "125191           7.883770e-07  \n",
              "125192           4.462511e-06  \n",
              "125193           1.082336e-04  \n",
              "125194           1.317503e-05  \n",
              "125195           7.791686e-07  \n",
              "...                       ...  \n",
              "137814           2.337506e-06  \n",
              "137815           1.416670e-07  \n",
              "137816           1.898338e-05  \n",
              "137817           8.145854e-06  \n",
              "137818           3.922051e-04  \n",
              "\n",
              "[12496 rows x 6 columns]"
            ],
            "text/html": [
              "\n",
              "  <div id=\"df-68386391-f5e9-4d9f-86fd-7e37577864fe\">\n",
              "    <div class=\"colab-df-container\">\n",
              "      <div>\n",
              "<style scoped>\n",
              "    .dataframe tbody tr th:only-of-type {\n",
              "        vertical-align: middle;\n",
              "    }\n",
              "\n",
              "    .dataframe tbody tr th {\n",
              "        vertical-align: top;\n",
              "    }\n",
              "\n",
              "    .dataframe thead th {\n",
              "        text-align: right;\n",
              "    }\n",
              "</style>\n",
              "<table border=\"1\" class=\"dataframe\">\n",
              "  <thead>\n",
              "    <tr style=\"text-align: right;\">\n",
              "      <th></th>\n",
              "      <th>State_Name</th>\n",
              "      <th>District_Name</th>\n",
              "      <th>Crop_Year</th>\n",
              "      <th>Area</th>\n",
              "      <th>Production</th>\n",
              "      <th>Percentage_production</th>\n",
              "    </tr>\n",
              "  </thead>\n",
              "  <tbody>\n",
              "    <tr>\n",
              "      <th>125191</th>\n",
              "      <td>Maharashtra</td>\n",
              "      <td>AHMEDNAGAR</td>\n",
              "      <td>1997</td>\n",
              "      <td>1.0</td>\n",
              "      <td>1113.0</td>\n",
              "      <td>7.883770e-07</td>\n",
              "    </tr>\n",
              "    <tr>\n",
              "      <th>125192</th>\n",
              "      <td>Maharashtra</td>\n",
              "      <td>AHMEDNAGAR</td>\n",
              "      <td>1997</td>\n",
              "      <td>17600.0</td>\n",
              "      <td>6300.0</td>\n",
              "      <td>4.462511e-06</td>\n",
              "    </tr>\n",
              "    <tr>\n",
              "      <th>125193</th>\n",
              "      <td>Maharashtra</td>\n",
              "      <td>AHMEDNAGAR</td>\n",
              "      <td>1997</td>\n",
              "      <td>274100.0</td>\n",
              "      <td>152800.0</td>\n",
              "      <td>1.082336e-04</td>\n",
              "    </tr>\n",
              "    <tr>\n",
              "      <th>125194</th>\n",
              "      <td>Maharashtra</td>\n",
              "      <td>AHMEDNAGAR</td>\n",
              "      <td>1997</td>\n",
              "      <td>40800.0</td>\n",
              "      <td>18600.0</td>\n",
              "      <td>1.317503e-05</td>\n",
              "    </tr>\n",
              "    <tr>\n",
              "      <th>125195</th>\n",
              "      <td>Maharashtra</td>\n",
              "      <td>AHMEDNAGAR</td>\n",
              "      <td>1997</td>\n",
              "      <td>900.0</td>\n",
              "      <td>1100.0</td>\n",
              "      <td>7.791686e-07</td>\n",
              "    </tr>\n",
              "    <tr>\n",
              "      <th>...</th>\n",
              "      <td>...</td>\n",
              "      <td>...</td>\n",
              "      <td>...</td>\n",
              "      <td>...</td>\n",
              "      <td>...</td>\n",
              "      <td>...</td>\n",
              "    </tr>\n",
              "    <tr>\n",
              "      <th>137814</th>\n",
              "      <td>Maharashtra</td>\n",
              "      <td>YAVATMAL</td>\n",
              "      <td>2014</td>\n",
              "      <td>4000.0</td>\n",
              "      <td>3300.0</td>\n",
              "      <td>2.337506e-06</td>\n",
              "    </tr>\n",
              "    <tr>\n",
              "      <th>137815</th>\n",
              "      <td>Maharashtra</td>\n",
              "      <td>YAVATMAL</td>\n",
              "      <td>2014</td>\n",
              "      <td>1300.0</td>\n",
              "      <td>200.0</td>\n",
              "      <td>1.416670e-07</td>\n",
              "    </tr>\n",
              "    <tr>\n",
              "      <th>137816</th>\n",
              "      <td>Maharashtra</td>\n",
              "      <td>YAVATMAL</td>\n",
              "      <td>2014</td>\n",
              "      <td>29100.0</td>\n",
              "      <td>26800.0</td>\n",
              "      <td>1.898338e-05</td>\n",
              "    </tr>\n",
              "    <tr>\n",
              "      <th>137817</th>\n",
              "      <td>Maharashtra</td>\n",
              "      <td>YAVATMAL</td>\n",
              "      <td>2014</td>\n",
              "      <td>9400.0</td>\n",
              "      <td>11500.0</td>\n",
              "      <td>8.145854e-06</td>\n",
              "    </tr>\n",
              "    <tr>\n",
              "      <th>137818</th>\n",
              "      <td>Maharashtra</td>\n",
              "      <td>YAVATMAL</td>\n",
              "      <td>2014</td>\n",
              "      <td>8100.0</td>\n",
              "      <td>553700.0</td>\n",
              "      <td>3.922051e-04</td>\n",
              "    </tr>\n",
              "  </tbody>\n",
              "</table>\n",
              "<p>12496 rows × 6 columns</p>\n",
              "</div>\n",
              "      <button class=\"colab-df-convert\" onclick=\"convertToInteractive('df-68386391-f5e9-4d9f-86fd-7e37577864fe')\"\n",
              "              title=\"Convert this dataframe to an interactive table.\"\n",
              "              style=\"display:none;\">\n",
              "        \n",
              "  <svg xmlns=\"http://www.w3.org/2000/svg\" height=\"24px\"viewBox=\"0 0 24 24\"\n",
              "       width=\"24px\">\n",
              "    <path d=\"M0 0h24v24H0V0z\" fill=\"none\"/>\n",
              "    <path d=\"M18.56 5.44l.94 2.06.94-2.06 2.06-.94-2.06-.94-.94-2.06-.94 2.06-2.06.94zm-11 1L8.5 8.5l.94-2.06 2.06-.94-2.06-.94L8.5 2.5l-.94 2.06-2.06.94zm10 10l.94 2.06.94-2.06 2.06-.94-2.06-.94-.94-2.06-.94 2.06-2.06.94z\"/><path d=\"M17.41 7.96l-1.37-1.37c-.4-.4-.92-.59-1.43-.59-.52 0-1.04.2-1.43.59L10.3 9.45l-7.72 7.72c-.78.78-.78 2.05 0 2.83L4 21.41c.39.39.9.59 1.41.59.51 0 1.02-.2 1.41-.59l7.78-7.78 2.81-2.81c.8-.78.8-2.07 0-2.86zM5.41 20L4 18.59l7.72-7.72 1.47 1.35L5.41 20z\"/>\n",
              "  </svg>\n",
              "      </button>\n",
              "      \n",
              "  <style>\n",
              "    .colab-df-container {\n",
              "      display:flex;\n",
              "      flex-wrap:wrap;\n",
              "      gap: 12px;\n",
              "    }\n",
              "\n",
              "    .colab-df-convert {\n",
              "      background-color: #E8F0FE;\n",
              "      border: none;\n",
              "      border-radius: 50%;\n",
              "      cursor: pointer;\n",
              "      display: none;\n",
              "      fill: #1967D2;\n",
              "      height: 32px;\n",
              "      padding: 0 0 0 0;\n",
              "      width: 32px;\n",
              "    }\n",
              "\n",
              "    .colab-df-convert:hover {\n",
              "      background-color: #E2EBFA;\n",
              "      box-shadow: 0px 1px 2px rgba(60, 64, 67, 0.3), 0px 1px 3px 1px rgba(60, 64, 67, 0.15);\n",
              "      fill: #174EA6;\n",
              "    }\n",
              "\n",
              "    [theme=dark] .colab-df-convert {\n",
              "      background-color: #3B4455;\n",
              "      fill: #D2E3FC;\n",
              "    }\n",
              "\n",
              "    [theme=dark] .colab-df-convert:hover {\n",
              "      background-color: #434B5C;\n",
              "      box-shadow: 0px 1px 3px 1px rgba(0, 0, 0, 0.15);\n",
              "      filter: drop-shadow(0px 1px 2px rgba(0, 0, 0, 0.3));\n",
              "      fill: #FFFFFF;\n",
              "    }\n",
              "  </style>\n",
              "\n",
              "      <script>\n",
              "        const buttonEl =\n",
              "          document.querySelector('#df-68386391-f5e9-4d9f-86fd-7e37577864fe button.colab-df-convert');\n",
              "        buttonEl.style.display =\n",
              "          google.colab.kernel.accessAllowed ? 'block' : 'none';\n",
              "\n",
              "        async function convertToInteractive(key) {\n",
              "          const element = document.querySelector('#df-68386391-f5e9-4d9f-86fd-7e37577864fe');\n",
              "          const dataTable =\n",
              "            await google.colab.kernel.invokeFunction('convertToInteractive',\n",
              "                                                     [key], {});\n",
              "          if (!dataTable) return;\n",
              "\n",
              "          const docLinkHtml = 'Like what you see? Visit the ' +\n",
              "            '<a target=\"_blank\" href=https://colab.research.google.com/notebooks/data_table.ipynb>data table notebook</a>'\n",
              "            + ' to learn more about interactive tables.';\n",
              "          element.innerHTML = '';\n",
              "          dataTable['output_type'] = 'display_data';\n",
              "          await google.colab.output.renderOutput(dataTable, element);\n",
              "          const docLink = document.createElement('div');\n",
              "          docLink.innerHTML = docLinkHtml;\n",
              "          element.appendChild(docLink);\n",
              "        }\n",
              "      </script>\n",
              "    </div>\n",
              "  </div>\n",
              "  "
            ]
          },
          "metadata": {},
          "execution_count": 49
        }
      ]
    },
    {
      "cell_type": "code",
      "source": [],
      "metadata": {
        "id": "1Q3bShMB2g6J"
      },
      "id": "1Q3bShMB2g6J",
      "execution_count": 49,
      "outputs": []
    },
    {
      "cell_type": "code",
      "source": [
        "x=col_df.iloc[:,2:4]\n",
        "x"
      ],
      "metadata": {
        "colab": {
          "base_uri": "https://localhost:8080/",
          "height": 423
        },
        "id": "zorXPwT1zz6X",
        "outputId": "d0e07bb0-8a2e-44f9-e51a-88ca20359178"
      },
      "id": "zorXPwT1zz6X",
      "execution_count": 63,
      "outputs": [
        {
          "output_type": "execute_result",
          "data": {
            "text/plain": [
              "        Crop_Year      Area\n",
              "125191       1997       1.0\n",
              "125192       1997   17600.0\n",
              "125193       1997  274100.0\n",
              "125194       1997   40800.0\n",
              "125195       1997     900.0\n",
              "...           ...       ...\n",
              "137814       2014    4000.0\n",
              "137815       2014    1300.0\n",
              "137816       2014   29100.0\n",
              "137817       2014    9400.0\n",
              "137818       2014    8100.0\n",
              "\n",
              "[12496 rows x 2 columns]"
            ],
            "text/html": [
              "\n",
              "  <div id=\"df-65a43322-f48c-4864-ad48-d7cbf600464e\">\n",
              "    <div class=\"colab-df-container\">\n",
              "      <div>\n",
              "<style scoped>\n",
              "    .dataframe tbody tr th:only-of-type {\n",
              "        vertical-align: middle;\n",
              "    }\n",
              "\n",
              "    .dataframe tbody tr th {\n",
              "        vertical-align: top;\n",
              "    }\n",
              "\n",
              "    .dataframe thead th {\n",
              "        text-align: right;\n",
              "    }\n",
              "</style>\n",
              "<table border=\"1\" class=\"dataframe\">\n",
              "  <thead>\n",
              "    <tr style=\"text-align: right;\">\n",
              "      <th></th>\n",
              "      <th>Crop_Year</th>\n",
              "      <th>Area</th>\n",
              "    </tr>\n",
              "  </thead>\n",
              "  <tbody>\n",
              "    <tr>\n",
              "      <th>125191</th>\n",
              "      <td>1997</td>\n",
              "      <td>1.0</td>\n",
              "    </tr>\n",
              "    <tr>\n",
              "      <th>125192</th>\n",
              "      <td>1997</td>\n",
              "      <td>17600.0</td>\n",
              "    </tr>\n",
              "    <tr>\n",
              "      <th>125193</th>\n",
              "      <td>1997</td>\n",
              "      <td>274100.0</td>\n",
              "    </tr>\n",
              "    <tr>\n",
              "      <th>125194</th>\n",
              "      <td>1997</td>\n",
              "      <td>40800.0</td>\n",
              "    </tr>\n",
              "    <tr>\n",
              "      <th>125195</th>\n",
              "      <td>1997</td>\n",
              "      <td>900.0</td>\n",
              "    </tr>\n",
              "    <tr>\n",
              "      <th>...</th>\n",
              "      <td>...</td>\n",
              "      <td>...</td>\n",
              "    </tr>\n",
              "    <tr>\n",
              "      <th>137814</th>\n",
              "      <td>2014</td>\n",
              "      <td>4000.0</td>\n",
              "    </tr>\n",
              "    <tr>\n",
              "      <th>137815</th>\n",
              "      <td>2014</td>\n",
              "      <td>1300.0</td>\n",
              "    </tr>\n",
              "    <tr>\n",
              "      <th>137816</th>\n",
              "      <td>2014</td>\n",
              "      <td>29100.0</td>\n",
              "    </tr>\n",
              "    <tr>\n",
              "      <th>137817</th>\n",
              "      <td>2014</td>\n",
              "      <td>9400.0</td>\n",
              "    </tr>\n",
              "    <tr>\n",
              "      <th>137818</th>\n",
              "      <td>2014</td>\n",
              "      <td>8100.0</td>\n",
              "    </tr>\n",
              "  </tbody>\n",
              "</table>\n",
              "<p>12496 rows × 2 columns</p>\n",
              "</div>\n",
              "      <button class=\"colab-df-convert\" onclick=\"convertToInteractive('df-65a43322-f48c-4864-ad48-d7cbf600464e')\"\n",
              "              title=\"Convert this dataframe to an interactive table.\"\n",
              "              style=\"display:none;\">\n",
              "        \n",
              "  <svg xmlns=\"http://www.w3.org/2000/svg\" height=\"24px\"viewBox=\"0 0 24 24\"\n",
              "       width=\"24px\">\n",
              "    <path d=\"M0 0h24v24H0V0z\" fill=\"none\"/>\n",
              "    <path d=\"M18.56 5.44l.94 2.06.94-2.06 2.06-.94-2.06-.94-.94-2.06-.94 2.06-2.06.94zm-11 1L8.5 8.5l.94-2.06 2.06-.94-2.06-.94L8.5 2.5l-.94 2.06-2.06.94zm10 10l.94 2.06.94-2.06 2.06-.94-2.06-.94-.94-2.06-.94 2.06-2.06.94z\"/><path d=\"M17.41 7.96l-1.37-1.37c-.4-.4-.92-.59-1.43-.59-.52 0-1.04.2-1.43.59L10.3 9.45l-7.72 7.72c-.78.78-.78 2.05 0 2.83L4 21.41c.39.39.9.59 1.41.59.51 0 1.02-.2 1.41-.59l7.78-7.78 2.81-2.81c.8-.78.8-2.07 0-2.86zM5.41 20L4 18.59l7.72-7.72 1.47 1.35L5.41 20z\"/>\n",
              "  </svg>\n",
              "      </button>\n",
              "      \n",
              "  <style>\n",
              "    .colab-df-container {\n",
              "      display:flex;\n",
              "      flex-wrap:wrap;\n",
              "      gap: 12px;\n",
              "    }\n",
              "\n",
              "    .colab-df-convert {\n",
              "      background-color: #E8F0FE;\n",
              "      border: none;\n",
              "      border-radius: 50%;\n",
              "      cursor: pointer;\n",
              "      display: none;\n",
              "      fill: #1967D2;\n",
              "      height: 32px;\n",
              "      padding: 0 0 0 0;\n",
              "      width: 32px;\n",
              "    }\n",
              "\n",
              "    .colab-df-convert:hover {\n",
              "      background-color: #E2EBFA;\n",
              "      box-shadow: 0px 1px 2px rgba(60, 64, 67, 0.3), 0px 1px 3px 1px rgba(60, 64, 67, 0.15);\n",
              "      fill: #174EA6;\n",
              "    }\n",
              "\n",
              "    [theme=dark] .colab-df-convert {\n",
              "      background-color: #3B4455;\n",
              "      fill: #D2E3FC;\n",
              "    }\n",
              "\n",
              "    [theme=dark] .colab-df-convert:hover {\n",
              "      background-color: #434B5C;\n",
              "      box-shadow: 0px 1px 3px 1px rgba(0, 0, 0, 0.15);\n",
              "      filter: drop-shadow(0px 1px 2px rgba(0, 0, 0, 0.3));\n",
              "      fill: #FFFFFF;\n",
              "    }\n",
              "  </style>\n",
              "\n",
              "      <script>\n",
              "        const buttonEl =\n",
              "          document.querySelector('#df-65a43322-f48c-4864-ad48-d7cbf600464e button.colab-df-convert');\n",
              "        buttonEl.style.display =\n",
              "          google.colab.kernel.accessAllowed ? 'block' : 'none';\n",
              "\n",
              "        async function convertToInteractive(key) {\n",
              "          const element = document.querySelector('#df-65a43322-f48c-4864-ad48-d7cbf600464e');\n",
              "          const dataTable =\n",
              "            await google.colab.kernel.invokeFunction('convertToInteractive',\n",
              "                                                     [key], {});\n",
              "          if (!dataTable) return;\n",
              "\n",
              "          const docLinkHtml = 'Like what you see? Visit the ' +\n",
              "            '<a target=\"_blank\" href=https://colab.research.google.com/notebooks/data_table.ipynb>data table notebook</a>'\n",
              "            + ' to learn more about interactive tables.';\n",
              "          element.innerHTML = '';\n",
              "          dataTable['output_type'] = 'display_data';\n",
              "          await google.colab.output.renderOutput(dataTable, element);\n",
              "          const docLink = document.createElement('div');\n",
              "          docLink.innerHTML = docLinkHtml;\n",
              "          element.appendChild(docLink);\n",
              "        }\n",
              "      </script>\n",
              "    </div>\n",
              "  </div>\n",
              "  "
            ]
          },
          "metadata": {},
          "execution_count": 63
        }
      ]
    },
    {
      "cell_type": "code",
      "source": [
        "y=col_df.iloc[:,4]\n",
        "y"
      ],
      "metadata": {
        "colab": {
          "base_uri": "https://localhost:8080/"
        },
        "id": "LtdWm7F30m4B",
        "outputId": "9a1f8762-22c7-4180-f257-98a536167516"
      },
      "id": "LtdWm7F30m4B",
      "execution_count": 118,
      "outputs": [
        {
          "output_type": "execute_result",
          "data": {
            "text/plain": [
              "125191      1113.0\n",
              "125192      6300.0\n",
              "125193    152800.0\n",
              "125194     18600.0\n",
              "125195      1100.0\n",
              "            ...   \n",
              "137814      3300.0\n",
              "137815       200.0\n",
              "137816     26800.0\n",
              "137817     11500.0\n",
              "137818    553700.0\n",
              "Name: Production, Length: 12496, dtype: float64"
            ]
          },
          "metadata": {},
          "execution_count": 118
        }
      ]
    },
    {
      "cell_type": "code",
      "source": [
        "\n",
        "from sklearn.model_selection import train_test_split\n",
        "x_train,x_test,y_train,y_test = train_test_split(x,y,test_size=0.2,random_state=0)\n",
        "print(\"x.shape :\",x.shape)\n",
        "print(\"x_train :\",x_train.shape)\n",
        "print(\"x_test :\",x_test.shape)\n",
        "print(\"y.shape :\",y.shape)\n",
        "print(\"y_train :\",y_train.shape)\n",
        "print(\"y_test :\",y_test.shape)"
      ],
      "metadata": {
        "colab": {
          "base_uri": "https://localhost:8080/"
        },
        "id": "eW_zTRQO1PmK",
        "outputId": "f23f8202-2a46-4c29-d7ed-c063836bea13"
      },
      "id": "eW_zTRQO1PmK",
      "execution_count": 119,
      "outputs": [
        {
          "output_type": "stream",
          "name": "stdout",
          "text": [
            "x.shape : (12496, 2)\n",
            "x_train : (9996, 2)\n",
            "x_test : (2500, 2)\n",
            "y.shape : (12496,)\n",
            "y_train : (9996,)\n",
            "y_test : (2500,)\n"
          ]
        }
      ]
    },
    {
      "cell_type": "code",
      "source": [
        "from sklearn.linear_model import LinearRegression\n",
        "# creating model\n",
        "agri_model=LinearRegression()"
      ],
      "metadata": {
        "id": "qSXffFvS3zWs"
      },
      "id": "qSXffFvS3zWs",
      "execution_count": 120,
      "outputs": []
    },
    {
      "cell_type": "code",
      "source": [
        "agri_model"
      ],
      "metadata": {
        "colab": {
          "base_uri": "https://localhost:8080/"
        },
        "id": "hfQY6f_o7OXD",
        "outputId": "4e74dcf7-5bd0-42a3-cd65-235a1ea335d8"
      },
      "id": "hfQY6f_o7OXD",
      "execution_count": 121,
      "outputs": [
        {
          "output_type": "execute_result",
          "data": {
            "text/plain": [
              "LinearRegression()"
            ]
          },
          "metadata": {},
          "execution_count": 121
        }
      ]
    },
    {
      "cell_type": "code",
      "source": [
        "# Training the model\n",
        "agri_model.fit(x_train,y_train)"
      ],
      "metadata": {
        "colab": {
          "base_uri": "https://localhost:8080/"
        },
        "id": "jn2IIiHH7fY2",
        "outputId": "0bf3141c-d9ae-4bce-bea1-6c552065d1e3"
      },
      "id": "jn2IIiHH7fY2",
      "execution_count": 122,
      "outputs": [
        {
          "output_type": "execute_result",
          "data": {
            "text/plain": [
              "LinearRegression()"
            ]
          },
          "metadata": {},
          "execution_count": 122
        }
      ]
    },
    {
      "cell_type": "code",
      "source": [
        "# predictions \n",
        "# Agri_prediction=agri_model.predict(x_test)\n",
        "# Agri_prediction\n",
        "y_pred = agri_model.predict(x_test) \n",
        "y_pred "
      ],
      "metadata": {
        "colab": {
          "base_uri": "https://localhost:8080/"
        },
        "id": "AiUVyHHR76qU",
        "outputId": "9b217d47-534b-427d-dddf-cb9ea856a771"
      },
      "id": "AiUVyHHR76qU",
      "execution_count": 177,
      "outputs": [
        {
          "output_type": "execute_result",
          "data": {
            "text/plain": [
              "array([ 90038.99001293, 226092.25639988,  52911.05541638, ...,\n",
              "       112075.08190896,  37167.95385562, 247170.42553345])"
            ]
          },
          "metadata": {},
          "execution_count": 177
        }
      ]
    },
    {
      "cell_type": "code",
      "source": [
        "m=agri_model.coef_\n",
        "m"
      ],
      "metadata": {
        "colab": {
          "base_uri": "https://localhost:8080/"
        },
        "id": "CHpuQ9y49SX1",
        "outputId": "d6d052c8-e279-405d-d390-fd66fda7002d"
      },
      "id": "CHpuQ9y49SX1",
      "execution_count": 178,
      "outputs": [
        {
          "output_type": "execute_result",
          "data": {
            "text/plain": [
              "array([6.71299528e+03, 2.10002472e+00])"
            ]
          },
          "metadata": {},
          "execution_count": 178
        }
      ]
    },
    {
      "cell_type": "code",
      "source": [
        "c=agri_model.intercept_\n",
        "m"
      ],
      "metadata": {
        "colab": {
          "base_uri": "https://localhost:8080/"
        },
        "id": "dw1_eDiY-INz",
        "outputId": "dc7afcc7-0245-4f48-c780-f2ef8f27c164"
      },
      "id": "dw1_eDiY-INz",
      "execution_count": 179,
      "outputs": [
        {
          "output_type": "execute_result",
          "data": {
            "text/plain": [
              "array([6.71299528e+03, 2.10002472e+00])"
            ]
          },
          "metadata": {},
          "execution_count": 179
        }
      ]
    },
    {
      "cell_type": "code",
      "source": [
        "# predictions_agrimodel =  pd.DataFrame({'Actual':y_test,'Predicted':Agri_prediction})\n",
        "# predictions_agrimodel\n",
        "predictions_agrimodel =  pd.DataFrame({'Actual':y_test,'Predicted':y_pred})\n",
        "predictions_agrimodel"
      ],
      "metadata": {
        "colab": {
          "base_uri": "https://localhost:8080/",
          "height": 423
        },
        "id": "mIZhQGcD-Xn9",
        "outputId": "a43929c1-829f-4c71-d56d-ee30cdc9b11d"
      },
      "id": "mIZhQGcD-Xn9",
      "execution_count": 180,
      "outputs": [
        {
          "output_type": "execute_result",
          "data": {
            "text/plain": [
              "          Actual      Predicted\n",
              "130825    1900.0   90038.990013\n",
              "135871   22100.0  226092.256400\n",
              "132001    5400.0   52911.055416\n",
              "125806    1200.0   34655.008011\n",
              "126554    3500.0   36132.109127\n",
              "...          ...            ...\n",
              "128538  142700.0  333264.355106\n",
              "131406    3900.0   45820.558085\n",
              "127600   18700.0  112075.081909\n",
              "137627     100.0   37167.953856\n",
              "126190  143100.0  247170.425533\n",
              "\n",
              "[2500 rows x 2 columns]"
            ],
            "text/html": [
              "\n",
              "  <div id=\"df-5c8de3f6-7162-49f5-a8f1-380ba8ce7c27\">\n",
              "    <div class=\"colab-df-container\">\n",
              "      <div>\n",
              "<style scoped>\n",
              "    .dataframe tbody tr th:only-of-type {\n",
              "        vertical-align: middle;\n",
              "    }\n",
              "\n",
              "    .dataframe tbody tr th {\n",
              "        vertical-align: top;\n",
              "    }\n",
              "\n",
              "    .dataframe thead th {\n",
              "        text-align: right;\n",
              "    }\n",
              "</style>\n",
              "<table border=\"1\" class=\"dataframe\">\n",
              "  <thead>\n",
              "    <tr style=\"text-align: right;\">\n",
              "      <th></th>\n",
              "      <th>Actual</th>\n",
              "      <th>Predicted</th>\n",
              "    </tr>\n",
              "  </thead>\n",
              "  <tbody>\n",
              "    <tr>\n",
              "      <th>130825</th>\n",
              "      <td>1900.0</td>\n",
              "      <td>90038.990013</td>\n",
              "    </tr>\n",
              "    <tr>\n",
              "      <th>135871</th>\n",
              "      <td>22100.0</td>\n",
              "      <td>226092.256400</td>\n",
              "    </tr>\n",
              "    <tr>\n",
              "      <th>132001</th>\n",
              "      <td>5400.0</td>\n",
              "      <td>52911.055416</td>\n",
              "    </tr>\n",
              "    <tr>\n",
              "      <th>125806</th>\n",
              "      <td>1200.0</td>\n",
              "      <td>34655.008011</td>\n",
              "    </tr>\n",
              "    <tr>\n",
              "      <th>126554</th>\n",
              "      <td>3500.0</td>\n",
              "      <td>36132.109127</td>\n",
              "    </tr>\n",
              "    <tr>\n",
              "      <th>...</th>\n",
              "      <td>...</td>\n",
              "      <td>...</td>\n",
              "    </tr>\n",
              "    <tr>\n",
              "      <th>128538</th>\n",
              "      <td>142700.0</td>\n",
              "      <td>333264.355106</td>\n",
              "    </tr>\n",
              "    <tr>\n",
              "      <th>131406</th>\n",
              "      <td>3900.0</td>\n",
              "      <td>45820.558085</td>\n",
              "    </tr>\n",
              "    <tr>\n",
              "      <th>127600</th>\n",
              "      <td>18700.0</td>\n",
              "      <td>112075.081909</td>\n",
              "    </tr>\n",
              "    <tr>\n",
              "      <th>137627</th>\n",
              "      <td>100.0</td>\n",
              "      <td>37167.953856</td>\n",
              "    </tr>\n",
              "    <tr>\n",
              "      <th>126190</th>\n",
              "      <td>143100.0</td>\n",
              "      <td>247170.425533</td>\n",
              "    </tr>\n",
              "  </tbody>\n",
              "</table>\n",
              "<p>2500 rows × 2 columns</p>\n",
              "</div>\n",
              "      <button class=\"colab-df-convert\" onclick=\"convertToInteractive('df-5c8de3f6-7162-49f5-a8f1-380ba8ce7c27')\"\n",
              "              title=\"Convert this dataframe to an interactive table.\"\n",
              "              style=\"display:none;\">\n",
              "        \n",
              "  <svg xmlns=\"http://www.w3.org/2000/svg\" height=\"24px\"viewBox=\"0 0 24 24\"\n",
              "       width=\"24px\">\n",
              "    <path d=\"M0 0h24v24H0V0z\" fill=\"none\"/>\n",
              "    <path d=\"M18.56 5.44l.94 2.06.94-2.06 2.06-.94-2.06-.94-.94-2.06-.94 2.06-2.06.94zm-11 1L8.5 8.5l.94-2.06 2.06-.94-2.06-.94L8.5 2.5l-.94 2.06-2.06.94zm10 10l.94 2.06.94-2.06 2.06-.94-2.06-.94-.94-2.06-.94 2.06-2.06.94z\"/><path d=\"M17.41 7.96l-1.37-1.37c-.4-.4-.92-.59-1.43-.59-.52 0-1.04.2-1.43.59L10.3 9.45l-7.72 7.72c-.78.78-.78 2.05 0 2.83L4 21.41c.39.39.9.59 1.41.59.51 0 1.02-.2 1.41-.59l7.78-7.78 2.81-2.81c.8-.78.8-2.07 0-2.86zM5.41 20L4 18.59l7.72-7.72 1.47 1.35L5.41 20z\"/>\n",
              "  </svg>\n",
              "      </button>\n",
              "      \n",
              "  <style>\n",
              "    .colab-df-container {\n",
              "      display:flex;\n",
              "      flex-wrap:wrap;\n",
              "      gap: 12px;\n",
              "    }\n",
              "\n",
              "    .colab-df-convert {\n",
              "      background-color: #E8F0FE;\n",
              "      border: none;\n",
              "      border-radius: 50%;\n",
              "      cursor: pointer;\n",
              "      display: none;\n",
              "      fill: #1967D2;\n",
              "      height: 32px;\n",
              "      padding: 0 0 0 0;\n",
              "      width: 32px;\n",
              "    }\n",
              "\n",
              "    .colab-df-convert:hover {\n",
              "      background-color: #E2EBFA;\n",
              "      box-shadow: 0px 1px 2px rgba(60, 64, 67, 0.3), 0px 1px 3px 1px rgba(60, 64, 67, 0.15);\n",
              "      fill: #174EA6;\n",
              "    }\n",
              "\n",
              "    [theme=dark] .colab-df-convert {\n",
              "      background-color: #3B4455;\n",
              "      fill: #D2E3FC;\n",
              "    }\n",
              "\n",
              "    [theme=dark] .colab-df-convert:hover {\n",
              "      background-color: #434B5C;\n",
              "      box-shadow: 0px 1px 3px 1px rgba(0, 0, 0, 0.15);\n",
              "      filter: drop-shadow(0px 1px 2px rgba(0, 0, 0, 0.3));\n",
              "      fill: #FFFFFF;\n",
              "    }\n",
              "  </style>\n",
              "\n",
              "      <script>\n",
              "        const buttonEl =\n",
              "          document.querySelector('#df-5c8de3f6-7162-49f5-a8f1-380ba8ce7c27 button.colab-df-convert');\n",
              "        buttonEl.style.display =\n",
              "          google.colab.kernel.accessAllowed ? 'block' : 'none';\n",
              "\n",
              "        async function convertToInteractive(key) {\n",
              "          const element = document.querySelector('#df-5c8de3f6-7162-49f5-a8f1-380ba8ce7c27');\n",
              "          const dataTable =\n",
              "            await google.colab.kernel.invokeFunction('convertToInteractive',\n",
              "                                                     [key], {});\n",
              "          if (!dataTable) return;\n",
              "\n",
              "          const docLinkHtml = 'Like what you see? Visit the ' +\n",
              "            '<a target=\"_blank\" href=https://colab.research.google.com/notebooks/data_table.ipynb>data table notebook</a>'\n",
              "            + ' to learn more about interactive tables.';\n",
              "          element.innerHTML = '';\n",
              "          dataTable['output_type'] = 'display_data';\n",
              "          await google.colab.output.renderOutput(dataTable, element);\n",
              "          const docLink = document.createElement('div');\n",
              "          docLink.innerHTML = docLinkHtml;\n",
              "          element.appendChild(docLink);\n",
              "        }\n",
              "      </script>\n",
              "    </div>\n",
              "  </div>\n",
              "  "
            ]
          },
          "metadata": {},
          "execution_count": 180
        }
      ]
    },
    {
      "cell_type": "code",
      "source": [
        "y_test"
      ],
      "metadata": {
        "colab": {
          "base_uri": "https://localhost:8080/"
        },
        "id": "SFdeH-qr_WTY",
        "outputId": "91b8f910-e537-423e-dfdf-28762dc2c377"
      },
      "id": "SFdeH-qr_WTY",
      "execution_count": 181,
      "outputs": [
        {
          "output_type": "execute_result",
          "data": {
            "text/plain": [
              "130825      1900.0\n",
              "135871     22100.0\n",
              "132001      5400.0\n",
              "125806      1200.0\n",
              "126554      3500.0\n",
              "            ...   \n",
              "128538    142700.0\n",
              "131406      3900.0\n",
              "127600     18700.0\n",
              "137627       100.0\n",
              "126190    143100.0\n",
              "Name: Production, Length: 2500, dtype: float64"
            ]
          },
          "metadata": {},
          "execution_count": 181
        }
      ]
    },
    {
      "cell_type": "code",
      "source": [
        "#y=mx+c\n",
        "# y=m*[17600.0]+c\n",
        "# y\t"
      ],
      "metadata": {
        "id": "yniKjnn__sxW"
      },
      "id": "yniKjnn__sxW",
      "execution_count": 182,
      "outputs": []
    },
    {
      "cell_type": "code",
      "source": [
        "agri_model.predict([[1997,17600.0]])"
      ],
      "metadata": {
        "colab": {
          "base_uri": "https://localhost:8080/"
        },
        "id": "1ODTJ2Nt3Sis",
        "outputId": "d7a2349d-194a-43f8-b78d-b4a592d526d0"
      },
      "id": "1ODTJ2Nt3Sis",
      "execution_count": 183,
      "outputs": [
        {
          "output_type": "stream",
          "name": "stderr",
          "text": [
            "/usr/local/lib/python3.8/dist-packages/sklearn/base.py:450: UserWarning: X does not have valid feature names, but LinearRegression was fitted with feature names\n",
            "  warnings.warn(\n"
          ]
        },
        {
          "output_type": "execute_result",
          "data": {
            "text/plain": [
              "array([33430.41225585])"
            ]
          },
          "metadata": {},
          "execution_count": 183
        }
      ]
    },
    {
      "cell_type": "code",
      "source": [],
      "metadata": {
        "colab": {
          "base_uri": "https://localhost:8080/"
        },
        "id": "BuuKRDBrEGi0",
        "outputId": "d70a3eac-7699-4bf3-afb4-4c6392500ce2"
      },
      "id": "BuuKRDBrEGi0",
      "execution_count": 158,
      "outputs": [
        {
          "output_type": "execute_result",
          "data": {
            "text/plain": [
              "1"
            ]
          },
          "metadata": {},
          "execution_count": 158
        }
      ]
    },
    {
      "cell_type": "code",
      "source": [
        "\n",
        "plt.scatter(y_test,Agri_prediction)\n"
      ],
      "metadata": {
        "colab": {
          "base_uri": "https://localhost:8080/",
          "height": 307
        },
        "id": "_oAytAHQAmKP",
        "outputId": "f9f0d14d-8fc8-4fee-a980-70c4cf13ff1c"
      },
      "id": "_oAytAHQAmKP",
      "execution_count": 162,
      "outputs": [
        {
          "output_type": "execute_result",
          "data": {
            "text/plain": [
              "<matplotlib.collections.PathCollection at 0x7f5ad3904e50>"
            ]
          },
          "metadata": {},
          "execution_count": 162
        },
        {
          "output_type": "display_data",
          "data": {
            "text/plain": [
              "<Figure size 432x288 with 1 Axes>"
            ],
            "image/png": "[encoded data removed]"
          },
          "metadata": {
            "needs_background": "light"
          }
        }
      ]
    },
    {
      "cell_type": "code",
      "source": [
        "y_pred=y_pred.reshape(-1,1)\n",
        "agri_model.score(x_train,y_train)"
      ],
      "metadata": {
        "colab": {
          "base_uri": "https://localhost:8080/"
        },
        "id": "20mpxzgJItoo",
        "outputId": "371a8118-2279-477e-9ab3-b00a2b7e0681"
      },
      "id": "20mpxzgJItoo",
      "execution_count": 196,
      "outputs": [
        {
          "output_type": "execute_result",
          "data": {
            "text/plain": [
              "0.03011414390446021"
            ]
          },
          "metadata": {},
          "execution_count": 196
        }
      ]
    },
    {
      "cell_type": "code",
      "source": [
        "train_set_predictions=agri_model.predict(x_train)\n",
        "train_set_predictions"
      ],
      "metadata": {
        "id": "ZWVnp4rcBVUI",
        "colab": {
          "base_uri": "https://localhost:8080/"
        },
        "outputId": "687cfcb7-1b77-451d-b92e-b56cb3717a3d"
      },
      "id": "ZWVnp4rcBVUI",
      "execution_count": 142,
      "outputs": [
        {
          "output_type": "execute_result",
          "data": {
            "text/plain": [
              "array([ 78713.02417247, 277439.11671534,  50593.94441286, ...,\n",
              "        53968.15158984,  53170.64459356,  91291.92102793])"
            ]
          },
          "metadata": {},
          "execution_count": 142
        }
      ]
    },
    {
      "cell_type": "code",
      "source": [
        "train_set_predictions.mean()"
      ],
      "metadata": {
        "colab": {
          "base_uri": "https://localhost:8080/"
        },
        "id": "dc04JSVhDIH_",
        "outputId": "97e381d0-eb80-40c6-a1df-153e01f0649c"
      },
      "id": "dc04JSVhDIH_",
      "execution_count": 143,
      "outputs": [
        {
          "output_type": "execute_result",
          "data": {
            "text/plain": [
              "105438.05090036047"
            ]
          },
          "metadata": {},
          "execution_count": 143
        }
      ]
    },
    {
      "cell_type": "code",
      "source": [
        "plt.scatter(x=y_train,y=y_train-train_set_predictions)\n",
        "plt.axhline(y=0,color='red')\n",
        "plt.xlabel(\"\") \n",
        "plt.title(' Training data');"
      ],
      "metadata": {
        "colab": {
          "base_uri": "https://localhost:8080/",
          "height": 294
        },
        "id": "HSNqi_lHDSiL",
        "outputId": "7a4f3c6f-0ff9-4088-af50-73b021ef842f"
      },
      "id": "HSNqi_lHDSiL",
      "execution_count": 148,
      "outputs": [
        {
          "output_type": "display_data",
          "data": {
            "text/plain": [
              "<Figure size 432x288 with 1 Axes>"
            ],
            "image/png": "[encoded data removed]"
          },
          "metadata": {
            "needs_background": "light"
          }
        }
      ]
    },
    {
      "cell_type": "code",
      "source": [],
      "metadata": {
        "id": "7DdQdwzuDbr9"
      },
      "id": "7DdQdwzuDbr9",
      "execution_count": null,
      "outputs": []
    }
  ],
  "metadata": {
    "kernelspec": {
      "display_name": "Python 3 (ipykernel)",
      "language": "python",
      "name": "python3"
    },
    "language_info": {
      "codemirror_mode": {
        "name": "ipython",
        "version": 3
      },
      "file_extension": ".py",
      "mimetype": "text/x-python",
      "name": "python",
      "nbconvert_exporter": "python",
      "pygments_lexer": "ipython3",
      "version": "3.11.1"
    },
    "colab": {
      "provenance": [],
      "include_colab_link": true
    },
    "gpuClass": "standard"
  },
  "nbformat": 4,
  "nbformat_minor": 5
}