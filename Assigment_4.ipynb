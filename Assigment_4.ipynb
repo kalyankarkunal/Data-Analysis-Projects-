{
  "nbformat": 4,
  "nbformat_minor": 0,
  "metadata": {
    "colab": {
      "provenance": [],
      "collapsed_sections": [],
      "authorship_tag": "ABX9TyMpHxAW28yrLP6XFRKo2kUP",
      "include_colab_link": true
    },
    "kernelspec": {
      "name": "python3",
      "display_name": "Python 3"
    },
    "language_info": {
      "name": "python"
    }
  },
  "cells": [
    {
      "cell_type": "markdown",
      "metadata": {
        "id": "view-in-github",
        "colab_type": "text"
      },
      "source": [
        "<a href=\"https://colab.research.google.com/github/kalyankarkunal/Technook-ASSINGMENT/blob/main/Assigment_4.ipynb\" target=\"_parent\"><img src=\"https://colab.research.google.com/assets/colab-badge.svg\" alt=\"Open In Colab\"/></a>"
      ]
    },
    {
      "cell_type": "code",
      "execution_count": 7,
      "metadata": {
        "colab": {
          "base_uri": "https://localhost:8080/"
        },
        "id": "H6vAMAJyIfxF",
        "outputId": "d7333eaf-1419-4d01-e2cc-f9086957030d"
      },
      "outputs": [
        {
          "output_type": "stream",
          "name": "stdout",
          "text": [
            "teachnook,banglore,560023,training hub\n"
          ]
        }
      ],
      "source": [
        "#assignment -4\n",
        "#String templete class\n",
        "\n",
        "\n",
        "A= Template(\"$company,$address,$pincode,$about\")\n",
        "K = A.substitute(company=\"teachnook\",address=\"banglore\",pincode=560023,about=\"training hub\")\n",
        "print(K)"
      ]
    },
    {
      "cell_type": "code",
      "source": [
        "#dictionary as substitute argument\n",
        "S={\"company\":\"teachnook\",\"address\":\"banglore\",\"pincode\":560023,\"about\":\"training hub\"}\n",
        "F = A.substitute(**S)\n",
        "for i in S:\n",
        "#  F = A.substitute(**S)\n",
        " print(S[i])"
      ],
      "metadata": {
        "colab": {
          "base_uri": "https://localhost:8080/"
        },
        "id": "cLY2S83wK4xT",
        "outputId": "5e032f70-9c02-4b0e-cc20-18379919da7d"
      },
      "execution_count": 22,
      "outputs": [
        {
          "output_type": "stream",
          "name": "stdout",
          "text": [
            "teachnook\n",
            "banglore\n",
            "560023\n",
            "training hub\n"
          ]
        }
      ]
    },
    {
      "cell_type": "code",
      "source": [
        "A= Template(\"$company,$address,$pincode,$about\")\n",
        "# K = A.safe_substitute(company=\"teachnook\",address=\"banglore\",pincode=560023,about=\"training hub\")\n",
        "# print(K)\n",
        "try:\n",
        "  K = A.safe_substitute(company=\"teachnook\",address=\"banglore\",pincode=560023,about=\"training hub\")\n",
        "  print(K)\n",
        "except:\n",
        "  print(\"Partially work done\")    "
      ],
      "metadata": {
        "colab": {
          "base_uri": "https://localhost:8080/"
        },
        "id": "TKyp3TL3L3XI",
        "outputId": "cb4d31a7-9527-4815-b8f4-53b8b6ab9f8f"
      },
      "execution_count": 36,
      "outputs": [
        {
          "output_type": "stream",
          "name": "stdout",
          "text": [
            "teachnook,banglore,560023,training hub\n"
          ]
        }
      ]
    },
    {
      "cell_type": "code",
      "source": [
        "A= Template(\"$company,$address,$pincode,$about\")\n",
        "print(\"Template String\",A.emplate)"
      ],
      "metadata": {
        "colab": {
          "base_uri": "https://localhost:8080/"
        },
        "id": "wsMrGGfxNvRA",
        "outputId": "dfdc76e3-c93b-47b7-9197-60093409dbae"
      },
      "execution_count": 25,
      "outputs": [
        {
          "output_type": "stream",
          "name": "stdout",
          "text": [
            "Template String $company,$address,$pincode,$about\n"
          ]
        }
      ]
    },
    {
      "cell_type": "code",
      "source": [
        "A=Template(\"$$ is called $name\")\n",
        "s=A.substitute(name=\"Doller\")\n",
        "print(s)"
      ],
      "metadata": {
        "colab": {
          "base_uri": "https://localhost:8080/"
        },
        "id": "oLsTjQbfOCX5",
        "outputId": "876a3dbb-1d53-4634-8ad1-31405ee0e9e2"
      },
      "execution_count": 27,
      "outputs": [
        {
          "output_type": "stream",
          "name": "stdout",
          "text": [
            "$ is called Doller\n"
          ]
        }
      ]
    },
    {
      "cell_type": "code",
      "source": [],
      "metadata": {
        "id": "h6fu1B5lPPVL"
      },
      "execution_count": null,
      "outputs": []
    }
  ]
}