{
  "nbformat": 4,
  "nbformat_minor": 0,
  "metadata": {
    "colab": {
      "provenance": [],
      "collapsed_sections": []
    },
    "kernelspec": {
      "name": "python3",
      "display_name": "Python 3"
    },
    "language_info": {
      "name": "python"
    }
  },
  "cells": [
    {
      "cell_type": "code",
      "source": [
        "# #assignment 2-\n",
        "# # create example for all topics\n",
        "# # list,tuple,set,fuction,dict"
      ],
      "metadata": {
        "id": "vAAMsaXpRixT"
      },
      "execution_count": null,
      "outputs": []
    },
    {
      "cell_type": "code",
      "source": [
        "#list-> it is a  ordered collation of datatypes\n"
      ],
      "metadata": {
        "id": "CEk9RwL7RkD-"
      },
      "execution_count": null,
      "outputs": []
    },
    {
      "cell_type": "code",
      "source": [
        "list1=[1,2,3,4,\"data\",\"dance\",\"hello\",22.0]\n",
        "list2=[\"name\",\"cat\",\"dog\",50,66,2.3]\n",
        "print(\"conacatinate the both list\",(list1+list2))\n",
        "print(\"printing given list are \",(list1,list2))"
      ],
      "metadata": {
        "colab": {
          "base_uri": "https://localhost:8080/"
        },
        "id": "hUY-mKQaRi0T",
        "outputId": "c5e27839-18e2-4297-9f9e-a572274a9562"
      },
      "execution_count": null,
      "outputs": [
        {
          "output_type": "stream",
          "name": "stdout",
          "text": [
            "conacatinate the both list [1, 2, 3, 4, 'data', 'dance', 'hello', 22.0, 'name', 'cat', 'dog', 50, 66, 2.3]\n",
            "printing given list are  ([1, 2, 3, 4, 'data', 'dance', 'hello', 22.0], ['name', 'cat', 'dog', 50, 66, 2.3])\n"
          ]
        }
      ]
    },
    {
      "cell_type": "code",
      "source": [
        "# #appent list, value given by user \n",
        "list1=[1,2,3,4,\"data\",\"dance\",\"hello\",22.0]\n",
        "print(list1)  \n",
        "a=input(\"enter the values:\")\n",
        "list1.append(a)\n",
        "print(list1)\n",
        "\n",
        "# list1=[1,2,3,4,\"data\",\"dance\",\"hello\",22.0]\n",
        "# print(list1)\n",
        "# a=input(\"enter the values:\")\n",
        "# list1.remove(a)\n",
        "# print(list1)\n",
        "\n",
        "\n",
        "\n",
        "\n",
        "# #update list ,index value given by user\n",
        "list1=[1,2,3,4,\"data\",\"dance\",\"hello\",22.0]\n",
        "print(list1)\n",
        "a=int(input(\"enter the values:\"))\n",
        "list1[a]=\"yes\"\n",
        "print(list1)\n",
        "\n",
        "# # update list with user \n",
        "list1=[1,2,3,4,\"data\",\"dance\",\"hello\",22.0]\n",
        "print(list1)\n",
        "a=int(input(\"enter the index values:\"))\n",
        "b=input(\"enter the value:\")\n",
        "list1[a]=b\n",
        "print(list1)\n",
        "\n",
        "#remove enterie from the list\n",
        "list1=[1,2,3,4,\"data\",\"dance\",\"hello\",22.0]\n",
        "print(list1)\n",
        "a=input(\"enter values:\")\n",
        "list1.remove(a)\n",
        "print(list1)"
      ],
      "metadata": {
        "colab": {
          "base_uri": "https://localhost:8080/"
        },
        "id": "xJFVjcCERi3N",
        "outputId": "79a21c1b-d44e-4e97-c74c-70f947afb9a3"
      },
      "execution_count": null,
      "outputs": [
        {
          "output_type": "stream",
          "name": "stdout",
          "text": [
            "[1, 2, 3, 4, 'data', 'dance', 'hello', 22.0]\n",
            "enter values:dance\n",
            "[1, 2, 3, 4, 'data', 'hello', 22.0]\n"
          ]
        }
      ]
    },
    {
      "cell_type": "code",
      "source": [
        "\n"
      ],
      "metadata": {
        "id": "cYSWlAbFRi62"
      },
      "execution_count": null,
      "outputs": []
    },
    {
      "cell_type": "code",
      "source": [],
      "metadata": {
        "id": "ppC6XzA2Ri-T"
      },
      "execution_count": null,
      "outputs": []
    },
    {
      "cell_type": "code",
      "source": [],
      "metadata": {
        "id": "GEzPiTs6V8zt"
      },
      "execution_count": null,
      "outputs": []
    },
    {
      "cell_type": "code",
      "execution_count": null,
      "metadata": {
        "colab": {
          "base_uri": "https://localhost:8080/"
        },
        "id": "c4FlzqJgVnBg",
        "outputId": "27c624ac-535f-4b69-af3b-8078c623e634"
      },
      "outputs": [
        {
          "output_type": "stream",
          "name": "stdout",
          "text": [
            "enter the values:75725758752876876789675777\n",
            "enter the values:876387687527858752728767\n",
            "display the valid list [1, 2, 3, 4, 'data', 'dance', 'hello', 22.0, 66365122599726275210221038305871643999231950976959]\n"
          ]
        }
      ],
      "source": [
        "def append():\n",
        "    list1=[1,2,3,4,\"data\",\"dance\",\"hello\",22.0]\n",
        "    a=int(input(\"enter the values:\"))\n",
        "    b=int(input(\"enter the values:\"))\n",
        "    c=list1.append(a*b)\n",
        "    print(\"display the valid list\",list1) \n",
        "append()"
      ]
    },
    {
      "cell_type": "code",
      "source": [
        "#insert operation\n",
        "def insert():\n",
        "    list1=[1,2,3,4,\"data\",\"dance\",\"hello\",22.0]\n",
        "    a=int(input(\"enter the index value:\"))\n",
        "    b=input(\"enter value:\")\n",
        "    c=list1.insert(a,b)\n",
        "    print(\"insered values :\",list1)\n",
        "insert()    "
      ],
      "metadata": {
        "colab": {
          "base_uri": "https://localhost:8080/"
        },
        "id": "Y6radP_deXHh",
        "outputId": "0d39607b-a9b5-4c50-88b2-0046ae4c80c0"
      },
      "execution_count": null,
      "outputs": [
        {
          "output_type": "stream",
          "name": "stdout",
          "text": [
            "enter the index value:5\n",
            "enter value:6\n",
            "insered values : [1, 2, 3, 4, 'data', '6', 'dance', 'hello', 22.0]\n"
          ]
        }
      ]
    },
    {
      "cell_type": "code",
      "source": [
        "# add\n",
        "def add():\n",
        "    list1=[1,2,3,4,\"data\",\"dance\",\"hello\",22.0]\n",
        "    a=int(input(\"enter the values:\"))\n",
        "    b=int(input(\"enter the values:\"))\n",
        "    c=list1.append(a+b)\n",
        "    print(\"display the valid list\",list1)\n",
        "add()    \n",
        "\n",
        "# concatination\n",
        "def add():\n",
        "    list1=[1,2,3,4,\"data\",\"dance\",\"hello\",22.0]\n",
        "    a=input(\"enter the values:\")\n",
        "    b=input(\"enter the values:\")\n",
        "    c=list1.append(a+b)\n",
        "    print(\"display the valid list\",list1)\n",
        "add() \n"
      ],
      "metadata": {
        "colab": {
          "base_uri": "https://localhost:8080/"
        },
        "id": "hv0DwApbfCEI",
        "outputId": "5ce423b7-8741-431f-df67-60e78e55052e"
      },
      "execution_count": null,
      "outputs": [
        {
          "output_type": "stream",
          "name": "stdout",
          "text": [
            "enter the values:5\n",
            "enter the values:4\n",
            "display the valid list [1, 2, 3, 4, 'data', 'dance', 'hello', 22.0, '54']\n"
          ]
        }
      ]
    },
    {
      "cell_type": "code",
      "source": [
        "#insert operation using funtion\n",
        "def insert():\n",
        "    list1=[1,2,3,4,\"data\",\"dance\",\"hello\",22.0]\n",
        "    a=int(input(\"enter the index value:\"))\n",
        "    b=input(\"enter value:\")\n",
        "    c=list1.insert(a,b)\n",
        "    print(\"insered values :\",list1)\n",
        "insert()    "
      ],
      "metadata": {
        "id": "Te4-L42gqK6l"
      },
      "execution_count": null,
      "outputs": []
    },
    {
      "cell_type": "code",
      "source": [
        "# remove opreration with funtion\n",
        "def pop():\n",
        "    list1=[1,2,3,4,\"data\",\"dance\",\"hello\",22.0]\n",
        "    a=int(input(\"enter the index value:\"))\n",
        "    c=list1.pop(a)\n",
        "    print(\"insered values:\",list1)\n",
        "pop()"
      ],
      "metadata": {
        "colab": {
          "base_uri": "https://localhost:8080/"
        },
        "id": "J6gMnF9HqLGZ",
        "outputId": "cac3be56-b20c-42b9-f4eb-280962632f86"
      },
      "execution_count": null,
      "outputs": [
        {
          "output_type": "stream",
          "name": "stdout",
          "text": [
            "enter the index value:1\n",
            "insered values: [1, 3, 4, 'data', 'dance', 'hello', 22.0]\n"
          ]
        }
      ]
    },
    {
      "cell_type": "code",
      "source": [
        "# remove opreration with funtion\n",
        "def remove():\n",
        "    list1=[1,2,3,4,\"data\",\"dance\",\"hello\",22.0]\n",
        "    a=str(input(\"enter the value:\"))\n",
        "    c=list1.remove(a)\n",
        "    print(\"insered values:\",list1)\n",
        "remove()"
      ],
      "metadata": {
        "id": "5bNrxA3tqbuy"
      },
      "execution_count": null,
      "outputs": []
    },
    {
      "cell_type": "code",
      "source": [
        "# tuple -> it is orderd collection of datatype but it can be inmutable,()\n",
        "\n",
        "mytuple=(\"hey\",\"name\",\"king\",2,5,8,20.5)\n",
        "print(mytuple)\n",
        "\n",
        "\n",
        "#append data using converting tuple into list\n",
        "mytuble=(\"hey\",\"name\",\"king\",2,5,8,20.5)\n",
        "x=list(mytuple)\n",
        "x.append(10)\n",
        "y=tuple(x)\n",
        "print(y)\n",
        "\n",
        "#append data using converting tuple into list\n",
        "mytuble=(\"hey\",\"name\",\"king\",2,5,8,20.5)\n",
        "x=list(mytuple)\n",
        "x[2]=\"done\"\n",
        "y=tuple(x)\n",
        "print(y)\n",
        "\n",
        "#insert data using converting tuple into list\n",
        "mytuble=(\"hey\",\"name\",\"king\",2,5,8,20.5)\n",
        "x=list(mytuple)\n",
        "x.insert(5,\"name\")\n",
        "y=tuple(x)\n",
        "print(y)\n",
        "\n",
        "#remove data using converting tuple into list\n",
        "mytuble=(\"hey\",\"name\",\"king\",2,5,8,20.5)\n",
        "x=list(mytuple)\n",
        "x.remove(\"name\")\n",
        "y=tuple(x)\n",
        "print(y)\n",
        "\n",
        "# data using converting tuple into list\n",
        "mytuble=(\"hey\",\"name\",\"king\",2,5,8,20.5)\n",
        "x=list(mytuple)\n",
        "del x\n",
        "y=x\n",
        "print(y)\n"
      ],
      "metadata": {
        "colab": {
          "base_uri": "https://localhost:8080/"
        },
        "id": "MEt1N6y7lkeT",
        "outputId": "7d97cf59-085d-4208-e9b4-9817a7642bd1"
      },
      "execution_count": null,
      "outputs": [
        {
          "output_type": "stream",
          "name": "stdout",
          "text": [
            "('hey', 'name', 'king', 2, 5, 8, 20.5)\n",
            "('hey', 'name', 'king', 2, 5, 8, 20.5, 10)\n",
            "('hey', 'name', 'done', 2, 5, 8, 20.5)\n",
            "('hey', 'name', 'king', 2, 5, 'name', 8, 20.5)\n",
            "('hey', 'king', 2, 5, 8, 20.5)\n"
          ]
        }
      ]
    },
    {
      "cell_type": "code",
      "source": [
        "# operation using function\n",
        "def tuple1():\n",
        "  mytuble=(\"hey\",\"name\",\"king\",2,5,8,20.5)\n",
        "  x=list(mytuple)\n",
        "  a=int(input(\"enter index value :\"))\n",
        "  b=input(\"enter value\")\n",
        "  x[a]=b\n",
        "  y=tuple(x)\n",
        "  print(y)\n",
        "tuple1()  \n",
        "\n",
        "\n",
        "# operation using function\n",
        "def tuple2():\n",
        "  mytuble=(\"hey\",\"name\",\"king\",2,5,8,20.5)\n",
        "  x=list(mytuple)\n",
        "  a=int(input(\"enter index value :\"))\n",
        "  b=input(\"enter value\")\n",
        "  x.insert(a,b)\n",
        "  y=tuple(x)\n",
        "  print(y)\n",
        "tuple2()  \n",
        "\n",
        "# operation using function\n",
        "def tuple3():\n",
        "  mytuble=(\"hey\",\"name\",\"king\",2,5,8,20.5)\n",
        "  x=list(mytuple)\n",
        "  # a=int(input(\"enter index value :\"))\n",
        "  b=input(\"enter value\")\n",
        "  x.append(b)\n",
        "  y=tuple(x)\n",
        "  print(y)\n",
        "tuple3()  \n",
        "\n",
        "# operation using function\n",
        "def tuple4():\n",
        "  mytuble=(\"hey\",\"name\",\"king\",2,5,8,20.5)\n",
        "  x=list(mytuple)\n",
        "  a=int(input(\"enter index value :\"))\n",
        "  b=input(\"enter value:\")\n",
        "  x.remove(a)\n",
        "  x.remove(b)\n",
        "  y=tuple(x)\n",
        "  print(y)\n",
        "tuple4()  \n"
      ],
      "metadata": {
        "colab": {
          "base_uri": "https://localhost:8080/"
        },
        "id": "-CXPktzat-kS",
        "outputId": "7b825b60-1306-450b-da2b-aae3080af48b"
      },
      "execution_count": null,
      "outputs": [
        {
          "output_type": "stream",
          "name": "stdout",
          "text": [
            "enter index value :2\n",
            "enter valuename\n",
            "('hey', 'king', 5, 8, 20.5)\n"
          ]
        }
      ]
    },
    {
      "cell_type": "code",
      "source": [
        "# operation using function\n",
        "def tuple1():\n",
        "  mytuble=(\"hey\",\"name\",\"king\",2,5,8,20.5)\n",
        "  x=list(mytuple)\n",
        "  a=int(input(\"enter index value :\"))\n",
        "  b=input(\"enter value\")\n",
        "  x[a]=b\n",
        "  y=tuple(x)\n",
        "  print(y)\n",
        "tuple1()  "
      ],
      "metadata": {
        "colab": {
          "base_uri": "https://localhost:8080/"
        },
        "outputId": "2b9b0197-f9b0-4b4e-db4b-c51095b313eb",
        "id": "VwVxGIimxLVr"
      },
      "execution_count": null,
      "outputs": [
        {
          "output_type": "stream",
          "name": "stdout",
          "text": [
            "enter index value :6\n",
            "enter valueggg\n",
            "('hey', 'name', 'king', 2, 5, 8, 'ggg')\n"
          ]
        }
      ]
    },
    {
      "cell_type": "code",
      "source": [
        "#dictionary-> tha data are stored in terms of key and value pair,\n",
        "\n",
        "mydist={\n",
        "    \"Brand\":\"acer\",\n",
        "    \"vehicale\":\"cycle\",\n",
        "    \"year\": 2000,\n",
        "    \"name\":\"raja\",\n",
        "    \"salary\": 55000.20\n",
        "}\n",
        "print(mydist)\n",
        "print(len(mydist))\n",
        "\n",
        "\n",
        "for i in range (len(mydist)):\n",
        "  print(i)\n",
        "\n",
        "\n",
        "#update \n",
        "mydist={\n",
        "    \"Brand\":\"acer\",\n",
        "    \"vehicale\":\"cycle\",\n",
        "    \"year\": 2000,\n",
        "    \"name\":\"raja\",\n",
        "    \"salary\": 55000.20\n",
        "}\n",
        "print(mydist)\n",
        "a=input(\"enter key :\")\n",
        "b=input(\"enter value:\")\n",
        "# c=list(b)\n",
        "mydist[a]=b\n",
        "print(mydist)  \n",
        "\n",
        "#pop \n",
        "mydist={\n",
        "    \"Brand\":\"acer\",\n",
        "    \"vehicale\":\"cycle\",\n",
        "    \"year\": 2000,\n",
        "    \"name\":\"raja\",\n",
        "    \"salary\": 55000.20\n",
        "}\n",
        "print(mydist)\n",
        "b=input(\"enter value:\")\n",
        "mydist.pop(b)\n",
        "print(mydist)  \n",
        "\n",
        "#del\n",
        "mydist={\n",
        "    \"Brand\":\"acer\",\n",
        "    \"vehicale\":\"cycle\",\n",
        "    \"year\": 2000,\n",
        "    \"name\":\"raja\",\n",
        "    \"salary\": 55000.20\n",
        "}\n",
        "print(mydist)\n",
        "b=input(\"enter value:\")\n",
        "del mydist[b]\n",
        "print(mydist)  \n",
        "\n",
        "\n",
        "\n"
      ],
      "metadata": {
        "id": "HlR8VrXFnach",
        "colab": {
          "base_uri": "https://localhost:8080/"
        },
        "outputId": "6c915c97-fd44-4a1c-92bb-17f6258d1379"
      },
      "execution_count": null,
      "outputs": [
        {
          "output_type": "stream",
          "name": "stdout",
          "text": [
            "{'Brand': 'acer', 'vehicale': 'cycle', 'year': 2000, 'name': 'raja', 'salary': 55000.2}\n",
            "enter value:year\n",
            "{'Brand': 'acer', 'vehicale': 'cycle', 'name': 'raja', 'salary': 55000.2}\n",
            "{'Brand': 'acer', 'vehicale': 'cycle', 'year': 2000, 'name': 'raja', 'salary': 55000.2}\n",
            "enter value:name\n",
            "{'Brand': 'acer', 'vehicale': 'cycle', 'year': 2000, 'salary': 55000.2}\n"
          ]
        }
      ]
    },
    {
      "cell_type": "code",
      "source": [],
      "metadata": {
        "id": "G8ZPpOGUSP_z"
      },
      "execution_count": null,
      "outputs": []
    },
    {
      "cell_type": "code",
      "source": [
        "\n",
        "# #sets-> set is unoreded collection of datattypes,{},no dublicate values,mutable\n",
        "set1={\"rome\",\"india\",\"raw\",22,856,True,65.3}\n",
        "print(set1)\n",
        "print(type(set1))\n",
        "\n",
        "#add\n",
        "set1={\"rome\",\"india\",\"raw\",22,856,True,65.3}\n",
        "print(set1)\n",
        "a=input(\"enter value\")\n",
        "set1.add(a)\n",
        "print(set1)\n",
        "\n",
        "#remove\n",
        "set1={\"rome\",\"india\",\"raw\",22,856,True,65.3}\n",
        "print(set1)\n",
        "a=input(\"enter value\")\n",
        "set1.remove(a)\n",
        "print(set1)\n",
        "\n",
        "add\n",
        "set1={\"rome\",\"india\",\"raw\",22,856,True,65.3}\n",
        "set2={\"doller\",\"rupees\",\"danger\",True,55,96.36}\n",
        "# print(set1,set2)\n",
        "a=set1.union(set2)\n",
        "b=set1.intersection(set2)\n",
        "print(a,b)\n",
        "\n",
        "\n",
        "def sets():\n",
        "  set1={\"rome\",\"india\",\"raw\",22,856,True,65.3}\n",
        "  print(set1)\n",
        "  a=input(\"enter value\")\n",
        "  set1.add(a)\n",
        "  print(set1)\n",
        "sets()  \n",
        "\n",
        "\n",
        "# indexing with user input\n",
        "s=\"welcome\"\n",
        "for i in range(len(s)):\n",
        "  print(s[i])\n",
        "  print(i)\n",
        "#slicing\n",
        "a=int(input(\"enter the inclusive index no:\"))\n",
        "b=int(input(\"enter the exclusive index no:\"))\n",
        "print(s[a:b])\n",
        "\n",
        "\n",
        "#start,stop,step\n",
        "s=\"welcome\"\n",
        "a=int(input(\"enter the start index no:\"))\n",
        "b=int(input(\"enter the stop index no:\"))\n",
        "c=int(input(\"enter step index no:\"))\n",
        "print(s[a:b:c])\n",
        "\n",
        "\n"
      ],
      "metadata": {
        "id": "3E0O4pctnkFk",
        "colab": {
          "base_uri": "https://localhost:8080/"
        },
        "outputId": "471ef174-7fae-4337-8f4f-9c2d06fe3728"
      },
      "execution_count": 38,
      "outputs": [
        {
          "output_type": "stream",
          "name": "stdout",
          "text": [
            "enter the start index no:1\n",
            "enter the stop index no:2\n",
            "enter step index no:3\n",
            "e\n"
          ]
        }
      ]
    },
    {
      "cell_type": "code",
      "source": [
        "# function\n",
        "\n",
        "# def addition(a,b):\n",
        "#   list2=[\"rome\",\"india\",\"raw\",22,856,True,65.3]\n",
        "#   a=int(input(\"enter 1st number\"))\n",
        "#   b=int(input(\"enter 2st number\"))\n",
        "#   print(\"additon of two numbers\",a+b)\n",
        "# addition(a,b)\n",
        "\n",
        "\n",
        "def div(a,b):\n",
        "  list2=[\"rome\",\"india\",\"raw\",22,856,True,65.3]\n",
        "  a=int(input(\"enter 1st number\"))\n",
        "  b=int(input(\"enter 2st number\"))\n",
        "  print(\"additon of two numbers\",a/b)\n",
        "  c=a/b\n",
        "  list2.append(c)\n",
        "  print(list2)\n",
        "div(a,b)\n",
        "\n",
        "\n",
        "\n"
      ],
      "metadata": {
        "id": "UOXCNZLaEP-d",
        "colab": {
          "base_uri": "https://localhost:8080/"
        },
        "outputId": "f16db9ea-9702-4ef3-b3e3-f334d552933e"
      },
      "execution_count": 65,
      "outputs": [
        {
          "output_type": "stream",
          "name": "stdout",
          "text": [
            "enter 1st number52\n",
            "enter 2st number5\n",
            "additon of two numbers 10.4\n",
            "['rome', 'india', 'raw', 22, 856, True, 65.3, 10.4]\n"
          ]
        }
      ]
    },
    {
      "cell_type": "code",
      "source": [
        "def addition(a,b):\n",
        "  list2=[\"AttributeError\",\"rome\",\"india\",\"raw\",22,856,True,65.3]\n",
        "  a=int(input(\"enter 1st number\"))\n",
        "  b=int(input(\"enter 2st number\"))\n",
        "  c=a+b\n",
        "  print(\"additon of two numbers\",c)\n",
        "  list2.append(c)\n",
        "  for i in list2:\n",
        "    print(i)\n",
        "    if i==22:\n",
        "      break\n",
        "  print(list2)\n",
        "addition(a,b)"
      ],
      "metadata": {
        "colab": {
          "base_uri": "https://localhost:8080/"
        },
        "id": "k5Erq49YtzAE",
        "outputId": "1f1f15e6-6c6a-4142-eed2-850f8172df20"
      },
      "execution_count": 59,
      "outputs": [
        {
          "output_type": "stream",
          "name": "stdout",
          "text": [
            "enter 1st number65\n",
            "enter 2st number555\n",
            "additon of two numbers 620\n",
            "AttributeError\n",
            "rome\n",
            "india\n",
            "raw\n",
            "22\n",
            "['AttributeError', 'rome', 'india', 'raw', 22, 856, True, 65.3, 620]\n"
          ]
        }
      ]
    },
    {
      "cell_type": "code",
      "source": [
        "5"
      ],
      "metadata": {
        "id": "fczVRQWn7RXH"
      },
      "execution_count": null,
      "outputs": []
    }
  ]
}