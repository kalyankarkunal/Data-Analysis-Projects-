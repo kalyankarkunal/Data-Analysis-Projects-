{
  "nbformat": 4,
  "nbformat_minor": 0,
  "metadata": {
    "colab": {
      "provenance": [],
      "collapsed_sections": [],
      "authorship_tag": "ABX9TyOb0myAzDp5UTqO5beHVjB3",
      "include_colab_link": true
    },
    "kernelspec": {
      "name": "python3",
      "display_name": "Python 3"
    },
    "language_info": {
      "name": "python"
    }
  },
  "cells": [
    {
      "cell_type": "markdown",
      "metadata": {
        "id": "view-in-github",
        "colab_type": "text"
      },
      "source": [
        "<a href=\"https://colab.research.google.com/github/kalyankarkunal/Technook-ASSINGMENT/blob/main/assingment%203.ipynb\" target=\"_parent\"><img src=\"https://colab.research.google.com/assets/colab-badge.svg\" alt=\"Open In Colab\"/></a>"
      ]
    },
    {
      "cell_type": "code",
      "execution_count": 11,
      "metadata": {
        "colab": {
          "base_uri": "https://localhost:8080/"
        },
        "id": "33-lTFDN6S85",
        "outputId": "25b1d003-68b7-4c3b-8fc4-bda5d3bb0e0b"
      },
      "outputs": [
        {
          "output_type": "stream",
          "name": "stdout",
          "text": [
            "\n"
          ]
        }
      ],
      "source": [
        "\n",
        "# file=open('/content/output.txt','w+')\n",
        "\n",
        "# # x=input(\"enter your value:\")\n",
        "# # y=input(\"enter your value:\")\n",
        "# # file.writelines(x)\n",
        "# # file.writelines(y)\n",
        "\n",
        "\n",
        "# Assingment 3\n",
        "#create a simple calculator\n",
        "#ask user  for input\n",
        "#ask for opration\n",
        "#stored in file\n",
        "\n",
        "#file r+ ,w+ ,a+s\n",
        "\n",
        "\n",
        "x=int(input(\"enter your value:\"))\n",
        "y=int(input(\"enter your value:\"))\n",
        "\n",
        "def add(x,y):\n",
        "    print(\"additon of two number\"   ,(x+y))\n",
        "add(x,y)\n",
        "\n",
        "def sub(x,y):\n",
        "    print(\"subtraction of two number\",(x-y))\n",
        "sub(x,y) \n",
        "\n",
        "def mul(x,y):\n",
        "    print(\"multiplication of two number\",(x*y))\n",
        "mul(x,y) \n",
        "\n",
        "def div(x,y):\n",
        "    print(\"divion of two number\",(x/y))\n",
        "div(x,y) \n",
        "\n",
        "def mod(x,y):\n",
        "    print(\"Modulus of two number\",(x%y))\n",
        "mod(x,y) \n",
        "\n",
        "\n",
        "\n",
        "print(\"operation are :+,-,*,/,%\")\n",
        "put=input(\"select operation:\")\n",
        "print(put)\n",
        "while True:\n",
        "    if put ==\"add\":\n",
        "        print(x+y)\n",
        "        break\n",
        "    elif put ==\"sub\":\n",
        "        print(x-y) \n",
        "        break\n",
        "    elif put ==\"mul\":\n",
        "        print(x*y)\n",
        "        break\n",
        "    elif put ==\"div\":\n",
        "        print(x/y)\n",
        "        break\n",
        "    elif put ==\"mod\":\n",
        "        print(x%y)\n",
        "        break\n",
        "    else:\n",
        "        print(\"inavlid operation\")\n",
        "    \n"
      ]
    },
    {
      "cell_type": "code",
      "source": [],
      "metadata": {
        "id": "DQqEBOB08oFy"
      },
      "execution_count": 7,
      "outputs": []
    }
  ]
}